{
 "cells": [
  {
   "cell_type": "code",
   "execution_count": 1,
   "id": "56b8ff09-41a9-4f2e-8b0f-8c7a8fbe3627",
   "metadata": {},
   "outputs": [],
   "source": [
    "import pandas as pd\n",
    "import numpy as np\n",
    "import xgboost as xgb"
   ]
  },
  {
   "cell_type": "code",
   "execution_count": 2,
   "id": "394212e1-048a-4367-a23a-6e34c1a2efb9",
   "metadata": {},
   "outputs": [],
   "source": [
    "model = xgb.XGBRegressor()"
   ]
  },
  {
   "cell_type": "code",
   "execution_count": 3,
   "id": "774e89cb-5909-4e16-8b31-4b92c7d882be",
   "metadata": {},
   "outputs": [],
   "source": [
    "model.load_model(\"Model/model_regr.model\")"
   ]
  },
  {
   "cell_type": "code",
   "execution_count": 4,
   "id": "374f87d0-d9a7-4181-9f32-dba46cb1c160",
   "metadata": {},
   "outputs": [],
   "source": [
    "data = pd.read_csv(\"data/Generate data.csv\")"
   ]
  },
  {
   "cell_type": "code",
   "execution_count": 5,
   "id": "024c9476-96cf-4880-926b-dfc08ae6aba2",
   "metadata": {},
   "outputs": [
    {
     "name": "stderr",
     "output_type": "stream",
     "text": [
      "IProgress not found. Please update jupyter and ipywidgets. See https://ipywidgets.readthedocs.io/en/stable/user_install.html\n"
     ]
    }
   ],
   "source": [
    "import shap"
   ]
  },
  {
   "cell_type": "code",
   "execution_count": 6,
   "id": "f0e274d9-026d-4ee4-aa13-2615dcb2b305",
   "metadata": {},
   "outputs": [
    {
     "name": "stderr",
     "output_type": "stream",
     "text": [
      "[18:29:46] WARNING: C:\\buildkite-agent\\builds\\buildkite-windows-cpu-autoscaling-group-i-07f6e447eee219473-1\\xgboost\\xgboost-ci-windows\\src\\c_api\\c_api.cc:1240: Saving into deprecated binary model format, please consider using `json` or `ubj`. Model format will default to JSON in XGBoost 2.2 if not specified.\n"
     ]
    }
   ],
   "source": [
    "explainer = shap.Explainer(model)"
   ]
  },
  {
   "cell_type": "code",
   "execution_count": 7,
   "id": "c7551b15-4854-41a6-8840-14cf2180ab30",
   "metadata": {},
   "outputs": [],
   "source": [
    "explanation = explainer(data.iloc[:,:-1])"
   ]
  },
  {
   "cell_type": "code",
   "execution_count": 8,
   "id": "b5f80588-33f4-4ee9-9a75-8668fc102ad2",
   "metadata": {},
   "outputs": [],
   "source": [
    "shap_values = explanation.values\n",
    "# make sure the SHAP values add up to marginal predictions\n",
    "# np.abs(shap_values.sum(axis=1) + explanation.base_values - pred).max()"
   ]
  },
  {
   "cell_type": "code",
   "execution_count": 9,
   "id": "bfcbf591-204b-40ed-9ad7-054eb4e7be9e",
   "metadata": {},
   "outputs": [],
   "source": [
    "Shap_df = pd.DataFrame(shap_values).assign(y = data.iloc[:,-1])"
   ]
  },
  {
   "cell_type": "markdown",
   "id": "5f04cf35-ca2e-4e5c-96b4-7b0a5b865f90",
   "metadata": {},
   "source": [
    "----"
   ]
  },
  {
   "cell_type": "code",
   "execution_count": 10,
   "id": "844679eb-07a2-4afc-b864-75df707dc458",
   "metadata": {},
   "outputs": [],
   "source": [
    "from sklearn.model_selection import train_test_split"
   ]
  },
  {
   "cell_type": "code",
   "execution_count": 11,
   "id": "9ce400b0-5325-49c0-9096-90beeca5ce7d",
   "metadata": {},
   "outputs": [],
   "source": [
    "Shap_df_train, Shap_df_test = train_test_split(Shap_df, test_size = 0.1)"
   ]
  },
  {
   "cell_type": "code",
   "execution_count": 12,
   "id": "cdd81844-ce8f-4378-8cbf-02bb7c80d56b",
   "metadata": {},
   "outputs": [],
   "source": [
    "from sklearn.neighbors import NearestNeighbors\n",
    "\n",
    "nbrs = NearestNeighbors(n_neighbors=5).fit(Shap_df_train.iloc[:,:-1])"
   ]
  },
  {
   "cell_type": "code",
   "execution_count": 13,
   "id": "0b6bcb81-f0d5-42df-9085-d4d0d4cfcfe7",
   "metadata": {},
   "outputs": [],
   "source": [
    "distances, indices = nbrs.kneighbors(Shap_df_test.iloc[:,:-1])"
   ]
  },
  {
   "cell_type": "code",
   "execution_count": null,
   "id": "70383c66-dfc8-414a-a804-fafae689bd56",
   "metadata": {},
   "outputs": [],
   "source": []
  },
  {
   "cell_type": "markdown",
   "id": "a504019f-ed71-4581-b853-54181f6c349d",
   "metadata": {},
   "source": [
    "--------"
   ]
  },
  {
   "cell_type": "code",
   "execution_count": 14,
   "id": "5b337103-012e-416e-bf94-ece7701bc0af",
   "metadata": {},
   "outputs": [
    {
     "data": {
      "text/html": [
       "<div>\n",
       "<style scoped>\n",
       "    .dataframe tbody tr th:only-of-type {\n",
       "        vertical-align: middle;\n",
       "    }\n",
       "\n",
       "    .dataframe tbody tr th {\n",
       "        vertical-align: top;\n",
       "    }\n",
       "\n",
       "    .dataframe thead th {\n",
       "        text-align: right;\n",
       "    }\n",
       "</style>\n",
       "<table border=\"1\" class=\"dataframe\">\n",
       "  <thead>\n",
       "    <tr style=\"text-align: right;\">\n",
       "      <th></th>\n",
       "      <th>0</th>\n",
       "      <th>1</th>\n",
       "      <th>2</th>\n",
       "      <th>y</th>\n",
       "    </tr>\n",
       "  </thead>\n",
       "  <tbody>\n",
       "    <tr>\n",
       "      <th>56</th>\n",
       "      <td>-3.380192</td>\n",
       "      <td>-2.0038</td>\n",
       "      <td>-55.885674</td>\n",
       "      <td>-32.753844</td>\n",
       "    </tr>\n",
       "    <tr>\n",
       "      <th>56</th>\n",
       "      <td>-3.380192</td>\n",
       "      <td>-2.0038</td>\n",
       "      <td>-55.885674</td>\n",
       "      <td>-32.753844</td>\n",
       "    </tr>\n",
       "  </tbody>\n",
       "</table>\n",
       "</div>"
      ],
      "text/plain": [
       "           0       1          2          y\n",
       "56 -3.380192 -2.0038 -55.885674 -32.753844\n",
       "56 -3.380192 -2.0038 -55.885674 -32.753844"
      ]
     },
     "execution_count": 14,
     "metadata": {},
     "output_type": "execute_result"
    }
   ],
   "source": [
    "Shap_df_test.iloc[[0,0]]"
   ]
  },
  {
   "cell_type": "code",
   "execution_count": 15,
   "id": "f2a27445-cc36-43e5-96cd-af49b22762f2",
   "metadata": {},
   "outputs": [
    {
     "data": {
      "text/html": [
       "<div>\n",
       "<style scoped>\n",
       "    .dataframe tbody tr th:only-of-type {\n",
       "        vertical-align: middle;\n",
       "    }\n",
       "\n",
       "    .dataframe tbody tr th {\n",
       "        vertical-align: top;\n",
       "    }\n",
       "\n",
       "    .dataframe thead th {\n",
       "        text-align: right;\n",
       "    }\n",
       "</style>\n",
       "<table border=\"1\" class=\"dataframe\">\n",
       "  <thead>\n",
       "    <tr style=\"text-align: right;\">\n",
       "      <th></th>\n",
       "      <th>0</th>\n",
       "      <th>1</th>\n",
       "      <th>2</th>\n",
       "      <th>y</th>\n",
       "    </tr>\n",
       "  </thead>\n",
       "  <tbody>\n",
       "    <tr>\n",
       "      <th>786</th>\n",
       "      <td>-2.381818</td>\n",
       "      <td>-2.387261</td>\n",
       "      <td>-54.465519</td>\n",
       "      <td>-30.639635</td>\n",
       "    </tr>\n",
       "    <tr>\n",
       "      <th>626</th>\n",
       "      <td>1.179778</td>\n",
       "      <td>-1.324481</td>\n",
       "      <td>-63.273273</td>\n",
       "      <td>-34.952189</td>\n",
       "    </tr>\n",
       "    <tr>\n",
       "      <th>758</th>\n",
       "      <td>-0.654205</td>\n",
       "      <td>1.262629</td>\n",
       "      <td>-65.566711</td>\n",
       "      <td>-36.464956</td>\n",
       "    </tr>\n",
       "    <tr>\n",
       "      <th>561</th>\n",
       "      <td>7.755349</td>\n",
       "      <td>-2.363137</td>\n",
       "      <td>-50.997189</td>\n",
       "      <td>-17.008485</td>\n",
       "    </tr>\n",
       "    <tr>\n",
       "      <th>90</th>\n",
       "      <td>-0.768529</td>\n",
       "      <td>-4.069335</td>\n",
       "      <td>-43.510899</td>\n",
       "      <td>-19.897452</td>\n",
       "    </tr>\n",
       "  </tbody>\n",
       "</table>\n",
       "</div>"
      ],
      "text/plain": [
       "            0         1          2          y\n",
       "786 -2.381818 -2.387261 -54.465519 -30.639635\n",
       "626  1.179778 -1.324481 -63.273273 -34.952189\n",
       "758 -0.654205  1.262629 -65.566711 -36.464956\n",
       "561  7.755349 -2.363137 -50.997189 -17.008485\n",
       "90  -0.768529 -4.069335 -43.510899 -19.897452"
      ]
     },
     "execution_count": 15,
     "metadata": {},
     "output_type": "execute_result"
    }
   ],
   "source": [
    "Shap_df_train.iloc[indices[0]]"
   ]
  },
  {
   "cell_type": "code",
   "execution_count": 16,
   "id": "8d2ddb4e-c1f1-4002-a0da-49c5ccba4669",
   "metadata": {},
   "outputs": [],
   "source": [
    "tmp = data.loc[list(Shap_df_test.iloc[[0,0]].index) + list(Shap_df_train.iloc[indices[0]].index)]"
   ]
  },
  {
   "cell_type": "code",
   "execution_count": 17,
   "id": "58fdbb0e-2ef4-4258-9086-23e9f4e90563",
   "metadata": {},
   "outputs": [],
   "source": [
    "tmp[\"pred\"] = model.predict(tmp.iloc[:,:-1])"
   ]
  },
  {
   "cell_type": "code",
   "execution_count": 18,
   "id": "ce93ebb0-1b03-469c-a63c-e372ec5ca878",
   "metadata": {},
   "outputs": [
    {
     "data": {
      "text/html": [
       "<div>\n",
       "<style scoped>\n",
       "    .dataframe tbody tr th:only-of-type {\n",
       "        vertical-align: middle;\n",
       "    }\n",
       "\n",
       "    .dataframe tbody tr th {\n",
       "        vertical-align: top;\n",
       "    }\n",
       "\n",
       "    .dataframe thead th {\n",
       "        text-align: right;\n",
       "    }\n",
       "</style>\n",
       "<table border=\"1\" class=\"dataframe\">\n",
       "  <thead>\n",
       "    <tr style=\"text-align: right;\">\n",
       "      <th></th>\n",
       "      <th>x_1</th>\n",
       "      <th>x_2</th>\n",
       "      <th>x_3</th>\n",
       "      <th>y</th>\n",
       "      <th>pred</th>\n",
       "    </tr>\n",
       "  </thead>\n",
       "  <tbody>\n",
       "    <tr>\n",
       "      <th>56</th>\n",
       "      <td>-1.338434</td>\n",
       "      <td>0.722971</td>\n",
       "      <td>-2.662383</td>\n",
       "      <td>-32.753844</td>\n",
       "      <td>-32.747398</td>\n",
       "    </tr>\n",
       "    <tr>\n",
       "      <th>56</th>\n",
       "      <td>-1.338434</td>\n",
       "      <td>0.722971</td>\n",
       "      <td>-2.662383</td>\n",
       "      <td>-32.753844</td>\n",
       "      <td>-32.747398</td>\n",
       "    </tr>\n",
       "    <tr>\n",
       "      <th>786</th>\n",
       "      <td>-0.974718</td>\n",
       "      <td>-0.165503</td>\n",
       "      <td>-2.590036</td>\n",
       "      <td>-30.639635</td>\n",
       "      <td>-30.712332</td>\n",
       "    </tr>\n",
       "    <tr>\n",
       "      <th>626</th>\n",
       "      <td>0.149040</td>\n",
       "      <td>0.785729</td>\n",
       "      <td>-2.796491</td>\n",
       "      <td>-34.952189</td>\n",
       "      <td>-34.895729</td>\n",
       "    </tr>\n",
       "    <tr>\n",
       "      <th>758</th>\n",
       "      <td>-0.821443</td>\n",
       "      <td>-1.353560</td>\n",
       "      <td>-2.834877</td>\n",
       "      <td>-36.464956</td>\n",
       "      <td>-36.436050</td>\n",
       "    </tr>\n",
       "    <tr>\n",
       "      <th>561</th>\n",
       "      <td>0.980634</td>\n",
       "      <td>0.262317</td>\n",
       "      <td>-2.373425</td>\n",
       "      <td>-17.008485</td>\n",
       "      <td>-17.082762</td>\n",
       "    </tr>\n",
       "    <tr>\n",
       "      <th>90</th>\n",
       "      <td>-0.208626</td>\n",
       "      <td>-0.290773</td>\n",
       "      <td>-2.351458</td>\n",
       "      <td>-19.897452</td>\n",
       "      <td>-19.826509</td>\n",
       "    </tr>\n",
       "  </tbody>\n",
       "</table>\n",
       "</div>"
      ],
      "text/plain": [
       "          x_1       x_2       x_3          y       pred\n",
       "56  -1.338434  0.722971 -2.662383 -32.753844 -32.747398\n",
       "56  -1.338434  0.722971 -2.662383 -32.753844 -32.747398\n",
       "786 -0.974718 -0.165503 -2.590036 -30.639635 -30.712332\n",
       "626  0.149040  0.785729 -2.796491 -34.952189 -34.895729\n",
       "758 -0.821443 -1.353560 -2.834877 -36.464956 -36.436050\n",
       "561  0.980634  0.262317 -2.373425 -17.008485 -17.082762\n",
       "90  -0.208626 -0.290773 -2.351458 -19.897452 -19.826509"
      ]
     },
     "execution_count": 18,
     "metadata": {},
     "output_type": "execute_result"
    }
   ],
   "source": [
    "tmp"
   ]
  },
  {
   "cell_type": "code",
   "execution_count": 19,
   "id": "af30ad03-d42a-4f10-b9c8-c68d9e6c2348",
   "metadata": {},
   "outputs": [],
   "source": [
    "# interesting behaviour in x_2 since in it is linked in squere manner \n",
    "# values -1.092894,   -1.092894,   1.136824,   0.909743 have similar impact"
   ]
  },
  {
   "cell_type": "code",
   "execution_count": 20,
   "id": "a623816f-5399-42f8-97ff-80dc36d42e49",
   "metadata": {},
   "outputs": [],
   "source": [
    "# My consern is still in,\n",
    "# althrou reduced toonly 1 dimention problem"
   ]
  },
  {
   "cell_type": "markdown",
   "id": "5919c6d3-b1c8-42cb-8b9d-09217f50a457",
   "metadata": {},
   "source": [
    "----"
   ]
  },
  {
   "cell_type": "code",
   "execution_count": 21,
   "id": "f8763867-e20c-4f43-b84d-44d24db959ab",
   "metadata": {},
   "outputs": [],
   "source": [
    "data[\"pred\"] = model.predict(data.iloc[:,:-1])"
   ]
  },
  {
   "cell_type": "code",
   "execution_count": 23,
   "id": "4b29a62e-735f-4b34-aafa-b0c179dc4237",
   "metadata": {},
   "outputs": [
    {
     "data": {
      "text/html": [
       "<div>\n",
       "<style scoped>\n",
       "    .dataframe tbody tr th:only-of-type {\n",
       "        vertical-align: middle;\n",
       "    }\n",
       "\n",
       "    .dataframe tbody tr th {\n",
       "        vertical-align: top;\n",
       "    }\n",
       "\n",
       "    .dataframe thead th {\n",
       "        text-align: right;\n",
       "    }\n",
       "</style>\n",
       "<table border=\"1\" class=\"dataframe\">\n",
       "  <thead>\n",
       "    <tr style=\"text-align: right;\">\n",
       "      <th></th>\n",
       "      <th>x_1</th>\n",
       "      <th>x_2</th>\n",
       "      <th>x_3</th>\n",
       "      <th>y</th>\n",
       "      <th>pred</th>\n",
       "    </tr>\n",
       "  </thead>\n",
       "  <tbody>\n",
       "    <tr>\n",
       "      <th>56</th>\n",
       "      <td>-1.338434</td>\n",
       "      <td>0.722971</td>\n",
       "      <td>-2.662383</td>\n",
       "      <td>-32.753844</td>\n",
       "      <td>-32.747398</td>\n",
       "    </tr>\n",
       "    <tr>\n",
       "      <th>786</th>\n",
       "      <td>-0.974718</td>\n",
       "      <td>-0.165503</td>\n",
       "      <td>-2.590036</td>\n",
       "      <td>-30.639635</td>\n",
       "      <td>-30.712332</td>\n",
       "    </tr>\n",
       "    <tr>\n",
       "      <th>626</th>\n",
       "      <td>0.149040</td>\n",
       "      <td>0.785729</td>\n",
       "      <td>-2.796491</td>\n",
       "      <td>-34.952189</td>\n",
       "      <td>-34.895729</td>\n",
       "    </tr>\n",
       "    <tr>\n",
       "      <th>739</th>\n",
       "      <td>-1.232303</td>\n",
       "      <td>-0.271717</td>\n",
       "      <td>-2.673121</td>\n",
       "      <td>-35.077902</td>\n",
       "      <td>-35.096626</td>\n",
       "    </tr>\n",
       "    <tr>\n",
       "      <th>758</th>\n",
       "      <td>-0.821443</td>\n",
       "      <td>-1.353560</td>\n",
       "      <td>-2.834877</td>\n",
       "      <td>-36.464956</td>\n",
       "      <td>-36.436050</td>\n",
       "    </tr>\n",
       "  </tbody>\n",
       "</table>\n",
       "</div>"
      ],
      "text/plain": [
       "          x_1       x_2       x_3          y       pred\n",
       "56  -1.338434  0.722971 -2.662383 -32.753844 -32.747398\n",
       "786 -0.974718 -0.165503 -2.590036 -30.639635 -30.712332\n",
       "626  0.149040  0.785729 -2.796491 -34.952189 -34.895729\n",
       "739 -1.232303 -0.271717 -2.673121 -35.077902 -35.096626\n",
       "758 -0.821443 -1.353560 -2.834877 -36.464956 -36.436050"
      ]
     },
     "execution_count": 23,
     "metadata": {},
     "output_type": "execute_result"
    }
   ],
   "source": [
    "data.loc[abs(data.pred - data.iloc[56].pred).sort_values().iloc[range(5)].index]"
   ]
  },
  {
   "cell_type": "code",
   "execution_count": null,
   "id": "4b7c30da-baab-4282-814b-064cd89c43c1",
   "metadata": {},
   "outputs": [],
   "source": []
  }
 ],
 "metadata": {
  "kernelspec": {
   "display_name": "first_condaEnv",
   "language": "python",
   "name": "first_condaenv"
  },
  "language_info": {
   "codemirror_mode": {
    "name": "ipython",
    "version": 3
   },
   "file_extension": ".py",
   "mimetype": "text/x-python",
   "name": "python",
   "nbconvert_exporter": "python",
   "pygments_lexer": "ipython3",
   "version": "3.11.5"
  }
 },
 "nbformat": 4,
 "nbformat_minor": 5
}
