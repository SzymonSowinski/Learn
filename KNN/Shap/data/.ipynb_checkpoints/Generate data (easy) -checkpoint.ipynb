{
 "cells": [
  {
   "cell_type": "code",
   "execution_count": 1,
   "id": "1a22aa9e-93ca-4c5b-a6a0-819bcdf0779f",
   "metadata": {},
   "outputs": [],
   "source": [
    "import pandas as pd\n",
    "import numpy as np"
   ]
  },
  {
   "cell_type": "code",
   "execution_count": 2,
   "id": "1c60134e-2fa2-4dd7-85ba-1b509aaae7df",
   "metadata": {},
   "outputs": [],
   "source": [
    "np.random.seed(357)"
   ]
  },
  {
   "cell_type": "code",
   "execution_count": 3,
   "id": "31d7a0e0-1d2b-4993-b9a0-b2083c09061b",
   "metadata": {},
   "outputs": [],
   "source": [
    "data_size = 1000\n",
    "data = pd.DataFrame({\"x_1\": np.random.normal(size = data_size),\n",
    "                     \"x_2\": np.random.normal(size = data_size),\n",
    "                     \"x_3\": np.random.normal(size = data_size)})"
   ]
  },
  {
   "cell_type": "code",
   "execution_count": 4,
   "id": "07ade69a-9421-4248-a785-d8a716042596",
   "metadata": {},
   "outputs": [],
   "source": [
    "data[\"y\"] = \\\n",
    "3*data.x_1 + \\\n",
    "5*data.x_2**2 + \\\n",
    "2*data.x_3**3 + 7*data.x_3 + \\\n",
    "24 + \\\n",
    "np.random.normal(size = data_size, scale = 1)"
   ]
  },
  {
   "cell_type": "code",
   "execution_count": 5,
   "id": "e87f7113-bf38-451c-b151-6393b013c336",
   "metadata": {},
   "outputs": [],
   "source": [
    "data.to_csv(\"Generate data.csv\")"
   ]
  },
  {
   "cell_type": "code",
   "execution_count": 6,
   "id": "e7d1f027-afd0-48e8-9327-2d71b5b70bdf",
   "metadata": {},
   "outputs": [],
   "source": [
    "data[\"y\"] = data[\"y\"]>data[\"y\"].quantile(0.5)"
   ]
  },
  {
   "cell_type": "code",
   "execution_count": 7,
   "id": "7a65e20b-a1b4-44fb-b9e6-5e927d9c7e16",
   "metadata": {},
   "outputs": [],
   "source": [
    "data.to_csv(\"Generate data class.csv\")"
   ]
  },
  {
   "cell_type": "code",
   "execution_count": null,
   "id": "a77bdd48-0f5b-47c8-be4d-14aa3a2fc0a6",
   "metadata": {},
   "outputs": [],
   "source": []
  }
 ],
 "metadata": {
  "kernelspec": {
   "display_name": "Python 3 (ipykernel)",
   "language": "python",
   "name": "python3"
  },
  "language_info": {
   "codemirror_mode": {
    "name": "ipython",
    "version": 3
   },
   "file_extension": ".py",
   "mimetype": "text/x-python",
   "name": "python",
   "nbconvert_exporter": "python",
   "pygments_lexer": "ipython3",
   "version": "3.12.0"
  }
 },
 "nbformat": 4,
 "nbformat_minor": 5
}
