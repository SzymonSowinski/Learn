{
 "cells": [
  {
   "cell_type": "code",
   "execution_count": 1,
   "id": "d5457587-7a14-4e3b-97f9-1517cf1cc675",
   "metadata": {},
   "outputs": [],
   "source": [
    "# Uncertainty quantification for regression problem\n",
    "import numpy as np\n",
    "from sklearn.linear_model import LinearRegression\n",
    "from sklearn.datasets import make_regression\n",
    "from sklearn.model_selection import train_test_split\n",
    "\n",
    "from mapie.regression import MapieRegressor"
   ]
  },
  {
   "cell_type": "code",
   "execution_count": 23,
   "id": "b0da1c43-d0de-467f-961c-fbf51bd96127",
   "metadata": {},
   "outputs": [],
   "source": [
    "X, y = make_regression(n_samples=500, n_features=1)\n",
    "y = y + np.random.normal(size = len(y),scale=50)\n",
    "X_train, X_test, y_train, y_test = train_test_split(X, y, test_size=0.5)"
   ]
  },
  {
   "cell_type": "code",
   "execution_count": 24,
   "id": "ca67139a-850d-4f36-a956-3b8528755bd5",
   "metadata": {},
   "outputs": [
    {
     "data": {
      "application/vnd.plotly.v1+json": {
       "config": {
        "plotlyServerURL": "https://plot.ly"
       },
       "data": [
        {
         "hovertemplate": "x=%{x}<br>y=%{y}<extra></extra>",
         "legendgroup": "",
         "marker": {
          "color": "#636efa",
          "symbol": "circle"
         },
         "mode": "markers",
         "name": "",
         "orientation": "v",
         "showlegend": false,
         "type": "scatter",
         "x": [
          -0.3925613987187164,
          -1.1381909171648965,
          -0.4620668617619167,
          0.32393110655716784,
          2.527834625755695,
          -0.8412395335063726,
          -1.6013363532247145,
          -2.0906643527670745,
          0.5352346327935525,
          -0.7452561373994291,
          -2.001956590282459,
          -2.053851172630267,
          0.2367863786143504,
          2.054504182203013,
          0.7812591996798333,
          -0.16185095158767734,
          0.8347940584475991,
          0.2540471751637784,
          -0.2919779910596489,
          0.02497442205433516,
          0.10700040496342822,
          -2.528966366381125,
          1.6144393005805562,
          1.0351224772907186,
          1.330223296296348,
          0.61614782584952,
          0.6469055156526222,
          -0.0343932267874468,
          0.33339016977404956,
          0.8093621144214559,
          -1.869602007021858,
          1.3790744514444273,
          -0.8074749178563678,
          -0.746831151761085,
          -0.8833644518349436,
          0.5077906406612491,
          0.6463542855971607,
          -1.1128167039060408,
          -0.6722992375404591,
          0.5921536464051833,
          -0.8609917341986733,
          -0.7565220112639784,
          0.2334760822203528,
          1.3747413777315975,
          -1.121196859734224,
          -0.6820742415045805,
          -0.9954398255699483,
          0.3841081775154405,
          0.41764812340110186,
          0.5425892687991655,
          0.1129187589673501,
          0.018657792717378475,
          0.29669704312758827,
          0.37577750278973715,
          0.8817496611079322,
          0.8801798033218386,
          0.9942506294027167,
          -0.4063094247402031,
          1.618374779976628,
          0.3173959194465637,
          0.4525518688472513,
          -1.1754810326962282,
          -0.3849084527232779,
          2.0592250391435445,
          -0.7926360710854041,
          -1.829134054183603,
          1.4651809642880704,
          -0.3926824063184123,
          -0.5598812065419011,
          0.18535573571143282,
          -0.3248585704596899,
          -0.6179418205329064,
          0.4694916410586872,
          -1.0187043761981103,
          0.21369820655351449,
          -0.07644126529311551,
          -0.7981846340004056,
          -0.444152929859839,
          -0.6500753865467773,
          -0.3224772501479525,
          -0.32332996904233247,
          -1.0425263260359408,
          0.04884179333303723,
          -0.23296257885121774,
          0.10207908291758046,
          -0.6289452366542592,
          0.7069828715516615,
          -0.7226861620585567,
          -0.7926044234295062,
          -1.1118039493842544,
          -0.2780210457212843,
          -0.20758655456326303,
          -0.6391732255218735,
          -1.5278603149516865,
          0.9182075962474621,
          -1.2122631353861524,
          -1.3992650715564274,
          1.594448348936837,
          -0.4186964382613287,
          1.743376709785893,
          0.5281963302607363,
          0.44665626987425044,
          0.6845201777384583,
          1.8516546983105735,
          0.19123477550367723,
          2.1383233083319335,
          0.5550046574098695,
          0.35175769819928104,
          1.3554797967568042,
          0.9646898384191165,
          0.17693994836494487,
          1.363741237816571,
          -0.15110418918826618,
          -1.6431985455724725,
          1.6869335068749083,
          -0.18168629586164703,
          1.0594826365222274,
          -1.0706281887458158,
          0.8296983632745237,
          1.7708448481235581,
          -0.4847471238242301,
          -2.631775849563274,
          0.03184472696934963,
          -0.7626374954866246,
          0.1626800195027419,
          -0.23108628155095884,
          -0.4125789341514182,
          -1.820802877748419,
          0.6986201543143468,
          -0.3890663011208107,
          0.4407863533765546,
          -0.7886654033994713,
          2.0054865507917747,
          0.2874756230993486,
          0.43875169715048734,
          -0.6783320440548287,
          -0.6317058432082672,
          -2.667729428982979,
          0.3691993171636245,
          -0.9343462351749031,
          -0.3973142944160636,
          -0.9301157679322485,
          0.051840368392279915,
          -1.0305713827843337,
          1.484469741573821,
          1.228436516604004,
          0.25600522977761614,
          -3.008015126867429,
          1.1834623400406445,
          0.46853722684607557,
          -0.8587792277702772,
          -1.2121941746775098,
          -0.32058856161996624,
          -0.6461808613889728,
          -1.6625659672385136,
          0.7747350358218391,
          0.3652304389934808,
          0.029465398660599756,
          -0.30561183731881186,
          -3.044289386005403,
          -0.1664028931655594,
          -0.6744377183840801,
          -0.29229515406056555,
          -0.6603027752997473,
          -0.9895476003324807,
          -0.3370979406319059,
          1.2466481083755556,
          0.5695474052844676,
          0.40872050234618473,
          -0.6666805059724356,
          -2.49604576914017,
          0.4858192602799844,
          -1.262009784533686,
          -0.7996524409274512,
          0.8650481670780078,
          -1.0753259733480702,
          1.4187163766641444,
          0.4512358012785768,
          0.3634161082519792,
          -0.7475199003992731,
          2.1884145334843663,
          -1.4050951089858097,
          -1.1011390456076477,
          1.3103421550949519,
          0.45682464182713733,
          0.49440936309228944,
          1.0538079204221338,
          0.9268340865301237,
          -0.42466766093390385,
          0.6496340298848106,
          -0.37772441834881215,
          -0.842152079585177,
          0.7410475002124881,
          -0.3575940360558478,
          -1.7410922749319502,
          0.6569785037836179,
          -0.5512127568747803,
          0.004943696919232506,
          -1.7165218532267499,
          -2.9709718780140792,
          -0.07580703500523589,
          -0.03722933423517351,
          0.11414359394125181,
          0.8428965878235725,
          0.6323032495423206,
          0.1978464175428104,
          -1.2150851734041,
          0.0038450880664112675,
          0.8797280034302769,
          -0.36778025057517555,
          -0.36862346158317577,
          1.2205381224940013,
          -0.4161024324350142,
          -0.3996253524902369,
          0.33160695638483384,
          1.3129389165541836,
          -0.6856030907002285,
          0.4263513835297509,
          0.8544317596171542,
          -0.08599853204369409,
          -0.698726102499412,
          -0.3362631943916918,
          -0.27639186580325154,
          0.7764812755737354,
          0.3466337954484482,
          0.7534612198892423,
          0.14212814726167602,
          0.4772350302287438,
          0.20313721277016375,
          -1.928470882988174,
          -1.293063515094742,
          0.47293952589522237,
          -1.0806278909048588,
          -1.435521953391117,
          0.07930318047814265,
          -0.6899777163623889,
          1.169834844572639,
          -1.4300281283838423,
          -0.5894409473456826,
          -1.3079327529815987,
          0.018013390901922388,
          -1.852112970818212,
          -0.8693938590583986,
          0.8044794684226745,
          -0.24294013440556514,
          0.04589349392746618,
          -0.3715483587874651,
          0.432625025602819,
          -1.6914756107809068,
          -0.37621194227573024
         ],
         "xaxis": "x",
         "y": [
          -77.23216095486838,
          -30.48991632847151,
          -59.13314305223851,
          96.73525505809958,
          188.54199482157287,
          -127.85645921202098,
          -122.37871659161677,
          -187.71738961108306,
          63.701041076841605,
          -109.73788431694085,
          -120.91094472348301,
          -69.09078148920781,
          3.340437680739198,
          73.12384122603606,
          -4.759902485908178,
          40.62787584622071,
          161.89851968677834,
          6.37369621464706,
          46.97083950434211,
          3.8882405884896842,
          24.639133915028758,
          -210.9275088693199,
          118.19601899360666,
          -42.63194408170858,
          45.86706030965837,
          -3.637935783674415,
          77.28968276717127,
          31.340558831746243,
          35.89937695392108,
          55.442051438024464,
          -204.17675933462425,
          49.079162699021985,
          -49.9529647536584,
          -97.96526656664471,
          -14.662454726929283,
          -18.584947831545527,
          52.41511408171505,
          -151.83640885520543,
          -55.08984305597614,
          39.276340941476015,
          -59.11590231384676,
          -77.63121941661093,
          -30.0570540848447,
          212.5323657868197,
          -121.34490150679201,
          30.078928422200185,
          -73.30587844104463,
          3.4259886424287807,
          -71.44376032686256,
          9.954501005431226,
          84.87003713115928,
          -65.7237528945063,
          94.00017505110807,
          -13.421559513335378,
          76.39527352359343,
          53.073548481906776,
          132.47973281489195,
          44.3570599399818,
          139.11867654769821,
          85.28946139370625,
          41.7728662113949,
          -65.41144308672799,
          -79.44302840171197,
          153.35685235436821,
          -41.345821096506995,
          -187.2058327134386,
          48.59668623481569,
          32.05296646927685,
          -87.39388676754191,
          49.20586713053706,
          -40.261478803901326,
          -29.425372825724263,
          -50.38981430163016,
          -144.1275646897281,
          27.210941040847082,
          3.048324583212671,
          -90.35288877744821,
          4.079301434105062,
          -34.82167120119906,
          -6.169921493573131,
          -69.78105706271174,
          -139.38036981841415,
          -14.771268917164521,
          58.63730093340977,
          83.43961892296399,
          95.88852562430401,
          73.22745123155816,
          -32.285164229971016,
          -17.298353200326673,
          -17.59582747335878,
          12.145139106098057,
          -48.04716386337472,
          -105.3357839498415,
          -138.35178956104855,
          17.809308675162598,
          -122.48123649247923,
          -13.618759950860237,
          163.31854244467755,
          66.84608986615606,
          106.61916571376133,
          132.80677647697036,
          -76.63263906634698,
          30.425962530125755,
          120.94364238689528,
          39.159351296272675,
          24.88182113486704,
          25.809575086058526,
          69.75249584713178,
          132.69325202802284,
          67.83936320594763,
          7.876956615800948,
          72.68238590878111,
          -18.203318363699935,
          -146.67612884156583,
          50.48155678224859,
          -54.83593018977081,
          26.029570301513303,
          -123.90942636816608,
          -15.461524421164768,
          121.26855109079582,
          12.076204163530193,
          -214.801598125374,
          -82.84710725761114,
          -152.70437982382788,
          117.43045351559329,
          -10.151276472951366,
          -3.2787450154399664,
          -115.828350709542,
          31.874964142740552,
          -5.77253046706176,
          60.27636834559962,
          -78.74179415206453,
          162.66586995520018,
          37.979196557794666,
          10.018866801166336,
          -21.08161042598916,
          -16.526189619211877,
          -271.3781406783546,
          -56.47390612236382,
          -107.8391088154213,
          -81.26941928349424,
          -72.25910059424332,
          -15.332919376413784,
          -74.21070561479357,
          72.55279212414868,
          69.10073093948124,
          -28.72082125079943,
          -272.68795619479437,
          61.80206347493424,
          32.573034253424666,
          -36.81102216909454,
          -103.39709395503316,
          -64.40813395999224,
          -47.5358785072089,
          -97.43974942451881,
          -61.07788950008519,
          48.89104060857256,
          -88.57598756045354,
          -37.825918754619316,
          -235.22753686428712,
          -65.02510617825348,
          11.748598484651275,
          -102.39866675684954,
          -48.037385428069484,
          -118.61120495637455,
          -12.969354931479193,
          170.62244963854795,
          83.41085938072743,
          89.5925273422988,
          -123.55122186305023,
          -255.13497560464052,
          36.88583070382951,
          -114.08819541004719,
          -89.92888033965514,
          38.381684332901536,
          -112.15346674543436,
          3.1902882385417115,
          20.44715496420004,
          54.702285454983276,
          56.420743147989214,
          205.58013034126176,
          -141.65567447934592,
          -66.46558365300706,
          105.91880001339653,
          6.810876919984064,
          42.55639328974187,
          17.115699907324768,
          155.09701389061496,
          -0.09579498943831766,
          28.284510117456605,
          10.702206268024607,
          -58.39618407677694,
          -9.59742615622676,
          -24.75497351986855,
          -65.60247774855586,
          49.6179165934178,
          -77.41148357008313,
          -50.482095786805615,
          -127.45346335133044,
          -132.94578934107165,
          32.1357752225395,
          40.011028960588746,
          -39.785044776476894,
          75.40549782890903,
          3.6341882814931026,
          -16.142258970635353,
          -63.04995975329366,
          -68.73700513312201,
          61.03602112193207,
          -23.711251889650477,
          -48.0515100894932,
          36.663453653535626,
          63.45422547199761,
          -132.62313588631744,
          42.61861113215417,
          78.72668562108657,
          -37.971008170498266,
          39.6500188533285,
          60.39420540400634,
          24.09565041338404,
          -54.600306632399885,
          -55.61282358664937,
          69.32714694549227,
          68.97305462060643,
          110.02838418630077,
          40.030592869670805,
          116.89828165053027,
          103.76978834879586,
          41.75249436840998,
          -147.16371901785024,
          -20.060985851912363,
          44.280679246573406,
          4.100809281315165,
          -109.2478997540663,
          -24.939804552661506,
          0.9010894062980128,
          102.50294916960753,
          -54.45090545494936,
          -52.48834784694529,
          -183.5561095328842,
          71.02908514354176,
          -96.64038792483217,
          -89.2871404414377,
          61.42124730737931,
          -18.724570849158848,
          62.56362557556111,
          -80.4852163852837,
          75.90441565358276,
          -83.49437687198267,
          31.472173570750428
         ],
         "yaxis": "y"
        }
       ],
       "layout": {
        "autosize": true,
        "legend": {
         "tracegroupgap": 0
        },
        "margin": {
         "t": 60
        },
        "template": {
         "data": {
          "bar": [
           {
            "error_x": {
             "color": "#2a3f5f"
            },
            "error_y": {
             "color": "#2a3f5f"
            },
            "marker": {
             "line": {
              "color": "#E5ECF6",
              "width": 0.5
             },
             "pattern": {
              "fillmode": "overlay",
              "size": 10,
              "solidity": 0.2
             }
            },
            "type": "bar"
           }
          ],
          "barpolar": [
           {
            "marker": {
             "line": {
              "color": "#E5ECF6",
              "width": 0.5
             },
             "pattern": {
              "fillmode": "overlay",
              "size": 10,
              "solidity": 0.2
             }
            },
            "type": "barpolar"
           }
          ],
          "carpet": [
           {
            "aaxis": {
             "endlinecolor": "#2a3f5f",
             "gridcolor": "white",
             "linecolor": "white",
             "minorgridcolor": "white",
             "startlinecolor": "#2a3f5f"
            },
            "baxis": {
             "endlinecolor": "#2a3f5f",
             "gridcolor": "white",
             "linecolor": "white",
             "minorgridcolor": "white",
             "startlinecolor": "#2a3f5f"
            },
            "type": "carpet"
           }
          ],
          "choropleth": [
           {
            "colorbar": {
             "outlinewidth": 0,
             "ticks": ""
            },
            "type": "choropleth"
           }
          ],
          "contour": [
           {
            "colorbar": {
             "outlinewidth": 0,
             "ticks": ""
            },
            "colorscale": [
             [
              0,
              "#0d0887"
             ],
             [
              0.1111111111111111,
              "#46039f"
             ],
             [
              0.2222222222222222,
              "#7201a8"
             ],
             [
              0.3333333333333333,
              "#9c179e"
             ],
             [
              0.4444444444444444,
              "#bd3786"
             ],
             [
              0.5555555555555556,
              "#d8576b"
             ],
             [
              0.6666666666666666,
              "#ed7953"
             ],
             [
              0.7777777777777778,
              "#fb9f3a"
             ],
             [
              0.8888888888888888,
              "#fdca26"
             ],
             [
              1,
              "#f0f921"
             ]
            ],
            "type": "contour"
           }
          ],
          "contourcarpet": [
           {
            "colorbar": {
             "outlinewidth": 0,
             "ticks": ""
            },
            "type": "contourcarpet"
           }
          ],
          "heatmap": [
           {
            "colorbar": {
             "outlinewidth": 0,
             "ticks": ""
            },
            "colorscale": [
             [
              0,
              "#0d0887"
             ],
             [
              0.1111111111111111,
              "#46039f"
             ],
             [
              0.2222222222222222,
              "#7201a8"
             ],
             [
              0.3333333333333333,
              "#9c179e"
             ],
             [
              0.4444444444444444,
              "#bd3786"
             ],
             [
              0.5555555555555556,
              "#d8576b"
             ],
             [
              0.6666666666666666,
              "#ed7953"
             ],
             [
              0.7777777777777778,
              "#fb9f3a"
             ],
             [
              0.8888888888888888,
              "#fdca26"
             ],
             [
              1,
              "#f0f921"
             ]
            ],
            "type": "heatmap"
           }
          ],
          "heatmapgl": [
           {
            "colorbar": {
             "outlinewidth": 0,
             "ticks": ""
            },
            "colorscale": [
             [
              0,
              "#0d0887"
             ],
             [
              0.1111111111111111,
              "#46039f"
             ],
             [
              0.2222222222222222,
              "#7201a8"
             ],
             [
              0.3333333333333333,
              "#9c179e"
             ],
             [
              0.4444444444444444,
              "#bd3786"
             ],
             [
              0.5555555555555556,
              "#d8576b"
             ],
             [
              0.6666666666666666,
              "#ed7953"
             ],
             [
              0.7777777777777778,
              "#fb9f3a"
             ],
             [
              0.8888888888888888,
              "#fdca26"
             ],
             [
              1,
              "#f0f921"
             ]
            ],
            "type": "heatmapgl"
           }
          ],
          "histogram": [
           {
            "marker": {
             "pattern": {
              "fillmode": "overlay",
              "size": 10,
              "solidity": 0.2
             }
            },
            "type": "histogram"
           }
          ],
          "histogram2d": [
           {
            "colorbar": {
             "outlinewidth": 0,
             "ticks": ""
            },
            "colorscale": [
             [
              0,
              "#0d0887"
             ],
             [
              0.1111111111111111,
              "#46039f"
             ],
             [
              0.2222222222222222,
              "#7201a8"
             ],
             [
              0.3333333333333333,
              "#9c179e"
             ],
             [
              0.4444444444444444,
              "#bd3786"
             ],
             [
              0.5555555555555556,
              "#d8576b"
             ],
             [
              0.6666666666666666,
              "#ed7953"
             ],
             [
              0.7777777777777778,
              "#fb9f3a"
             ],
             [
              0.8888888888888888,
              "#fdca26"
             ],
             [
              1,
              "#f0f921"
             ]
            ],
            "type": "histogram2d"
           }
          ],
          "histogram2dcontour": [
           {
            "colorbar": {
             "outlinewidth": 0,
             "ticks": ""
            },
            "colorscale": [
             [
              0,
              "#0d0887"
             ],
             [
              0.1111111111111111,
              "#46039f"
             ],
             [
              0.2222222222222222,
              "#7201a8"
             ],
             [
              0.3333333333333333,
              "#9c179e"
             ],
             [
              0.4444444444444444,
              "#bd3786"
             ],
             [
              0.5555555555555556,
              "#d8576b"
             ],
             [
              0.6666666666666666,
              "#ed7953"
             ],
             [
              0.7777777777777778,
              "#fb9f3a"
             ],
             [
              0.8888888888888888,
              "#fdca26"
             ],
             [
              1,
              "#f0f921"
             ]
            ],
            "type": "histogram2dcontour"
           }
          ],
          "mesh3d": [
           {
            "colorbar": {
             "outlinewidth": 0,
             "ticks": ""
            },
            "type": "mesh3d"
           }
          ],
          "parcoords": [
           {
            "line": {
             "colorbar": {
              "outlinewidth": 0,
              "ticks": ""
             }
            },
            "type": "parcoords"
           }
          ],
          "pie": [
           {
            "automargin": true,
            "type": "pie"
           }
          ],
          "scatter": [
           {
            "fillpattern": {
             "fillmode": "overlay",
             "size": 10,
             "solidity": 0.2
            },
            "type": "scatter"
           }
          ],
          "scatter3d": [
           {
            "line": {
             "colorbar": {
              "outlinewidth": 0,
              "ticks": ""
             }
            },
            "marker": {
             "colorbar": {
              "outlinewidth": 0,
              "ticks": ""
             }
            },
            "type": "scatter3d"
           }
          ],
          "scattercarpet": [
           {
            "marker": {
             "colorbar": {
              "outlinewidth": 0,
              "ticks": ""
             }
            },
            "type": "scattercarpet"
           }
          ],
          "scattergeo": [
           {
            "marker": {
             "colorbar": {
              "outlinewidth": 0,
              "ticks": ""
             }
            },
            "type": "scattergeo"
           }
          ],
          "scattergl": [
           {
            "marker": {
             "colorbar": {
              "outlinewidth": 0,
              "ticks": ""
             }
            },
            "type": "scattergl"
           }
          ],
          "scattermapbox": [
           {
            "marker": {
             "colorbar": {
              "outlinewidth": 0,
              "ticks": ""
             }
            },
            "type": "scattermapbox"
           }
          ],
          "scatterpolar": [
           {
            "marker": {
             "colorbar": {
              "outlinewidth": 0,
              "ticks": ""
             }
            },
            "type": "scatterpolar"
           }
          ],
          "scatterpolargl": [
           {
            "marker": {
             "colorbar": {
              "outlinewidth": 0,
              "ticks": ""
             }
            },
            "type": "scatterpolargl"
           }
          ],
          "scatterternary": [
           {
            "marker": {
             "colorbar": {
              "outlinewidth": 0,
              "ticks": ""
             }
            },
            "type": "scatterternary"
           }
          ],
          "surface": [
           {
            "colorbar": {
             "outlinewidth": 0,
             "ticks": ""
            },
            "colorscale": [
             [
              0,
              "#0d0887"
             ],
             [
              0.1111111111111111,
              "#46039f"
             ],
             [
              0.2222222222222222,
              "#7201a8"
             ],
             [
              0.3333333333333333,
              "#9c179e"
             ],
             [
              0.4444444444444444,
              "#bd3786"
             ],
             [
              0.5555555555555556,
              "#d8576b"
             ],
             [
              0.6666666666666666,
              "#ed7953"
             ],
             [
              0.7777777777777778,
              "#fb9f3a"
             ],
             [
              0.8888888888888888,
              "#fdca26"
             ],
             [
              1,
              "#f0f921"
             ]
            ],
            "type": "surface"
           }
          ],
          "table": [
           {
            "cells": {
             "fill": {
              "color": "#EBF0F8"
             },
             "line": {
              "color": "white"
             }
            },
            "header": {
             "fill": {
              "color": "#C8D4E3"
             },
             "line": {
              "color": "white"
             }
            },
            "type": "table"
           }
          ]
         },
         "layout": {
          "annotationdefaults": {
           "arrowcolor": "#2a3f5f",
           "arrowhead": 0,
           "arrowwidth": 1
          },
          "autotypenumbers": "strict",
          "coloraxis": {
           "colorbar": {
            "outlinewidth": 0,
            "ticks": ""
           }
          },
          "colorscale": {
           "diverging": [
            [
             0,
             "#8e0152"
            ],
            [
             0.1,
             "#c51b7d"
            ],
            [
             0.2,
             "#de77ae"
            ],
            [
             0.3,
             "#f1b6da"
            ],
            [
             0.4,
             "#fde0ef"
            ],
            [
             0.5,
             "#f7f7f7"
            ],
            [
             0.6,
             "#e6f5d0"
            ],
            [
             0.7,
             "#b8e186"
            ],
            [
             0.8,
             "#7fbc41"
            ],
            [
             0.9,
             "#4d9221"
            ],
            [
             1,
             "#276419"
            ]
           ],
           "sequential": [
            [
             0,
             "#0d0887"
            ],
            [
             0.1111111111111111,
             "#46039f"
            ],
            [
             0.2222222222222222,
             "#7201a8"
            ],
            [
             0.3333333333333333,
             "#9c179e"
            ],
            [
             0.4444444444444444,
             "#bd3786"
            ],
            [
             0.5555555555555556,
             "#d8576b"
            ],
            [
             0.6666666666666666,
             "#ed7953"
            ],
            [
             0.7777777777777778,
             "#fb9f3a"
            ],
            [
             0.8888888888888888,
             "#fdca26"
            ],
            [
             1,
             "#f0f921"
            ]
           ],
           "sequentialminus": [
            [
             0,
             "#0d0887"
            ],
            [
             0.1111111111111111,
             "#46039f"
            ],
            [
             0.2222222222222222,
             "#7201a8"
            ],
            [
             0.3333333333333333,
             "#9c179e"
            ],
            [
             0.4444444444444444,
             "#bd3786"
            ],
            [
             0.5555555555555556,
             "#d8576b"
            ],
            [
             0.6666666666666666,
             "#ed7953"
            ],
            [
             0.7777777777777778,
             "#fb9f3a"
            ],
            [
             0.8888888888888888,
             "#fdca26"
            ],
            [
             1,
             "#f0f921"
            ]
           ]
          },
          "colorway": [
           "#636efa",
           "#EF553B",
           "#00cc96",
           "#ab63fa",
           "#FFA15A",
           "#19d3f3",
           "#FF6692",
           "#B6E880",
           "#FF97FF",
           "#FECB52"
          ],
          "font": {
           "color": "#2a3f5f"
          },
          "geo": {
           "bgcolor": "white",
           "lakecolor": "white",
           "landcolor": "#E5ECF6",
           "showlakes": true,
           "showland": true,
           "subunitcolor": "white"
          },
          "hoverlabel": {
           "align": "left"
          },
          "hovermode": "closest",
          "mapbox": {
           "style": "light"
          },
          "paper_bgcolor": "white",
          "plot_bgcolor": "#E5ECF6",
          "polar": {
           "angularaxis": {
            "gridcolor": "white",
            "linecolor": "white",
            "ticks": ""
           },
           "bgcolor": "#E5ECF6",
           "radialaxis": {
            "gridcolor": "white",
            "linecolor": "white",
            "ticks": ""
           }
          },
          "scene": {
           "xaxis": {
            "backgroundcolor": "#E5ECF6",
            "gridcolor": "white",
            "gridwidth": 2,
            "linecolor": "white",
            "showbackground": true,
            "ticks": "",
            "zerolinecolor": "white"
           },
           "yaxis": {
            "backgroundcolor": "#E5ECF6",
            "gridcolor": "white",
            "gridwidth": 2,
            "linecolor": "white",
            "showbackground": true,
            "ticks": "",
            "zerolinecolor": "white"
           },
           "zaxis": {
            "backgroundcolor": "#E5ECF6",
            "gridcolor": "white",
            "gridwidth": 2,
            "linecolor": "white",
            "showbackground": true,
            "ticks": "",
            "zerolinecolor": "white"
           }
          },
          "shapedefaults": {
           "line": {
            "color": "#2a3f5f"
           }
          },
          "ternary": {
           "aaxis": {
            "gridcolor": "white",
            "linecolor": "white",
            "ticks": ""
           },
           "baxis": {
            "gridcolor": "white",
            "linecolor": "white",
            "ticks": ""
           },
           "bgcolor": "#E5ECF6",
           "caxis": {
            "gridcolor": "white",
            "linecolor": "white",
            "ticks": ""
           }
          },
          "title": {
           "x": 0.05
          },
          "xaxis": {
           "automargin": true,
           "gridcolor": "white",
           "linecolor": "white",
           "ticks": "",
           "title": {
            "standoff": 15
           },
           "zerolinecolor": "white",
           "zerolinewidth": 2
          },
          "yaxis": {
           "automargin": true,
           "gridcolor": "white",
           "linecolor": "white",
           "ticks": "",
           "title": {
            "standoff": 15
           },
           "zerolinecolor": "white",
           "zerolinewidth": 2
          }
         }
        },
        "xaxis": {
         "anchor": "y",
         "autorange": true,
         "domain": [
          0,
          1
         ],
         "range": [
          -3.382117211408012,
          2.865662451158304
         ],
         "title": {
          "text": "x"
         },
         "type": "linear"
        },
        "yaxis": {
         "anchor": "x",
         "autorange": true,
         "domain": [
          0,
          1
         ],
         "range": [
          -310.2575086841844,
          250.10191827620974
         ],
         "title": {
          "text": "y"
         },
         "type": "linear"
        }
       }
      },
      "image/png": "[encoded data removed]",
      "text/html": [
       "<div>                            <div id=\"50e9881c-0fb5-472a-aba2-8e29486a431e\" class=\"plotly-graph-div\" style=\"height:525px; width:100%;\"></div>            <script type=\"text/javascript\">                require([\"plotly\"], function(Plotly) {                    window.PLOTLYENV=window.PLOTLYENV || {};                                    if (document.getElementById(\"50e9881c-0fb5-472a-aba2-8e29486a431e\")) {                    Plotly.newPlot(                        \"50e9881c-0fb5-472a-aba2-8e29486a431e\",                        [{\"hovertemplate\":\"x=%{x}\\u003cbr\\u003ey=%{y}\\u003cextra\\u003e\\u003c\\u002fextra\\u003e\",\"legendgroup\":\"\",\"marker\":{\"color\":\"#636efa\",\"symbol\":\"circle\"},\"mode\":\"markers\",\"name\":\"\",\"orientation\":\"v\",\"showlegend\":false,\"x\":[-0.3925613987187164,-1.1381909171648965,-0.4620668617619167,0.32393110655716784,2.527834625755695,-0.8412395335063726,-1.6013363532247145,-2.0906643527670745,0.5352346327935525,-0.7452561373994291,-2.001956590282459,-2.053851172630267,0.2367863786143504,2.054504182203013,0.7812591996798333,-0.16185095158767734,0.8347940584475991,0.2540471751637784,-0.2919779910596489,0.02497442205433516,0.10700040496342822,-2.528966366381125,1.6144393005805562,1.0351224772907186,1.330223296296348,0.61614782584952,0.6469055156526222,-0.0343932267874468,0.33339016977404956,0.8093621144214559,-1.869602007021858,1.3790744514444273,-0.8074749178563678,-0.746831151761085,-0.8833644518349436,0.5077906406612491,0.6463542855971607,-1.1128167039060408,-0.6722992375404591,0.5921536464051833,-0.8609917341986733,-0.7565220112639784,0.2334760822203528,1.3747413777315975,-1.121196859734224,-0.6820742415045805,-0.9954398255699483,0.3841081775154405,0.41764812340110186,0.5425892687991655,0.1129187589673501,0.018657792717378475,0.29669704312758827,0.37577750278973715,0.8817496611079322,0.8801798033218386,0.9942506294027167,-0.4063094247402031,1.618374779976628,0.3173959194465637,0.4525518688472513,-1.1754810326962282,-0.3849084527232779,2.0592250391435445,-0.7926360710854041,-1.829134054183603,1.4651809642880704,-0.3926824063184123,-0.5598812065419011,0.18535573571143282,-0.3248585704596899,-0.6179418205329064,0.4694916410586872,-1.0187043761981103,0.21369820655351449,-0.07644126529311551,-0.7981846340004056,-0.444152929859839,-0.6500753865467773,-0.3224772501479525,-0.32332996904233247,-1.0425263260359408,0.04884179333303723,-0.23296257885121774,0.10207908291758046,-0.6289452366542592,0.7069828715516615,-0.7226861620585567,-0.7926044234295062,-1.1118039493842544,-0.2780210457212843,-0.20758655456326303,-0.6391732255218735,-1.5278603149516865,0.9182075962474621,-1.2122631353861524,-1.3992650715564274,1.594448348936837,-0.4186964382613287,1.743376709785893,0.5281963302607363,0.44665626987425044,0.6845201777384583,1.8516546983105735,0.19123477550367723,2.1383233083319335,0.5550046574098695,0.35175769819928104,1.3554797967568042,0.9646898384191165,0.17693994836494487,1.363741237816571,-0.15110418918826618,-1.6431985455724725,1.6869335068749083,-0.18168629586164703,1.0594826365222274,-1.0706281887458158,0.8296983632745237,1.7708448481235581,-0.4847471238242301,-2.631775849563274,0.03184472696934963,-0.7626374954866246,0.1626800195027419,-0.23108628155095884,-0.4125789341514182,-1.820802877748419,0.6986201543143468,-0.3890663011208107,0.4407863533765546,-0.7886654033994713,2.0054865507917747,0.2874756230993486,0.43875169715048734,-0.6783320440548287,-0.6317058432082672,-2.667729428982979,0.3691993171636245,-0.9343462351749031,-0.3973142944160636,-0.9301157679322485,0.051840368392279915,-1.0305713827843337,1.484469741573821,1.228436516604004,0.25600522977761614,-3.008015126867429,1.1834623400406445,0.46853722684607557,-0.8587792277702772,-1.2121941746775098,-0.32058856161996624,-0.6461808613889728,-1.6625659672385136,0.7747350358218391,0.3652304389934808,0.029465398660599756,-0.30561183731881186,-3.044289386005403,-0.1664028931655594,-0.6744377183840801,-0.29229515406056555,-0.6603027752997473,-0.9895476003324807,-0.3370979406319059,1.2466481083755556,0.5695474052844676,0.40872050234618473,-0.6666805059724356,-2.49604576914017,0.4858192602799844,-1.262009784533686,-0.7996524409274512,0.8650481670780078,-1.0753259733480702,1.4187163766641444,0.4512358012785768,0.3634161082519792,-0.7475199003992731,2.1884145334843663,-1.4050951089858097,-1.1011390456076477,1.3103421550949519,0.45682464182713733,0.49440936309228944,1.0538079204221338,0.9268340865301237,-0.42466766093390385,0.6496340298848106,-0.37772441834881215,-0.842152079585177,0.7410475002124881,-0.3575940360558478,-1.7410922749319502,0.6569785037836179,-0.5512127568747803,0.004943696919232506,-1.7165218532267499,-2.9709718780140792,-0.07580703500523589,-0.03722933423517351,0.11414359394125181,0.8428965878235725,0.6323032495423206,0.1978464175428104,-1.2150851734041,0.0038450880664112675,0.8797280034302769,-0.36778025057517555,-0.36862346158317577,1.2205381224940013,-0.4161024324350142,-0.3996253524902369,0.33160695638483384,1.3129389165541836,-0.6856030907002285,0.4263513835297509,0.8544317596171542,-0.08599853204369409,-0.698726102499412,-0.3362631943916918,-0.27639186580325154,0.7764812755737354,0.3466337954484482,0.7534612198892423,0.14212814726167602,0.4772350302287438,0.20313721277016375,-1.928470882988174,-1.293063515094742,0.47293952589522237,-1.0806278909048588,-1.435521953391117,0.07930318047814265,-0.6899777163623889,1.169834844572639,-1.4300281283838423,-0.5894409473456826,-1.3079327529815987,0.018013390901922388,-1.852112970818212,-0.8693938590583986,0.8044794684226745,-0.24294013440556514,0.04589349392746618,-0.3715483587874651,0.432625025602819,-1.6914756107809068,-0.37621194227573024],\"xaxis\":\"x\",\"y\":[-77.23216095486838,-30.48991632847151,-59.13314305223851,96.73525505809958,188.54199482157287,-127.85645921202098,-122.37871659161677,-187.71738961108306,63.701041076841605,-109.73788431694085,-120.91094472348301,-69.09078148920781,3.340437680739198,73.12384122603606,-4.759902485908178,40.62787584622071,161.89851968677834,6.37369621464706,46.97083950434211,3.8882405884896842,24.639133915028758,-210.9275088693199,118.19601899360666,-42.63194408170858,45.86706030965837,-3.637935783674415,77.28968276717127,31.340558831746243,35.89937695392108,55.442051438024464,-204.17675933462425,49.079162699021985,-49.9529647536584,-97.96526656664471,-14.662454726929283,-18.584947831545527,52.41511408171505,-151.83640885520543,-55.08984305597614,39.276340941476015,-59.11590231384676,-77.63121941661093,-30.0570540848447,212.5323657868197,-121.34490150679201,30.078928422200185,-73.30587844104463,3.4259886424287807,-71.44376032686256,9.954501005431226,84.87003713115928,-65.7237528945063,94.00017505110807,-13.421559513335378,76.39527352359343,53.073548481906776,132.47973281489195,44.3570599399818,139.11867654769821,85.28946139370625,41.7728662113949,-65.41144308672799,-79.44302840171197,153.35685235436821,-41.345821096506995,-187.2058327134386,48.59668623481569,32.05296646927685,-87.39388676754191,49.20586713053706,-40.261478803901326,-29.425372825724263,-50.38981430163016,-144.1275646897281,27.210941040847082,3.048324583212671,-90.35288877744821,4.079301434105062,-34.82167120119906,-6.169921493573131,-69.78105706271174,-139.38036981841415,-14.771268917164521,58.63730093340977,83.43961892296399,95.88852562430401,73.22745123155816,-32.285164229971016,-17.298353200326673,-17.59582747335878,12.145139106098057,-48.04716386337472,-105.3357839498415,-138.35178956104855,17.809308675162598,-122.48123649247923,-13.618759950860237,163.31854244467755,66.84608986615606,106.61916571376133,132.80677647697036,-76.63263906634698,30.425962530125755,120.94364238689528,39.159351296272675,24.88182113486704,25.809575086058526,69.75249584713178,132.69325202802284,67.83936320594763,7.876956615800948,72.68238590878111,-18.203318363699935,-146.67612884156583,50.48155678224859,-54.83593018977081,26.029570301513303,-123.90942636816608,-15.461524421164768,121.26855109079582,12.076204163530193,-214.801598125374,-82.84710725761114,-152.70437982382788,117.43045351559329,-10.151276472951366,-3.2787450154399664,-115.828350709542,31.874964142740552,-5.77253046706176,60.27636834559962,-78.74179415206453,162.66586995520018,37.979196557794666,10.018866801166336,-21.08161042598916,-16.526189619211877,-271.3781406783546,-56.47390612236382,-107.8391088154213,-81.26941928349424,-72.25910059424332,-15.332919376413784,-74.21070561479357,72.55279212414868,69.10073093948124,-28.72082125079943,-272.68795619479437,61.80206347493424,32.573034253424666,-36.81102216909454,-103.39709395503316,-64.40813395999224,-47.5358785072089,-97.43974942451881,-61.07788950008519,48.89104060857256,-88.57598756045354,-37.825918754619316,-235.22753686428712,-65.02510617825348,11.748598484651275,-102.39866675684954,-48.037385428069484,-118.61120495637455,-12.969354931479193,170.62244963854795,83.41085938072743,89.5925273422988,-123.55122186305023,-255.13497560464052,36.88583070382951,-114.08819541004719,-89.92888033965514,38.381684332901536,-112.15346674543436,3.1902882385417115,20.44715496420004,54.702285454983276,56.420743147989214,205.58013034126176,-141.65567447934592,-66.46558365300706,105.91880001339653,6.810876919984064,42.55639328974187,17.115699907324768,155.09701389061496,-0.09579498943831766,28.284510117456605,10.702206268024607,-58.39618407677694,-9.59742615622676,-24.75497351986855,-65.60247774855586,49.6179165934178,-77.41148357008313,-50.482095786805615,-127.45346335133044,-132.94578934107165,32.1357752225395,40.011028960588746,-39.785044776476894,75.40549782890903,3.6341882814931026,-16.142258970635353,-63.04995975329366,-68.73700513312201,61.03602112193207,-23.711251889650477,-48.0515100894932,36.663453653535626,63.45422547199761,-132.62313588631744,42.61861113215417,78.72668562108657,-37.971008170498266,39.6500188533285,60.39420540400634,24.09565041338404,-54.600306632399885,-55.61282358664937,69.32714694549227,68.97305462060643,110.02838418630077,40.030592869670805,116.89828165053027,103.76978834879586,41.75249436840998,-147.16371901785024,-20.060985851912363,44.280679246573406,4.100809281315165,-109.2478997540663,-24.939804552661506,0.9010894062980128,102.50294916960753,-54.45090545494936,-52.48834784694529,-183.5561095328842,71.02908514354176,-96.64038792483217,-89.2871404414377,61.42124730737931,-18.724570849158848,62.56362557556111,-80.4852163852837,75.90441565358276,-83.49437687198267,31.472173570750428],\"yaxis\":\"y\",\"type\":\"scatter\"}],                        {\"template\":{\"data\":{\"histogram2dcontour\":[{\"type\":\"histogram2dcontour\",\"colorbar\":{\"outlinewidth\":0,\"ticks\":\"\"},\"colorscale\":[[0.0,\"#0d0887\"],[0.1111111111111111,\"#46039f\"],[0.2222222222222222,\"#7201a8\"],[0.3333333333333333,\"#9c179e\"],[0.4444444444444444,\"#bd3786\"],[0.5555555555555556,\"#d8576b\"],[0.6666666666666666,\"#ed7953\"],[0.7777777777777778,\"#fb9f3a\"],[0.8888888888888888,\"#fdca26\"],[1.0,\"#f0f921\"]]}],\"choropleth\":[{\"type\":\"choropleth\",\"colorbar\":{\"outlinewidth\":0,\"ticks\":\"\"}}],\"histogram2d\":[{\"type\":\"histogram2d\",\"colorbar\":{\"outlinewidth\":0,\"ticks\":\"\"},\"colorscale\":[[0.0,\"#0d0887\"],[0.1111111111111111,\"#46039f\"],[0.2222222222222222,\"#7201a8\"],[0.3333333333333333,\"#9c179e\"],[0.4444444444444444,\"#bd3786\"],[0.5555555555555556,\"#d8576b\"],[0.6666666666666666,\"#ed7953\"],[0.7777777777777778,\"#fb9f3a\"],[0.8888888888888888,\"#fdca26\"],[1.0,\"#f0f921\"]]}],\"heatmap\":[{\"type\":\"heatmap\",\"colorbar\":{\"outlinewidth\":0,\"ticks\":\"\"},\"colorscale\":[[0.0,\"#0d0887\"],[0.1111111111111111,\"#46039f\"],[0.2222222222222222,\"#7201a8\"],[0.3333333333333333,\"#9c179e\"],[0.4444444444444444,\"#bd3786\"],[0.5555555555555556,\"#d8576b\"],[0.6666666666666666,\"#ed7953\"],[0.7777777777777778,\"#fb9f3a\"],[0.8888888888888888,\"#fdca26\"],[1.0,\"#f0f921\"]]}],\"heatmapgl\":[{\"type\":\"heatmapgl\",\"colorbar\":{\"outlinewidth\":0,\"ticks\":\"\"},\"colorscale\":[[0.0,\"#0d0887\"],[0.1111111111111111,\"#46039f\"],[0.2222222222222222,\"#7201a8\"],[0.3333333333333333,\"#9c179e\"],[0.4444444444444444,\"#bd3786\"],[0.5555555555555556,\"#d8576b\"],[0.6666666666666666,\"#ed7953\"],[0.7777777777777778,\"#fb9f3a\"],[0.8888888888888888,\"#fdca26\"],[1.0,\"#f0f921\"]]}],\"contourcarpet\":[{\"type\":\"contourcarpet\",\"colorbar\":{\"outlinewidth\":0,\"ticks\":\"\"}}],\"contour\":[{\"type\":\"contour\",\"colorbar\":{\"outlinewidth\":0,\"ticks\":\"\"},\"colorscale\":[[0.0,\"#0d0887\"],[0.1111111111111111,\"#46039f\"],[0.2222222222222222,\"#7201a8\"],[0.3333333333333333,\"#9c179e\"],[0.4444444444444444,\"#bd3786\"],[0.5555555555555556,\"#d8576b\"],[0.6666666666666666,\"#ed7953\"],[0.7777777777777778,\"#fb9f3a\"],[0.8888888888888888,\"#fdca26\"],[1.0,\"#f0f921\"]]}],\"surface\":[{\"type\":\"surface\",\"colorbar\":{\"outlinewidth\":0,\"ticks\":\"\"},\"colorscale\":[[0.0,\"#0d0887\"],[0.1111111111111111,\"#46039f\"],[0.2222222222222222,\"#7201a8\"],[0.3333333333333333,\"#9c179e\"],[0.4444444444444444,\"#bd3786\"],[0.5555555555555556,\"#d8576b\"],[0.6666666666666666,\"#ed7953\"],[0.7777777777777778,\"#fb9f3a\"],[0.8888888888888888,\"#fdca26\"],[1.0,\"#f0f921\"]]}],\"mesh3d\":[{\"type\":\"mesh3d\",\"colorbar\":{\"outlinewidth\":0,\"ticks\":\"\"}}],\"scatter\":[{\"fillpattern\":{\"fillmode\":\"overlay\",\"size\":10,\"solidity\":0.2},\"type\":\"scatter\"}],\"parcoords\":[{\"type\":\"parcoords\",\"line\":{\"colorbar\":{\"outlinewidth\":0,\"ticks\":\"\"}}}],\"scatterpolargl\":[{\"type\":\"scatterpolargl\",\"marker\":{\"colorbar\":{\"outlinewidth\":0,\"ticks\":\"\"}}}],\"bar\":[{\"error_x\":{\"color\":\"#2a3f5f\"},\"error_y\":{\"color\":\"#2a3f5f\"},\"marker\":{\"line\":{\"color\":\"#E5ECF6\",\"width\":0.5},\"pattern\":{\"fillmode\":\"overlay\",\"size\":10,\"solidity\":0.2}},\"type\":\"bar\"}],\"scattergeo\":[{\"type\":\"scattergeo\",\"marker\":{\"colorbar\":{\"outlinewidth\":0,\"ticks\":\"\"}}}],\"scatterpolar\":[{\"type\":\"scatterpolar\",\"marker\":{\"colorbar\":{\"outlinewidth\":0,\"ticks\":\"\"}}}],\"histogram\":[{\"marker\":{\"pattern\":{\"fillmode\":\"overlay\",\"size\":10,\"solidity\":0.2}},\"type\":\"histogram\"}],\"scattergl\":[{\"type\":\"scattergl\",\"marker\":{\"colorbar\":{\"outlinewidth\":0,\"ticks\":\"\"}}}],\"scatter3d\":[{\"type\":\"scatter3d\",\"line\":{\"colorbar\":{\"outlinewidth\":0,\"ticks\":\"\"}},\"marker\":{\"colorbar\":{\"outlinewidth\":0,\"ticks\":\"\"}}}],\"scattermapbox\":[{\"type\":\"scattermapbox\",\"marker\":{\"colorbar\":{\"outlinewidth\":0,\"ticks\":\"\"}}}],\"scatterternary\":[{\"type\":\"scatterternary\",\"marker\":{\"colorbar\":{\"outlinewidth\":0,\"ticks\":\"\"}}}],\"scattercarpet\":[{\"type\":\"scattercarpet\",\"marker\":{\"colorbar\":{\"outlinewidth\":0,\"ticks\":\"\"}}}],\"carpet\":[{\"aaxis\":{\"endlinecolor\":\"#2a3f5f\",\"gridcolor\":\"white\",\"linecolor\":\"white\",\"minorgridcolor\":\"white\",\"startlinecolor\":\"#2a3f5f\"},\"baxis\":{\"endlinecolor\":\"#2a3f5f\",\"gridcolor\":\"white\",\"linecolor\":\"white\",\"minorgridcolor\":\"white\",\"startlinecolor\":\"#2a3f5f\"},\"type\":\"carpet\"}],\"table\":[{\"cells\":{\"fill\":{\"color\":\"#EBF0F8\"},\"line\":{\"color\":\"white\"}},\"header\":{\"fill\":{\"color\":\"#C8D4E3\"},\"line\":{\"color\":\"white\"}},\"type\":\"table\"}],\"barpolar\":[{\"marker\":{\"line\":{\"color\":\"#E5ECF6\",\"width\":0.5},\"pattern\":{\"fillmode\":\"overlay\",\"size\":10,\"solidity\":0.2}},\"type\":\"barpolar\"}],\"pie\":[{\"automargin\":true,\"type\":\"pie\"}]},\"layout\":{\"autotypenumbers\":\"strict\",\"colorway\":[\"#636efa\",\"#EF553B\",\"#00cc96\",\"#ab63fa\",\"#FFA15A\",\"#19d3f3\",\"#FF6692\",\"#B6E880\",\"#FF97FF\",\"#FECB52\"],\"font\":{\"color\":\"#2a3f5f\"},\"hovermode\":\"closest\",\"hoverlabel\":{\"align\":\"left\"},\"paper_bgcolor\":\"white\",\"plot_bgcolor\":\"#E5ECF6\",\"polar\":{\"bgcolor\":\"#E5ECF6\",\"angularaxis\":{\"gridcolor\":\"white\",\"linecolor\":\"white\",\"ticks\":\"\"},\"radialaxis\":{\"gridcolor\":\"white\",\"linecolor\":\"white\",\"ticks\":\"\"}},\"ternary\":{\"bgcolor\":\"#E5ECF6\",\"aaxis\":{\"gridcolor\":\"white\",\"linecolor\":\"white\",\"ticks\":\"\"},\"baxis\":{\"gridcolor\":\"white\",\"linecolor\":\"white\",\"ticks\":\"\"},\"caxis\":{\"gridcolor\":\"white\",\"linecolor\":\"white\",\"ticks\":\"\"}},\"coloraxis\":{\"colorbar\":{\"outlinewidth\":0,\"ticks\":\"\"}},\"colorscale\":{\"sequential\":[[0.0,\"#0d0887\"],[0.1111111111111111,\"#46039f\"],[0.2222222222222222,\"#7201a8\"],[0.3333333333333333,\"#9c179e\"],[0.4444444444444444,\"#bd3786\"],[0.5555555555555556,\"#d8576b\"],[0.6666666666666666,\"#ed7953\"],[0.7777777777777778,\"#fb9f3a\"],[0.8888888888888888,\"#fdca26\"],[1.0,\"#f0f921\"]],\"sequentialminus\":[[0.0,\"#0d0887\"],[0.1111111111111111,\"#46039f\"],[0.2222222222222222,\"#7201a8\"],[0.3333333333333333,\"#9c179e\"],[0.4444444444444444,\"#bd3786\"],[0.5555555555555556,\"#d8576b\"],[0.6666666666666666,\"#ed7953\"],[0.7777777777777778,\"#fb9f3a\"],[0.8888888888888888,\"#fdca26\"],[1.0,\"#f0f921\"]],\"diverging\":[[0,\"#8e0152\"],[0.1,\"#c51b7d\"],[0.2,\"#de77ae\"],[0.3,\"#f1b6da\"],[0.4,\"#fde0ef\"],[0.5,\"#f7f7f7\"],[0.6,\"#e6f5d0\"],[0.7,\"#b8e186\"],[0.8,\"#7fbc41\"],[0.9,\"#4d9221\"],[1,\"#276419\"]]},\"xaxis\":{\"gridcolor\":\"white\",\"linecolor\":\"white\",\"ticks\":\"\",\"title\":{\"standoff\":15},\"zerolinecolor\":\"white\",\"automargin\":true,\"zerolinewidth\":2},\"yaxis\":{\"gridcolor\":\"white\",\"linecolor\":\"white\",\"ticks\":\"\",\"title\":{\"standoff\":15},\"zerolinecolor\":\"white\",\"automargin\":true,\"zerolinewidth\":2},\"scene\":{\"xaxis\":{\"backgroundcolor\":\"#E5ECF6\",\"gridcolor\":\"white\",\"linecolor\":\"white\",\"showbackground\":true,\"ticks\":\"\",\"zerolinecolor\":\"white\",\"gridwidth\":2},\"yaxis\":{\"backgroundcolor\":\"#E5ECF6\",\"gridcolor\":\"white\",\"linecolor\":\"white\",\"showbackground\":true,\"ticks\":\"\",\"zerolinecolor\":\"white\",\"gridwidth\":2},\"zaxis\":{\"backgroundcolor\":\"#E5ECF6\",\"gridcolor\":\"white\",\"linecolor\":\"white\",\"showbackground\":true,\"ticks\":\"\",\"zerolinecolor\":\"white\",\"gridwidth\":2}},\"shapedefaults\":{\"line\":{\"color\":\"#2a3f5f\"}},\"annotationdefaults\":{\"arrowcolor\":\"#2a3f5f\",\"arrowhead\":0,\"arrowwidth\":1},\"geo\":{\"bgcolor\":\"white\",\"landcolor\":\"#E5ECF6\",\"subunitcolor\":\"white\",\"showland\":true,\"showlakes\":true,\"lakecolor\":\"white\"},\"title\":{\"x\":0.05},\"mapbox\":{\"style\":\"light\"}}},\"xaxis\":{\"anchor\":\"y\",\"domain\":[0.0,1.0],\"title\":{\"text\":\"x\"}},\"yaxis\":{\"anchor\":\"x\",\"domain\":[0.0,1.0],\"title\":{\"text\":\"y\"}},\"legend\":{\"tracegroupgap\":0},\"margin\":{\"t\":60}},                        {\"responsive\": true}                    ).then(function(){\n",
       "                            \n",
       "var gd = document.getElementById('50e9881c-0fb5-472a-aba2-8e29486a431e');\n",
       "var x = new MutationObserver(function (mutations, observer) {{\n",
       "        var display = window.getComputedStyle(gd).display;\n",
       "        if (!display || display === 'none') {{\n",
       "            console.log([gd, 'removed!']);\n",
       "            Plotly.purge(gd);\n",
       "            observer.disconnect();\n",
       "        }}\n",
       "}});\n",
       "\n",
       "// Listen for the removal of the full notebook cells\n",
       "var notebookContainer = gd.closest('#notebook-container');\n",
       "if (notebookContainer) {{\n",
       "    x.observe(notebookContainer, {childList: true});\n",
       "}}\n",
       "\n",
       "// Listen for the clearing of the current output cell\n",
       "var outputEl = gd.closest('.output');\n",
       "if (outputEl) {{\n",
       "    x.observe(outputEl, {childList: true});\n",
       "}}\n",
       "\n",
       "                        })                };                });            </script>        </div>"
      ]
     },
     "metadata": {},
     "output_type": "display_data"
    }
   ],
   "source": [
    "import plotly.express as px\n",
    "fig = px.scatter(x=[ x[0] for x in X_train], y=y_train)\n",
    "fig.show()"
   ]
  },
  {
   "cell_type": "code",
   "execution_count": 25,
   "id": "d7533319-488f-40cc-92e6-7efe8945432f",
   "metadata": {},
   "outputs": [],
   "source": [
    "regressor = LinearRegression()\n",
    "\n",
    "mapie_regressor = MapieRegressor(estimator=regressor, method='plus', cv=5)\n",
    "\n",
    "mapie_regressor = mapie_regressor.fit(X_train, y_train)\n",
    "y_pred, y_pis = mapie_regressor.predict(X_test, alpha=[0.01, 0.05, 0.32, 0.99])"
   ]
  },
  {
   "cell_type": "code",
   "execution_count": 26,
   "id": "a2397056-e7d3-45ee-8c82-ded7ce1753dc",
   "metadata": {},
   "outputs": [],
   "source": [
    "import pandas as pd"
   ]
  },
  {
   "cell_type": "code",
   "execution_count": 27,
   "id": "b8bc4a13-e808-4a57-a8a3-58d9842835e7",
   "metadata": {},
   "outputs": [
    {
     "data": {
      "text/plain": [
       "-10.036231990176395"
      ]
     },
     "execution_count": 27,
     "metadata": {},
     "output_type": "execute_result"
    }
   ],
   "source": [
    "y_pred[123]"
   ]
  },
  {
   "cell_type": "code",
   "execution_count": 28,
   "id": "eed3325b-48b1-4dd4-8344-72f2d76c1912",
   "metadata": {
    "scrolled": true
   },
   "outputs": [],
   "source": [
    "tmp = pd.DataFrame(y_pis[123])"
   ]
  },
  {
   "cell_type": "code",
   "execution_count": 29,
   "id": "ab007e5d-887d-42e0-96f1-1d0f3b1a60fc",
   "metadata": {},
   "outputs": [
    {
     "data": {
      "text/plain": [
       "0   -10.522353\n",
       "1   -10.403677\n",
       "2    -9.445030\n",
       "3    -9.970965\n",
       "dtype: float64"
      ]
     },
     "execution_count": 29,
     "metadata": {},
     "output_type": "execute_result"
    }
   ],
   "source": [
    "tmp.mean()"
   ]
  },
  {
   "cell_type": "code",
   "execution_count": 41,
   "id": "5b996094-5130-4605-bd21-3c00c3db0c6e",
   "metadata": {},
   "outputs": [],
   "source": [
    "tmp = pd.DataFrame({\n",
    "    \"X\" : [x[0] for x in X_test],\n",
    "    \"real\": y_test,\n",
    "    \"y_pred\" : y_pred,\n",
    "    \"low\" : [x[0][1] for x in y_pis],\n",
    "    \"high\" : [x[1][1] for x in y_pis]\n",
    "})\n",
    "\n",
    "tmp = tmp.sort_values(\"X\")"
   ]
  },
  {
   "cell_type": "code",
   "execution_count": 42,
   "id": "0736508c-e943-493f-8d60-7e38684a6048",
   "metadata": {},
   "outputs": [
    {
     "data": {
      "application/vnd.plotly.v1+json": {
       "config": {
        "plotlyServerURL": "https://plot.ly"
       },
       "data": [
        {
         "mode": "markers",
         "type": "scatter",
         "x": [
          -2.6292810193302594,
          -2.551283863718271,
          -2.2364889194513,
          -2.07393867819891,
          -2.045771638061002,
          -1.9991488736003926,
          -1.9481436880980896,
          -1.7763707028637878,
          -1.7734828880258315,
          -1.746092002744573,
          -1.7046312891880817,
          -1.6881890156018937,
          -1.655289688725452,
          -1.5977723761062783,
          -1.5883424622826972,
          -1.5665197381918075,
          -1.5506550067351406,
          -1.5020613799167888,
          -1.4655825751819727,
          -1.4327679717259543,
          -1.4290906136667496,
          -1.3522041289832425,
          -1.2270160361097127,
          -1.2104535267635292,
          -1.2101976378399437,
          -1.2029496950545138,
          -1.1760468496486034,
          -1.1541248440235992,
          -1.151046450005006,
          -1.1379774176133373,
          -1.1117044484160272,
          -1.070383872411453,
          -1.064845469508651,
          -1.0496850091969234,
          -1.0468590550284116,
          -1.0266193217424486,
          -0.9995244318980244,
          -0.982039247782631,
          -0.9619390334899593,
          -0.9550037733816338,
          -0.9345186276236577,
          -0.930894557034867,
          -0.9197122844896333,
          -0.9153550967285448,
          -0.9046437733597944,
          -0.899808535456308,
          -0.8687758691939285,
          -0.8652799432238636,
          -0.8202206724640196,
          -0.7882808376345513,
          -0.7664360679098342,
          -0.7646570925380807,
          -0.7424045706201532,
          -0.7409905622402573,
          -0.7395979754452399,
          -0.7342134008069846,
          -0.6978773758918426,
          -0.6961069738055079,
          -0.695369726088089,
          -0.692139356665652,
          -0.6747244380859588,
          -0.6631240458129065,
          -0.6594882212810853,
          -0.6547458514237947,
          -0.6415119597672052,
          -0.6338987358786721,
          -0.6311146220980464,
          -0.6291094922918536,
          -0.6176635649911306,
          -0.6107387283317962,
          -0.6077581982246473,
          -0.5998649711081965,
          -0.5889997744950056,
          -0.5622559902057358,
          -0.5481287384443194,
          -0.5394757244110484,
          -0.5393149171006217,
          -0.5381782599980234,
          -0.5281573096691444,
          -0.5181973789163166,
          -0.5162476537427871,
          -0.5113644548091169,
          -0.5082991372810524,
          -0.5024918326279042,
          -0.5002299308757383,
          -0.5000751105346003,
          -0.4978563801711863,
          -0.4966623132164485,
          -0.4830504900190361,
          -0.4823628091408703,
          -0.46916122014965334,
          -0.463684147997593,
          -0.4598347964022247,
          -0.4586269081431444,
          -0.45625815142622966,
          -0.4526767059862175,
          -0.4331470839866841,
          -0.3816681106113404,
          -0.37625668519264127,
          -0.37037129507072014,
          -0.3591878386665696,
          -0.3576168181292679,
          -0.35650260529743966,
          -0.3490223021204968,
          -0.33953414842992685,
          -0.2947221500711446,
          -0.29456509511271856,
          -0.27616201538407276,
          -0.24205164670924276,
          -0.20193898089455475,
          -0.18991351448410435,
          -0.1804260377680121,
          -0.18025391523926435,
          -0.17450689460137597,
          -0.1739159322935042,
          -0.17279174686941706,
          -0.16731222977230173,
          -0.1535882880027908,
          -0.14769752904241953,
          -0.14602129502234432,
          -0.13902961497658553,
          -0.13815852228714706,
          -0.13756070490156702,
          -0.1270717486342649,
          -0.11348400059760945,
          -0.006795602444085597,
          -0.0038005718296195037,
          -0.002680552069493298,
          -0.002190388433268159,
          0.00547007936059291,
          0.006734340233680385,
          0.010886136783730979,
          0.07468220628364246,
          0.07980086504195263,
          0.09837817176818964,
          0.16282167296074013,
          0.16651085634790969,
          0.16852174191684186,
          0.17134164800650514,
          0.17351299056081887,
          0.1750852569605256,
          0.21221009940988494,
          0.2129497934504725,
          0.2178645324929554,
          0.2229273774199409,
          0.2320163982336413,
          0.23781191750029518,
          0.24548353551283084,
          0.2514545584635542,
          0.2525759018265224,
          0.26670558714098197,
          0.2736398910286287,
          0.27401220535715387,
          0.2755796054432664,
          0.3147080668818636,
          0.3202947797854852,
          0.34652477839380397,
          0.3859710863938571,
          0.3906990429130119,
          0.4007789371262188,
          0.40132804733903504,
          0.4176296612233209,
          0.42054203699051557,
          0.4416431019035721,
          0.45464669278479425,
          0.46541475212301975,
          0.47324651726450506,
          0.4737574693719645,
          0.4810615960083026,
          0.4828449915551156,
          0.487360069822793,
          0.5071593870042592,
          0.5289574121092158,
          0.5325569148526252,
          0.5372581563801988,
          0.5485800991828499,
          0.5641805976624498,
          0.5709176005223706,
          0.5814822011223266,
          0.5932198694492886,
          0.6029613102800374,
          0.6034081523028453,
          0.6248954193872295,
          0.6319860265517128,
          0.6338031469144519,
          0.6355055879405196,
          0.6406405625448738,
          0.6530807721368268,
          0.6617009562117813,
          0.6636989710829612,
          0.6670459725970175,
          0.6752887321228956,
          0.6769649913861934,
          0.790483159938152,
          0.8048674627217633,
          0.8492237767614388,
          0.8506774045895065,
          0.852920765085239,
          0.8633427818321906,
          0.8934258758796112,
          0.9090372424460887,
          0.9225889067709084,
          0.9474031737591992,
          0.9668251403869244,
          0.989693815213301,
          0.9993612266499273,
          1.0013532295879193,
          1.0541123681429432,
          1.0578293928013032,
          1.058506317902185,
          1.0707007142758127,
          1.083895101179074,
          1.1009651775874374,
          1.1132447869097828,
          1.1646600190425582,
          1.179290482105375,
          1.1930478786647538,
          1.3060365615568348,
          1.3286164739398976,
          1.3524724969671875,
          1.4306248269378643,
          1.4570327509195373,
          1.4743668942164756,
          1.4781109693084087,
          1.4934933232075889,
          1.5108120630225108,
          1.605987135422349,
          1.649240464950037,
          1.672811735201653,
          1.6767849947451352,
          1.6982920162827857,
          1.7303370315936366,
          1.7421204222874502,
          1.7925077362810486,
          1.814502613047648,
          1.8490357270153255,
          1.8627166203265628,
          1.864031133758983,
          1.9066111460566453,
          1.9331536080438243,
          1.972451645006289,
          2.0018606549851055,
          2.081446142700205,
          2.1229952660489495,
          2.1374130435336904,
          2.192739308690027,
          2.2744020905205273,
          2.6837659205555036,
          2.7061943123134684,
          4.016952192030046
         ],
         "y": [
          -186.99255127239945,
          -181.50638149446831,
          -159.36431110828212,
          -147.9308400546633,
          -145.9496246741038,
          -142.6702691727337,
          -139.08266261163627,
          -127.00048150050115,
          -126.79735816396474,
          -124.87073602189112,
          -121.95446924395083,
          -120.7979513719689,
          -118.48387605207263,
          -114.43821900569407,
          -113.77493702032542,
          -112.23996861743707,
          -111.1240739470527,
          -107.70609178143218,
          -105.1402428796238,
          -102.83212684202394,
          -102.57346855520893,
          -97.1654212322988,
          -88.35993177193662,
          -87.19495674805553,
          -87.1769580137675,
          -86.66715167083609,
          -84.7748573140971,
          -83.23290563922028,
          -83.01637732999083,
          -82.09712674999975,
          -80.24913667323541,
          -77.34272690092627,
          -76.9531663024025,
          -75.88680870860146,
          -75.68803653246938,
          -74.26441265547547,
          -72.35861026262506,
          -71.12873607166561,
          -69.71492569207986,
          -69.22711284672863,
          -67.78622712888267,
          -67.53131698015596,
          -66.74477745567079,
          -66.43830125632614,
          -65.68488739031777,
          -65.34478606422356,
          -63.16200805851996,
          -62.916111355590616,
          -59.74672899134098,
          -57.50014249496613,
          -55.963623444633136,
          -55.83849374158665,
          -54.27329418692342,
          -54.173835559507346,
          -54.07588368513417,
          -53.69714307061271,
          -51.14133702646302,
          -51.01681035180897,
          -50.96495376659869,
          -50.73773580002194,
          -49.51280395157952,
          -48.6968546903377,
          -48.44111779188506,
          -48.10754862538535,
          -47.17670216206077,
          -46.641202649518625,
          -46.445373445725934,
          -46.304336475117836,
          -45.49925198267807,
          -45.012172302663295,
          -44.80252755257268,
          -44.247333151996834,
          -43.483096138187,
          -41.60198983419315,
          -40.60830614085095,
          -39.99966979116785,
          -39.9883589145133,
          -39.90840864202942,
          -39.203554286648355,
          -38.50299193078147,
          -38.36585201537865,
          -38.02237720274831,
          -37.806768668689855,
          -37.39829403869395,
          -37.239196223702926,
          -37.22830645894297,
          -37.07224523633001,
          -36.988256865363034,
          -36.03082742499114,
          -35.98245727583567,
          -35.0538829198094,
          -34.66863620822851,
          -34.397880227174575,
          -34.31291969226674,
          -34.14630590475561,
          -33.89439392693876,
          -32.520717910838115,
          -28.899786022812673,
          -28.519156776083676,
          -28.105189764532103,
          -27.31856696968969,
          -27.20806440937672,
          -27.129692823692647,
          -26.603542698125782,
          -25.93616423262736,
          -22.784174533058593,
          -22.773127589620326,
          -21.4786903882125,
          -19.079432719524164,
          -16.25798502469352,
          -15.412136866912771,
          -14.744806018495908,
          -14.732699251166924,
          -14.328464882755114,
          -14.286897731646796,
          -14.207824693020893,
          -13.822406008711454,
          -12.857090363811135,
          -12.442745718498216,
          -12.324842644347353,
          -11.83306132920783,
          -11.771790346322916,
          -11.729741022244912,
          -10.991968030086344,
          -10.036231990176395,
          -2.5319754437263864,
          -2.321310755865169,
          -2.2425307220231967,
          -2.208053555436806,
          -1.669230997540405,
          -1.5803053214829663,
          -1.2882759445359786,
          3.1990167739617155,
          3.5590533773871282,
          4.865745370411201,
          9.39857718783579,
          9.658067245455587,
          9.799509065334696,
          9.997855831243385,
          10.15058388658776,
          10.26117407846396,
          12.872464029463458,
          12.92449268433614,
          13.270185967504322,
          13.626296733478338,
          14.26560096076539,
          14.673246629362652,
          15.212853472175983,
          15.632843732058696,
          15.711716865576584,
          16.705571730355146,
          17.193317316984594,
          17.21950519013226,
          17.329753094878104,
          20.08197374852948,
          20.47493237951212,
          22.31989998776699,
          25.094477356683132,
          25.427032716724657,
          26.136033071459885,
          26.174656426769044,
          27.32128056609503,
          27.526131471113246,
          29.010339756657185,
          29.924987306781137,
          30.68239187166326,
          31.23326315523693,
          31.26920254287126,
          31.782960749719262,
          31.908401359370398,
          32.22598327300261,
          33.61862912902581,
          35.151860252790215,
          35.40504234656695,
          35.735718625528136,
          36.532082287048915,
          37.629391318486036,
          38.10325913063805,
          38.84635279953696,
          39.67195779414859,
          40.35715198949875,
          40.388581997193306,
          41.89995500001296,
          42.398694658244686,
          42.52650740652638,
          42.646253831029156,
          43.007438059656614,
          43.88245845442613,
          44.488785608040295,
          44.629322127816145,
          44.8647437711957,
          45.444523608586024,
          45.562428458296566,
          53.547077906976234,
          54.55884207438556,
          57.678779816159896,
          57.781025199291264,
          57.93881885799746,
          58.67188345315597,
          60.78787037722594,
          61.88594384897251,
          62.83914183005461,
          64.58452960149984,
          65.95063334598862,
          67.55917191011183,
          68.23915902038912,
          68.37927267235776,
          72.0902489147499,
          72.35169727378961,
          72.39931088227625,
          73.25704124846959,
          74.18510902349338,
          75.38578533744018,
          76.2495094184078,
          79.86595787013556,
          80.89503647771527,
          81.86270526813301,
          89.81011171477913,
          91.39833928451952,
          93.076326020408,
          98.57341046401207,
          100.43089300051483,
          101.6501432710641,
          101.9134943055281,
          102.99545946711604,
          104.21362628639262,
          110.90805766296633,
          113.9504135974592,
          115.60837137126789,
          115.88784279886414,
          117.40060529189839,
          119.65458998085681,
          120.48341099873531,
          124.02755766733915,
          125.57463495803577,
          128.00362771682046,
          128.96591541603593,
          129.0583757603785,
          132.05337185707546,
          133.9203175378942,
          136.68446580745436,
          138.753038955779,
          144.35092895623663,
          147.27341430877144,
          148.28753302221799,
          152.1790760079194,
          157.9230788775755,
          186.71694263958713,
          188.29451254024173,
          280.49069853527135
         ]
        },
        {
         "mode": "markers",
         "type": "scatter",
         "x": [
          -2.6292810193302594,
          -2.551283863718271,
          -2.2364889194513,
          -2.07393867819891,
          -2.045771638061002,
          -1.9991488736003926,
          -1.9481436880980896,
          -1.7763707028637878,
          -1.7734828880258315,
          -1.746092002744573,
          -1.7046312891880817,
          -1.6881890156018937,
          -1.655289688725452,
          -1.5977723761062783,
          -1.5883424622826972,
          -1.5665197381918075,
          -1.5506550067351406,
          -1.5020613799167888,
          -1.4655825751819727,
          -1.4327679717259543,
          -1.4290906136667496,
          -1.3522041289832425,
          -1.2270160361097127,
          -1.2104535267635292,
          -1.2101976378399437,
          -1.2029496950545138,
          -1.1760468496486034,
          -1.1541248440235992,
          -1.151046450005006,
          -1.1379774176133373,
          -1.1117044484160272,
          -1.070383872411453,
          -1.064845469508651,
          -1.0496850091969234,
          -1.0468590550284116,
          -1.0266193217424486,
          -0.9995244318980244,
          -0.982039247782631,
          -0.9619390334899593,
          -0.9550037733816338,
          -0.9345186276236577,
          -0.930894557034867,
          -0.9197122844896333,
          -0.9153550967285448,
          -0.9046437733597944,
          -0.899808535456308,
          -0.8687758691939285,
          -0.8652799432238636,
          -0.8202206724640196,
          -0.7882808376345513,
          -0.7664360679098342,
          -0.7646570925380807,
          -0.7424045706201532,
          -0.7409905622402573,
          -0.7395979754452399,
          -0.7342134008069846,
          -0.6978773758918426,
          -0.6961069738055079,
          -0.695369726088089,
          -0.692139356665652,
          -0.6747244380859588,
          -0.6631240458129065,
          -0.6594882212810853,
          -0.6547458514237947,
          -0.6415119597672052,
          -0.6338987358786721,
          -0.6311146220980464,
          -0.6291094922918536,
          -0.6176635649911306,
          -0.6107387283317962,
          -0.6077581982246473,
          -0.5998649711081965,
          -0.5889997744950056,
          -0.5622559902057358,
          -0.5481287384443194,
          -0.5394757244110484,
          -0.5393149171006217,
          -0.5381782599980234,
          -0.5281573096691444,
          -0.5181973789163166,
          -0.5162476537427871,
          -0.5113644548091169,
          -0.5082991372810524,
          -0.5024918326279042,
          -0.5002299308757383,
          -0.5000751105346003,
          -0.4978563801711863,
          -0.4966623132164485,
          -0.4830504900190361,
          -0.4823628091408703,
          -0.46916122014965334,
          -0.463684147997593,
          -0.4598347964022247,
          -0.4586269081431444,
          -0.45625815142622966,
          -0.4526767059862175,
          -0.4331470839866841,
          -0.3816681106113404,
          -0.37625668519264127,
          -0.37037129507072014,
          -0.3591878386665696,
          -0.3576168181292679,
          -0.35650260529743966,
          -0.3490223021204968,
          -0.33953414842992685,
          -0.2947221500711446,
          -0.29456509511271856,
          -0.27616201538407276,
          -0.24205164670924276,
          -0.20193898089455475,
          -0.18991351448410435,
          -0.1804260377680121,
          -0.18025391523926435,
          -0.17450689460137597,
          -0.1739159322935042,
          -0.17279174686941706,
          -0.16731222977230173,
          -0.1535882880027908,
          -0.14769752904241953,
          -0.14602129502234432,
          -0.13902961497658553,
          -0.13815852228714706,
          -0.13756070490156702,
          -0.1270717486342649,
          -0.11348400059760945,
          -0.006795602444085597,
          -0.0038005718296195037,
          -0.002680552069493298,
          -0.002190388433268159,
          0.00547007936059291,
          0.006734340233680385,
          0.010886136783730979,
          0.07468220628364246,
          0.07980086504195263,
          0.09837817176818964,
          0.16282167296074013,
          0.16651085634790969,
          0.16852174191684186,
          0.17134164800650514,
          0.17351299056081887,
          0.1750852569605256,
          0.21221009940988494,
          0.2129497934504725,
          0.2178645324929554,
          0.2229273774199409,
          0.2320163982336413,
          0.23781191750029518,
          0.24548353551283084,
          0.2514545584635542,
          0.2525759018265224,
          0.26670558714098197,
          0.2736398910286287,
          0.27401220535715387,
          0.2755796054432664,
          0.3147080668818636,
          0.3202947797854852,
          0.34652477839380397,
          0.3859710863938571,
          0.3906990429130119,
          0.4007789371262188,
          0.40132804733903504,
          0.4176296612233209,
          0.42054203699051557,
          0.4416431019035721,
          0.45464669278479425,
          0.46541475212301975,
          0.47324651726450506,
          0.4737574693719645,
          0.4810615960083026,
          0.4828449915551156,
          0.487360069822793,
          0.5071593870042592,
          0.5289574121092158,
          0.5325569148526252,
          0.5372581563801988,
          0.5485800991828499,
          0.5641805976624498,
          0.5709176005223706,
          0.5814822011223266,
          0.5932198694492886,
          0.6029613102800374,
          0.6034081523028453,
          0.6248954193872295,
          0.6319860265517128,
          0.6338031469144519,
          0.6355055879405196,
          0.6406405625448738,
          0.6530807721368268,
          0.6617009562117813,
          0.6636989710829612,
          0.6670459725970175,
          0.6752887321228956,
          0.6769649913861934,
          0.790483159938152,
          0.8048674627217633,
          0.8492237767614388,
          0.8506774045895065,
          0.852920765085239,
          0.8633427818321906,
          0.8934258758796112,
          0.9090372424460887,
          0.9225889067709084,
          0.9474031737591992,
          0.9668251403869244,
          0.989693815213301,
          0.9993612266499273,
          1.0013532295879193,
          1.0541123681429432,
          1.0578293928013032,
          1.058506317902185,
          1.0707007142758127,
          1.083895101179074,
          1.1009651775874374,
          1.1132447869097828,
          1.1646600190425582,
          1.179290482105375,
          1.1930478786647538,
          1.3060365615568348,
          1.3286164739398976,
          1.3524724969671875,
          1.4306248269378643,
          1.4570327509195373,
          1.4743668942164756,
          1.4781109693084087,
          1.4934933232075889,
          1.5108120630225108,
          1.605987135422349,
          1.649240464950037,
          1.672811735201653,
          1.6767849947451352,
          1.6982920162827857,
          1.7303370315936366,
          1.7421204222874502,
          1.7925077362810486,
          1.814502613047648,
          1.8490357270153255,
          1.8627166203265628,
          1.864031133758983,
          1.9066111460566453,
          1.9331536080438243,
          1.972451645006289,
          2.0018606549851055,
          2.081446142700205,
          2.1229952660489495,
          2.1374130435336904,
          2.192739308690027,
          2.2744020905205273,
          2.6837659205555036,
          2.7061943123134684,
          4.016952192030046
         ],
         "y": [
          -194.75830512725204,
          -157.2933590152324,
          -213.60324913414092,
          -130.80982582748422,
          -194.74669029477636,
          -135.58229811222503,
          -189.91457660902648,
          -70.57719671970311,
          -207.97467127201972,
          -123.0486046211563,
          -115.06389980607901,
          -153.89463493572362,
          -67.68738422696416,
          -139.33574889017046,
          -152.38032914415052,
          -78.59427228163737,
          -29.80672535485884,
          -101.56969400640874,
          10.469106534290177,
          -109.24853093853929,
          -192.29876760839807,
          -122.54555631984324,
          -152.999528382246,
          -92.16553773488357,
          37.10070840961437,
          -92.44364736520946,
          -69.36322737617263,
          -48.52942835297556,
          -20.319468623302498,
          -71.53982761560312,
          -205.31461598458833,
          -94.79097584725216,
          -29.3736648677912,
          53.25370474333161,
          -144.7083998447965,
          -14.36898194579338,
          -95.25951780347437,
          -52.3139562291352,
          -71.50344367464149,
          -46.64841144090643,
          -84.34425654028352,
          -10.816599029561502,
          -78.55341886639718,
          26.37687944262791,
          10.077247100595486,
          -143.71189380505172,
          21.670628512206648,
          -73.99147359080537,
          -104.32904972322615,
          6.109922686637695,
          -19.907664617023066,
          -33.70874474823081,
          18.12921012440585,
          -26.786895934772865,
          -193.28048591697538,
          -76.00630342616493,
          -106.15044832105039,
          -55.954886898671404,
          -99.58964769256525,
          -68.5738432298139,
          17.23509601148192,
          -48.17912323661411,
          -5.718721660043556,
          -54.52701834573967,
          -126.63611175067354,
          -72.43012883505456,
          -77.96882178714688,
          -81.68972611118045,
          -109.45357119268294,
          -11.89525534683608,
          -18.283730326801923,
          -20.292767453585235,
          -75.80096926655928,
          -0.8655363314656981,
          -137.2807979590471,
          -6.852511120453897,
          -56.60311702452944,
          -25.159510089471336,
          -69.15006338228355,
          -116.0739467541134,
          -24.804164197006898,
          -36.950353205253776,
          -26.551706367589542,
          -35.13112031318465,
          -70.35856204241722,
          68.66148585916872,
          -44.118134966673225,
          -15.02393350377875,
          -67.96027146599782,
          -99.30626070872421,
          -75.4789249081272,
          -64.71643171327878,
          15.801152013382875,
          -44.25662065007572,
          24.778943191484316,
          33.690817242658895,
          47.901315318229216,
          -64.90503861228532,
          -76.86237828880957,
          -22.078953831198156,
          -14.137542347113566,
          -32.33127581889661,
          14.79487917658814,
          -97.26809676082144,
          -41.40948871565159,
          -33.25833145737376,
          -11.393458883019857,
          16.98702730254803,
          4.9098216158200145,
          -25.109103857513432,
          20.15345757777624,
          9.308647755779035,
          -12.458491192092982,
          -30.317816224231827,
          -8.915900633775735,
          61.93070108801393,
          35.667874140444766,
          -23.88677596130983,
          0.9113473414687494,
          92.95523932095684,
          36.61934562243925,
          -30.736983025832387,
          -46.395533999790636,
          48.20245517448007,
          34.10271256742544,
          -62.33574678087491,
          33.457885336544294,
          -45.40816865311449,
          68.96903167379934,
          164.29468770177016,
          -71.53482082415967,
          -46.17699538816806,
          78.5876695503471,
          161.23185791960137,
          -44.716165254837136,
          6.664262563226057,
          -80.7241825977151,
          108.48478912398315,
          29.959685460976054,
          -27.295449556703545,
          77.41688987764653,
          -3.1546692479263214,
          83.36410023536092,
          27.417663128289806,
          63.457249154972274,
          14.817633271130678,
          -17.574093765026863,
          162.419262536956,
          -17.311563967036726,
          -16.042708200892523,
          -75.6421374916307,
          -32.22508036660402,
          69.28128535605082,
          66.31302246767486,
          44.49729843924548,
          63.607708301410185,
          30.126749898074586,
          138.61819673769938,
          39.795623285061346,
          100.04933944675162,
          87.35360200927022,
          8.816228588005,
          48.745714665445284,
          56.735161651230236,
          37.10005230055286,
          -7.178566209903742,
          -60.65079792718595,
          93.79856082184551,
          110.4635105141019,
          57.19108377476435,
          -20.79311385433271,
          7.770584084256271,
          28.04715562549035,
          24.397123468141533,
          -70.37326519564039,
          74.34794488462973,
          51.865896120273206,
          24.98648569160478,
          16.823994697899714,
          177.86611103855188,
          36.46301784706299,
          10.718586581044868,
          -41.04886708386772,
          164.14743476373613,
          66.8642377794221,
          23.59366313676822,
          49.43284694600008,
          4.554024478136526,
          94.6512238909188,
          -38.85284830242171,
          42.94466376534992,
          105.07540145221549,
          58.43276514094345,
          52.26534443595171,
          58.25866909935177,
          5.0572632836635165,
          192.98114310786883,
          38.26561706053181,
          54.72349391487906,
          97.79598423537453,
          136.81182224171584,
          72.41686181198168,
          124.52375631769583,
          57.94837097259088,
          59.91429290616583,
          100.38766904814948,
          125.43547647582233,
          88.81125455579779,
          75.37619282472426,
          116.67324339204879,
          116.75398470302059,
          13.429525190632603,
          38.579465464749404,
          171.08509113144498,
          29.642147854735462,
          114.68773414330856,
          62.7538405262937,
          32.7437549547994,
          99.7436707010176,
          138.18734706583191,
          169.78822529774766,
          116.2927638418814,
          66.09276141907665,
          66.12627090959408,
          112.1392129950705,
          108.37916609748993,
          87.43459583472392,
          181.93116485998797,
          227.38183117701772,
          178.62790672138874,
          137.10322686402174,
          190.77314130070786,
          91.58244243686875,
          122.59278517181174,
          99.49827709135255,
          188.86185179554911,
          161.20573451068162,
          140.08346407811814,
          135.07455957638905,
          190.54799968501618,
          118.66541616955878,
          98.60291832684686,
          178.2517211336608,
          148.56028335964257,
          154.43757577272257,
          184.5450797443654,
          208.16116723259827,
          172.22069498158376,
          248.51710033252482,
          217.80805764945
         ]
        },
        {
         "fill": "toself",
         "type": "scatter",
         "x": [
          -2.6292810193302594,
          -2.551283863718271,
          -2.2364889194513,
          -2.07393867819891,
          -2.045771638061002,
          -1.9991488736003926,
          -1.9481436880980896,
          -1.7763707028637878,
          -1.7734828880258315,
          -1.746092002744573,
          -1.7046312891880817,
          -1.6881890156018937,
          -1.655289688725452,
          -1.5977723761062783,
          -1.5883424622826972,
          -1.5665197381918075,
          -1.5506550067351406,
          -1.5020613799167888,
          -1.4655825751819727,
          -1.4327679717259543,
          -1.4290906136667496,
          -1.3522041289832425,
          -1.2270160361097127,
          -1.2104535267635292,
          -1.2101976378399437,
          -1.2029496950545138,
          -1.1760468496486034,
          -1.1541248440235992,
          -1.151046450005006,
          -1.1379774176133373,
          -1.1117044484160272,
          -1.070383872411453,
          -1.064845469508651,
          -1.0496850091969234,
          -1.0468590550284116,
          -1.0266193217424486,
          -0.9995244318980244,
          -0.982039247782631,
          -0.9619390334899593,
          -0.9550037733816338,
          -0.9345186276236577,
          -0.930894557034867,
          -0.9197122844896333,
          -0.9153550967285448,
          -0.9046437733597944,
          -0.899808535456308,
          -0.8687758691939285,
          -0.8652799432238636,
          -0.8202206724640196,
          -0.7882808376345513,
          -0.7664360679098342,
          -0.7646570925380807,
          -0.7424045706201532,
          -0.7409905622402573,
          -0.7395979754452399,
          -0.7342134008069846,
          -0.6978773758918426,
          -0.6961069738055079,
          -0.695369726088089,
          -0.692139356665652,
          -0.6747244380859588,
          -0.6631240458129065,
          -0.6594882212810853,
          -0.6547458514237947,
          -0.6415119597672052,
          -0.6338987358786721,
          -0.6311146220980464,
          -0.6291094922918536,
          -0.6176635649911306,
          -0.6107387283317962,
          -0.6077581982246473,
          -0.5998649711081965,
          -0.5889997744950056,
          -0.5622559902057358,
          -0.5481287384443194,
          -0.5394757244110484,
          -0.5393149171006217,
          -0.5381782599980234,
          -0.5281573096691444,
          -0.5181973789163166,
          -0.5162476537427871,
          -0.5113644548091169,
          -0.5082991372810524,
          -0.5024918326279042,
          -0.5002299308757383,
          -0.5000751105346003,
          -0.4978563801711863,
          -0.4966623132164485,
          -0.4830504900190361,
          -0.4823628091408703,
          -0.46916122014965334,
          -0.463684147997593,
          -0.4598347964022247,
          -0.4586269081431444,
          -0.45625815142622966,
          -0.4526767059862175,
          -0.4331470839866841,
          -0.3816681106113404,
          -0.37625668519264127,
          -0.37037129507072014,
          -0.3591878386665696,
          -0.3576168181292679,
          -0.35650260529743966,
          -0.3490223021204968,
          -0.33953414842992685,
          -0.2947221500711446,
          -0.29456509511271856,
          -0.27616201538407276,
          -0.24205164670924276,
          -0.20193898089455475,
          -0.18991351448410435,
          -0.1804260377680121,
          -0.18025391523926435,
          -0.17450689460137597,
          -0.1739159322935042,
          -0.17279174686941706,
          -0.16731222977230173,
          -0.1535882880027908,
          -0.14769752904241953,
          -0.14602129502234432,
          -0.13902961497658553,
          -0.13815852228714706,
          -0.13756070490156702,
          -0.1270717486342649,
          -0.11348400059760945,
          -0.006795602444085597,
          -0.0038005718296195037,
          -0.002680552069493298,
          -0.002190388433268159,
          0.00547007936059291,
          0.006734340233680385,
          0.010886136783730979,
          0.07468220628364246,
          0.07980086504195263,
          0.09837817176818964,
          0.16282167296074013,
          0.16651085634790969,
          0.16852174191684186,
          0.17134164800650514,
          0.17351299056081887,
          0.1750852569605256,
          0.21221009940988494,
          0.2129497934504725,
          0.2178645324929554,
          0.2229273774199409,
          0.2320163982336413,
          0.23781191750029518,
          0.24548353551283084,
          0.2514545584635542,
          0.2525759018265224,
          0.26670558714098197,
          0.2736398910286287,
          0.27401220535715387,
          0.2755796054432664,
          0.3147080668818636,
          0.3202947797854852,
          0.34652477839380397,
          0.3859710863938571,
          0.3906990429130119,
          0.4007789371262188,
          0.40132804733903504,
          0.4176296612233209,
          0.42054203699051557,
          0.4416431019035721,
          0.45464669278479425,
          0.46541475212301975,
          0.47324651726450506,
          0.4737574693719645,
          0.4810615960083026,
          0.4828449915551156,
          0.487360069822793,
          0.5071593870042592,
          0.5289574121092158,
          0.5325569148526252,
          0.5372581563801988,
          0.5485800991828499,
          0.5641805976624498,
          0.5709176005223706,
          0.5814822011223266,
          0.5932198694492886,
          0.6029613102800374,
          0.6034081523028453,
          0.6248954193872295,
          0.6319860265517128,
          0.6338031469144519,
          0.6355055879405196,
          0.6406405625448738,
          0.6530807721368268,
          0.6617009562117813,
          0.6636989710829612,
          0.6670459725970175,
          0.6752887321228956,
          0.6769649913861934,
          0.790483159938152,
          0.8048674627217633,
          0.8492237767614388,
          0.8506774045895065,
          0.852920765085239,
          0.8633427818321906,
          0.8934258758796112,
          0.9090372424460887,
          0.9225889067709084,
          0.9474031737591992,
          0.9668251403869244,
          0.989693815213301,
          0.9993612266499273,
          1.0013532295879193,
          1.0541123681429432,
          1.0578293928013032,
          1.058506317902185,
          1.0707007142758127,
          1.083895101179074,
          1.1009651775874374,
          1.1132447869097828,
          1.1646600190425582,
          1.179290482105375,
          1.1930478786647538,
          1.3060365615568348,
          1.3286164739398976,
          1.3524724969671875,
          1.4306248269378643,
          1.4570327509195373,
          1.4743668942164756,
          1.4781109693084087,
          1.4934933232075889,
          1.5108120630225108,
          1.605987135422349,
          1.649240464950037,
          1.672811735201653,
          1.6767849947451352,
          1.6982920162827857,
          1.7303370315936366,
          1.7421204222874502,
          1.7925077362810486,
          1.814502613047648,
          1.8490357270153255,
          1.8627166203265628,
          1.864031133758983,
          1.9066111460566453,
          1.9331536080438243,
          1.972451645006289,
          2.0018606549851055,
          2.081446142700205,
          2.1229952660489495,
          2.1374130435336904,
          2.192739308690027,
          2.2744020905205273,
          2.6837659205555036,
          2.7061943123134684,
          4.016952192030046,
          4.016952192030046,
          2.7061943123134684,
          2.6837659205555036,
          2.2744020905205273,
          2.192739308690027,
          2.1374130435336904,
          2.1229952660489495,
          2.081446142700205,
          2.0018606549851055,
          1.972451645006289,
          1.9331536080438243,
          1.9066111460566453,
          1.864031133758983,
          1.8627166203265628,
          1.8490357270153255,
          1.814502613047648,
          1.7925077362810486,
          1.7421204222874502,
          1.7303370315936366,
          1.6982920162827857,
          1.6767849947451352,
          1.672811735201653,
          1.649240464950037,
          1.605987135422349,
          1.5108120630225108,
          1.4934933232075889,
          1.4781109693084087,
          1.4743668942164756,
          1.4570327509195373,
          1.4306248269378643,
          1.3524724969671875,
          1.3286164739398976,
          1.3060365615568348,
          1.1930478786647538,
          1.179290482105375,
          1.1646600190425582,
          1.1132447869097828,
          1.1009651775874374,
          1.083895101179074,
          1.0707007142758127,
          1.058506317902185,
          1.0578293928013032,
          1.0541123681429432,
          1.0013532295879193,
          0.9993612266499273,
          0.989693815213301,
          0.9668251403869244,
          0.9474031737591992,
          0.9225889067709084,
          0.9090372424460887,
          0.8934258758796112,
          0.8633427818321906,
          0.852920765085239,
          0.8506774045895065,
          0.8492237767614388,
          0.8048674627217633,
          0.790483159938152,
          0.6769649913861934,
          0.6752887321228956,
          0.6670459725970175,
          0.6636989710829612,
          0.6617009562117813,
          0.6530807721368268,
          0.6406405625448738,
          0.6355055879405196,
          0.6338031469144519,
          0.6319860265517128,
          0.6248954193872295,
          0.6034081523028453,
          0.6029613102800374,
          0.5932198694492886,
          0.5814822011223266,
          0.5709176005223706,
          0.5641805976624498,
          0.5485800991828499,
          0.5372581563801988,
          0.5325569148526252,
          0.5289574121092158,
          0.5071593870042592,
          0.487360069822793,
          0.4828449915551156,
          0.4810615960083026,
          0.4737574693719645,
          0.47324651726450506,
          0.46541475212301975,
          0.45464669278479425,
          0.4416431019035721,
          0.42054203699051557,
          0.4176296612233209,
          0.40132804733903504,
          0.4007789371262188,
          0.3906990429130119,
          0.3859710863938571,
          0.34652477839380397,
          0.3202947797854852,
          0.3147080668818636,
          0.2755796054432664,
          0.27401220535715387,
          0.2736398910286287,
          0.26670558714098197,
          0.2525759018265224,
          0.2514545584635542,
          0.24548353551283084,
          0.23781191750029518,
          0.2320163982336413,
          0.2229273774199409,
          0.2178645324929554,
          0.2129497934504725,
          0.21221009940988494,
          0.1750852569605256,
          0.17351299056081887,
          0.17134164800650514,
          0.16852174191684186,
          0.16651085634790969,
          0.16282167296074013,
          0.09837817176818964,
          0.07980086504195263,
          0.07468220628364246,
          0.010886136783730979,
          0.006734340233680385,
          0.00547007936059291,
          -0.002190388433268159,
          -0.002680552069493298,
          -0.0038005718296195037,
          -0.006795602444085597,
          -0.11348400059760945,
          -0.1270717486342649,
          -0.13756070490156702,
          -0.13815852228714706,
          -0.13902961497658553,
          -0.14602129502234432,
          -0.14769752904241953,
          -0.1535882880027908,
          -0.16731222977230173,
          -0.17279174686941706,
          -0.1739159322935042,
          -0.17450689460137597,
          -0.18025391523926435,
          -0.1804260377680121,
          -0.18991351448410435,
          -0.20193898089455475,
          -0.24205164670924276,
          -0.27616201538407276,
          -0.29456509511271856,
          -0.2947221500711446,
          -0.33953414842992685,
          -0.3490223021204968,
          -0.35650260529743966,
          -0.3576168181292679,
          -0.3591878386665696,
          -0.37037129507072014,
          -0.37625668519264127,
          -0.3816681106113404,
          -0.4331470839866841,
          -0.4526767059862175,
          -0.45625815142622966,
          -0.4586269081431444,
          -0.4598347964022247,
          -0.463684147997593,
          -0.46916122014965334,
          -0.4823628091408703,
          -0.4830504900190361,
          -0.4966623132164485,
          -0.4978563801711863,
          -0.5000751105346003,
          -0.5002299308757383,
          -0.5024918326279042,
          -0.5082991372810524,
          -0.5113644548091169,
          -0.5162476537427871,
          -0.5181973789163166,
          -0.5281573096691444,
          -0.5381782599980234,
          -0.5393149171006217,
          -0.5394757244110484,
          -0.5481287384443194,
          -0.5622559902057358,
          -0.5889997744950056,
          -0.5998649711081965,
          -0.6077581982246473,
          -0.6107387283317962,
          -0.6176635649911306,
          -0.6291094922918536,
          -0.6311146220980464,
          -0.6338987358786721,
          -0.6415119597672052,
          -0.6547458514237947,
          -0.6594882212810853,
          -0.6631240458129065,
          -0.6747244380859588,
          -0.692139356665652,
          -0.695369726088089,
          -0.6961069738055079,
          -0.6978773758918426,
          -0.7342134008069846,
          -0.7395979754452399,
          -0.7409905622402573,
          -0.7424045706201532,
          -0.7646570925380807,
          -0.7664360679098342,
          -0.7882808376345513,
          -0.8202206724640196,
          -0.8652799432238636,
          -0.8687758691939285,
          -0.899808535456308,
          -0.9046437733597944,
          -0.9153550967285448,
          -0.9197122844896333,
          -0.930894557034867,
          -0.9345186276236577,
          -0.9550037733816338,
          -0.9619390334899593,
          -0.982039247782631,
          -0.9995244318980244,
          -1.0266193217424486,
          -1.0468590550284116,
          -1.0496850091969234,
          -1.064845469508651,
          -1.070383872411453,
          -1.1117044484160272,
          -1.1379774176133373,
          -1.151046450005006,
          -1.1541248440235992,
          -1.1760468496486034,
          -1.2029496950545138,
          -1.2101976378399437,
          -1.2104535267635292,
          -1.2270160361097127,
          -1.3522041289832425,
          -1.4290906136667496,
          -1.4327679717259543,
          -1.4655825751819727,
          -1.5020613799167888,
          -1.5506550067351406,
          -1.5665197381918075,
          -1.5883424622826972,
          -1.5977723761062783,
          -1.655289688725452,
          -1.6881890156018937,
          -1.7046312891880817,
          -1.746092002744573,
          -1.7734828880258315,
          -1.7763707028637878,
          -1.9481436880980896,
          -1.9991488736003926,
          -2.045771638061002,
          -2.07393867819891,
          -2.2364889194513,
          -2.551283863718271,
          -2.6292810193302594
         ],
         "y": [
          -289.90357455535025,
          -284.36220361592007,
          -261.8468604498468,
          -250.22064303378278,
          -248.20602816709766,
          -244.8713890304177,
          -241.22330231318108,
          -228.93743883396593,
          -228.7308912281012,
          -226.77178993704914,
          -223.80636050231533,
          -222.6303459602599,
          -220.27725977496306,
          -216.163400721011,
          -215.4889370752913,
          -213.92809205324352,
          -212.79338554194223,
          -209.31778276170377,
          -206.7086785754688,
          -204.36165213452227,
          -204.0986333657796,
          -198.59941675188736,
          -189.64548365135022,
          -188.4608693860577,
          -188.44256722767858,
          -187.92416652895702,
          -185.9999717237692,
          -184.4320257051795,
          -184.21184714452818,
          -183.2770997653028,
          -181.39795612515772,
          -178.44254986623827,
          -178.04642202422693,
          -176.96208768947758,
          -176.75996459622462,
          -175.3123411549257,
          -173.37441059408164,
          -172.12380308640138,
          -170.6861585792288,
          -170.19012214621512,
          -168.72494586258108,
          -168.46573841833606,
          -167.665939348123,
          -167.35429654868616,
          -166.58818157192954,
          -166.2423467906877,
          -164.02277134012667,
          -163.77272929106363,
          -160.54991722737782,
          -158.26545759754558,
          -156.70303578711545,
          -156.57579663760404,
          -154.98421082462542,
          -154.88307551577478,
          -154.7834723609294,
          -154.39834690706942,
          -151.79945488178458,
          -151.6728289265661,
          -151.62009813892672,
          -151.38904971383616,
          -150.14346786707534,
          -149.31376326842928,
          -149.05371513704583,
          -148.7145226350634,
          -147.76798388818298,
          -147.22345688235822,
          -147.0243263743059,
          -146.88091179125382,
          -146.06225512054453,
          -145.56696421262677,
          -145.35378525470054,
          -144.7892313428565,
          -144.0121107608138,
          -142.09929261745225,
          -141.08885732554347,
          -140.4699605359727,
          -140.4584589796618,
          -140.37716089913908,
          -139.6604240530939,
          -138.94805156143133,
          -138.80859973045045,
          -138.45933459216872,
          -138.24009131233123,
          -137.82473058460405,
          -137.66295068602105,
          -137.6518773407425,
          -137.49318522565284,
          -137.4077809720623,
          -136.43421111019777,
          -136.3850255332289,
          -135.440797197012,
          -135.04905596579195,
          -134.77373555892072,
          -134.68734275257248,
          -134.51792017660807,
          -134.26176144667608,
          -132.8649278912735,
          -129.18295404610262,
          -128.79590812132344,
          -128.37496242103643,
          -127.57507867668784,
          -127.46271325544302,
          -127.38302047534748,
          -126.84800046920563,
          -126.16937128456901,
          -122.96424509248564,
          -122.95301191879814,
          -121.63675299231531,
          -119.1970484474299,
          -116.32803656343417,
          -115.46792903027838,
          -114.78934826545586,
          -114.77703740128237,
          -114.36598841780561,
          -114.32372052436492,
          -114.24331446617818,
          -113.8513983630997,
          -112.86980935044488,
          -112.4484796502166,
          -112.32858895668427,
          -111.82851715310365,
          -111.76621325912646,
          -111.72345506420588,
          -110.97324463639177,
          -110.00139672246854,
          -102.37063282357931,
          -102.15641673369062,
          -102.07630861978572,
          -102.04125023438871,
          -101.49334416304737,
          -101.40291937088533,
          -101.1059669395247,
          -96.54302708424228,
          -96.17692095518184,
          -94.84820064483308,
          -90.23895398887984,
          -89.97508942727413,
          -89.83126316996989,
          -89.62957265853962,
          -89.4742699015169,
          -89.36181537140901,
          -86.70650408716921,
          -86.6535983291034,
          -86.30207732113143,
          -85.93996321160172,
          -85.28988154291235,
          -84.87536375128087,
          -84.32666017348522,
          -83.89958968446867,
          -83.81938690140612,
          -82.80877755243932,
          -82.3128095120003,
          -82.2861801616087,
          -82.17407368893477,
          -79.37545588107272,
          -78.97587272230163,
          -77.09980250368,
          -74.2784510892729,
          -73.94028948457839,
          -73.21933674559284,
          -73.18006227469452,
          -72.01410825462537,
          -71.80580395679226,
          -70.29657477017567,
          -69.36650801906026,
          -68.59633506791155,
          -68.03617715251922,
          -67.9996318958358,
          -67.47721271236207,
          -67.34965741495778,
          -67.02672168022049,
          -65.61059848982839,
          -64.0515200340939,
          -63.794069776486346,
          -63.45781893057014,
          -62.64803010723964,
          -61.53222255306206,
          -61.05036623972403,
          -60.29474543877881,
          -59.455222329643455,
          -58.75847707616729,
          -58.726517218908555,
          -57.18966537005648,
          -56.68251791908355,
          -56.552550493347404,
          -56.430785374116624,
          -56.063512273097395,
          -55.173740715066415,
          -54.55719205017515,
          -54.41428635459517,
          -54.17489595446716,
          -53.58534214256358,
          -53.465449643539046,
          -45.535637604885494,
          -44.53607950205992,
          -41.45378112605881,
          -41.35276924554603,
          -41.19687923163287,
          -40.4726584303947,
          -38.38219906885909,
          -37.27992996826729,
          -36.28766387346083,
          -34.47073901391714,
          -33.04864365225309,
          -31.374176950638585,
          -30.666319645204894,
          -30.52046324493203,
          -26.657387601635108,
          -26.38522342654592,
          -26.335658309654846,
          -25.442772699581056,
          -24.476666806455697,
          -23.226779143229507,
          -22.350245631616843,
          -18.777426520389042,
          -17.760762861223697,
          -16.80476816258738,
          -8.953240340116537,
          -7.384173370162529,
          -5.726430101209019,
          -0.29566325403925475,
          1.5394103530567804,
          2.743951417621645,
          3.004125348331229,
          4.073037530712014,
          5.27650821491207,
          11.890177033998555,
          14.895829560504296,
          16.533785499581057,
          16.809885344742924,
          18.304397659242852,
          20.53118996130874,
          21.35001196637529,
          24.85140155331453,
          26.37981468695304,
          28.779503736986044,
          29.730182262657763,
          29.82152715245985,
          32.78039119688424,
          34.62481378359814,
          37.35561498139586,
          39.39923257361565,
          44.92958884528622,
          47.81681692531902,
          48.83559193727376,
          52.79273886348244,
          58.33800244958954,
          86.37586893113472,
          87.8718530911106,
          178.72863453655992,
          383.6899912290839,
          289.68742809446303,
          288.1288902179827,
          259.68239966013846,
          254.00769324538226,
          250.05994584190478,
          249.02873103470088,
          246.0569781921485,
          240.36471851778376,
          238.2612731991513,
          235.45052669868483,
          233.5521078994078,
          230.5066219208133,
          230.41260287264762,
          229.43409285102632,
          226.96736612309624,
          225.43895298945773,
          221.9375634025185,
          221.11874139745194,
          218.89194909538605,
          217.39743678088612,
          217.12133693572426,
          215.4833809966475,
          212.47772847014176,
          205.86405965105527,
          204.66058896685522,
          203.59167678447443,
          203.33150285376485,
          202.12696178919998,
          200.29188818210395,
          194.86112133493418,
          193.20337806598067,
          191.63431109602666,
          183.78278327355582,
          182.8267885749195,
          181.81012491575416,
          178.23730580452636,
          177.38400181181095,
          176.19781062503537,
          175.28093918959834,
          174.43355660264294,
          174.38651741139597,
          174.12822320196796,
          170.46201669657822,
          170.3235933953258,
          169.65180974475928,
          168.06267681510266,
          166.71305393747045,
          164.98872276849067,
          164.04702430132,
          162.9209669701075,
          160.71825344838462,
          159.95514320527116,
          159.79088215917466,
          159.68444611016352,
          156.43663348307916,
          155.38340078726432,
          147.0714896375515,
          146.94875229745747,
          146.34520939607432,
          146.10013867693164,
          145.9538420770402,
          145.3226637816258,
          144.4117794876743,
          144.03579163293819,
          143.91113723860815,
          143.7780859112648,
          143.25890473083794,
          141.68558605301058,
          141.65286784376784,
          140.9395900338082,
          140.08014649729756,
          139.3065961252367,
          138.81330619727777,
          137.67102246501062,
          136.8420187573381,
          136.497789262016,
          136.2342301562974,
          134.63815747275441,
          133.18843213506977,
          132.85783369542216,
          132.72725173203258,
          132.19243644737878,
          132.15502403513557,
          131.5815745439059,
          130.79312672435532,
          129.8409911022724,
          128.29595052454874,
          128.08270352699506,
          126.88908344017091,
          126.84887705419278,
          126.11081735707627,
          125.76463176398389,
          122.87633457364845,
          120.95574846245123,
          120.54668388832887,
          117.68165973359436,
          117.56689316875276,
          117.53963195006025,
          117.03189544819054,
          115.99730609209612,
          115.91520023608906,
          115.47799610504644,
          114.9162727429791,
          114.49191916306007,
          113.8264121838245,
          113.45570573449858,
          113.09584374265853,
          113.04168262270952,
          110.32336540686293,
          110.2082425257881,
          110.04925470368643,
          109.84277842621647,
          109.69553942126764,
          109.42541381124148,
          104.70679772606637,
          103.34654918718364,
          102.97175599462699,
          98.30054549019167,
          97.99654689264638,
          97.90397647699216,
          97.34306954482415,
          97.30717928474425,
          97.22517034422975,
          97.00587127804796,
          89.19404258604978,
          88.19913440662764,
          87.43112278646893,
          87.38735001373942,
          87.32356775641325,
          86.81163011621985,
          86.68889462445921,
          86.25756750116643,
          85.25268708363402,
          84.85147149113872,
          84.76915753664133,
          84.72588669939546,
          84.30508423643263,
          84.29248125680334,
          83.6006139256749,
          82.74050639251912,
          79.87149450852338,
          77.43178996363798,
          76.11553103715515,
          76.10429786346765,
          72.89917167138428,
          72.22054248674766,
          71.68552248060581,
          71.60582970051027,
          71.49346427926545,
          70.69358053491686,
          70.27263483462986,
          69.88558890985067,
          66.20361506467978,
          64.80678150927722,
          64.5506227793452,
          64.38120020338081,
          64.29480739703257,
          64.01948699016134,
          63.627745758941316,
          62.68351742272438,
          62.634331845755526,
          61.660761983890964,
          61.575357730300446,
          61.416665615210796,
          61.40559226993224,
          61.24381237134923,
          60.82845164362205,
          60.60920836378456,
          60.25994322550284,
          60.12049139452198,
          59.4081189028594,
          58.69138205681419,
          58.610083976291484,
          58.5985824199806,
          57.979685630409804,
          56.969250338501034,
          55.056432195139486,
          54.27931161309678,
          53.71475770125274,
          53.50157874332653,
          53.00628783540874,
          52.18763116469948,
          52.0442165816474,
          51.845086073595084,
          51.30055906777031,
          50.3540203208899,
          50.014827818907456,
          49.75477968752401,
          48.92507508887794,
          47.67949324211714,
          47.44844481702656,
          47.395714029387186,
          47.26908807416869,
          44.670196048883874,
          44.28507059502387,
          44.185467440178506,
          44.08433213132787,
          42.492746318349255,
          42.36550716883784,
          40.80308535840771,
          38.518625728575486,
          35.295813664889664,
          35.045771615826624,
          32.826196165265586,
          32.48036138402375,
          31.714246407267126,
          31.402603607830287,
          30.602804537617217,
          30.343597093372196,
          28.878420809738174,
          28.382384376724488,
          26.944739869551896,
          25.694132361871652,
          23.7562018010276,
          22.308578359728685,
          22.106455266475706,
          21.022120931726363,
          20.62599308971501,
          17.67058683079557,
          15.791443190650469,
          14.856695811425098,
          14.636517250773778,
          13.068571232184098,
          11.144376426996288,
          10.62597572827471,
          10.607673569895567,
          9.423059304603058,
          0.46912620406591543,
          -5.0300904098263,
          -5.293109178568983,
          -7.640135619515505,
          -10.249239805750491,
          -13.724842585988938,
          -14.859549097290213,
          -16.420394119338013,
          -17.094857765057696,
          -21.18735750760314,
          -23.473515498821286,
          -24.616080977258946,
          -27.497165504451914,
          -29.400544607236185,
          -29.60121743539912,
          -41.53763742185174,
          -45.08196259505621,
          -48.321755492479525,
          -50.279069213276415,
          -61.46032088270138,
          -82.45729005222012,
          -87.65973660201661
         ]
        }
       ],
       "layout": {
        "autosize": true,
        "template": {
         "data": {
          "bar": [
           {
            "error_x": {
             "color": "#2a3f5f"
            },
            "error_y": {
             "color": "#2a3f5f"
            },
            "marker": {
             "line": {
              "color": "#E5ECF6",
              "width": 0.5
             },
             "pattern": {
              "fillmode": "overlay",
              "size": 10,
              "solidity": 0.2
             }
            },
            "type": "bar"
           }
          ],
          "barpolar": [
           {
            "marker": {
             "line": {
              "color": "#E5ECF6",
              "width": 0.5
             },
             "pattern": {
              "fillmode": "overlay",
              "size": 10,
              "solidity": 0.2
             }
            },
            "type": "barpolar"
           }
          ],
          "carpet": [
           {
            "aaxis": {
             "endlinecolor": "#2a3f5f",
             "gridcolor": "white",
             "linecolor": "white",
             "minorgridcolor": "white",
             "startlinecolor": "#2a3f5f"
            },
            "baxis": {
             "endlinecolor": "#2a3f5f",
             "gridcolor": "white",
             "linecolor": "white",
             "minorgridcolor": "white",
             "startlinecolor": "#2a3f5f"
            },
            "type": "carpet"
           }
          ],
          "choropleth": [
           {
            "colorbar": {
             "outlinewidth": 0,
             "ticks": ""
            },
            "type": "choropleth"
           }
          ],
          "contour": [
           {
            "colorbar": {
             "outlinewidth": 0,
             "ticks": ""
            },
            "colorscale": [
             [
              0,
              "#0d0887"
             ],
             [
              0.1111111111111111,
              "#46039f"
             ],
             [
              0.2222222222222222,
              "#7201a8"
             ],
             [
              0.3333333333333333,
              "#9c179e"
             ],
             [
              0.4444444444444444,
              "#bd3786"
             ],
             [
              0.5555555555555556,
              "#d8576b"
             ],
             [
              0.6666666666666666,
              "#ed7953"
             ],
             [
              0.7777777777777778,
              "#fb9f3a"
             ],
             [
              0.8888888888888888,
              "#fdca26"
             ],
             [
              1,
              "#f0f921"
             ]
            ],
            "type": "contour"
           }
          ],
          "contourcarpet": [
           {
            "colorbar": {
             "outlinewidth": 0,
             "ticks": ""
            },
            "type": "contourcarpet"
           }
          ],
          "heatmap": [
           {
            "colorbar": {
             "outlinewidth": 0,
             "ticks": ""
            },
            "colorscale": [
             [
              0,
              "#0d0887"
             ],
             [
              0.1111111111111111,
              "#46039f"
             ],
             [
              0.2222222222222222,
              "#7201a8"
             ],
             [
              0.3333333333333333,
              "#9c179e"
             ],
             [
              0.4444444444444444,
              "#bd3786"
             ],
             [
              0.5555555555555556,
              "#d8576b"
             ],
             [
              0.6666666666666666,
              "#ed7953"
             ],
             [
              0.7777777777777778,
              "#fb9f3a"
             ],
             [
              0.8888888888888888,
              "#fdca26"
             ],
             [
              1,
              "#f0f921"
             ]
            ],
            "type": "heatmap"
           }
          ],
          "heatmapgl": [
           {
            "colorbar": {
             "outlinewidth": 0,
             "ticks": ""
            },
            "colorscale": [
             [
              0,
              "#0d0887"
             ],
             [
              0.1111111111111111,
              "#46039f"
             ],
             [
              0.2222222222222222,
              "#7201a8"
             ],
             [
              0.3333333333333333,
              "#9c179e"
             ],
             [
              0.4444444444444444,
              "#bd3786"
             ],
             [
              0.5555555555555556,
              "#d8576b"
             ],
             [
              0.6666666666666666,
              "#ed7953"
             ],
             [
              0.7777777777777778,
              "#fb9f3a"
             ],
             [
              0.8888888888888888,
              "#fdca26"
             ],
             [
              1,
              "#f0f921"
             ]
            ],
            "type": "heatmapgl"
           }
          ],
          "histogram": [
           {
            "marker": {
             "pattern": {
              "fillmode": "overlay",
              "size": 10,
              "solidity": 0.2
             }
            },
            "type": "histogram"
           }
          ],
          "histogram2d": [
           {
            "colorbar": {
             "outlinewidth": 0,
             "ticks": ""
            },
            "colorscale": [
             [
              0,
              "#0d0887"
             ],
             [
              0.1111111111111111,
              "#46039f"
             ],
             [
              0.2222222222222222,
              "#7201a8"
             ],
             [
              0.3333333333333333,
              "#9c179e"
             ],
             [
              0.4444444444444444,
              "#bd3786"
             ],
             [
              0.5555555555555556,
              "#d8576b"
             ],
             [
              0.6666666666666666,
              "#ed7953"
             ],
             [
              0.7777777777777778,
              "#fb9f3a"
             ],
             [
              0.8888888888888888,
              "#fdca26"
             ],
             [
              1,
              "#f0f921"
             ]
            ],
            "type": "histogram2d"
           }
          ],
          "histogram2dcontour": [
           {
            "colorbar": {
             "outlinewidth": 0,
             "ticks": ""
            },
            "colorscale": [
             [
              0,
              "#0d0887"
             ],
             [
              0.1111111111111111,
              "#46039f"
             ],
             [
              0.2222222222222222,
              "#7201a8"
             ],
             [
              0.3333333333333333,
              "#9c179e"
             ],
             [
              0.4444444444444444,
              "#bd3786"
             ],
             [
              0.5555555555555556,
              "#d8576b"
             ],
             [
              0.6666666666666666,
              "#ed7953"
             ],
             [
              0.7777777777777778,
              "#fb9f3a"
             ],
             [
              0.8888888888888888,
              "#fdca26"
             ],
             [
              1,
              "#f0f921"
             ]
            ],
            "type": "histogram2dcontour"
           }
          ],
          "mesh3d": [
           {
            "colorbar": {
             "outlinewidth": 0,
             "ticks": ""
            },
            "type": "mesh3d"
           }
          ],
          "parcoords": [
           {
            "line": {
             "colorbar": {
              "outlinewidth": 0,
              "ticks": ""
             }
            },
            "type": "parcoords"
           }
          ],
          "pie": [
           {
            "automargin": true,
            "type": "pie"
           }
          ],
          "scatter": [
           {
            "fillpattern": {
             "fillmode": "overlay",
             "size": 10,
             "solidity": 0.2
            },
            "type": "scatter"
           }
          ],
          "scatter3d": [
           {
            "line": {
             "colorbar": {
              "outlinewidth": 0,
              "ticks": ""
             }
            },
            "marker": {
             "colorbar": {
              "outlinewidth": 0,
              "ticks": ""
             }
            },
            "type": "scatter3d"
           }
          ],
          "scattercarpet": [
           {
            "marker": {
             "colorbar": {
              "outlinewidth": 0,
              "ticks": ""
             }
            },
            "type": "scattercarpet"
           }
          ],
          "scattergeo": [
           {
            "marker": {
             "colorbar": {
              "outlinewidth": 0,
              "ticks": ""
             }
            },
            "type": "scattergeo"
           }
          ],
          "scattergl": [
           {
            "marker": {
             "colorbar": {
              "outlinewidth": 0,
              "ticks": ""
             }
            },
            "type": "scattergl"
           }
          ],
          "scattermapbox": [
           {
            "marker": {
             "colorbar": {
              "outlinewidth": 0,
              "ticks": ""
             }
            },
            "type": "scattermapbox"
           }
          ],
          "scatterpolar": [
           {
            "marker": {
             "colorbar": {
              "outlinewidth": 0,
              "ticks": ""
             }
            },
            "type": "scatterpolar"
           }
          ],
          "scatterpolargl": [
           {
            "marker": {
             "colorbar": {
              "outlinewidth": 0,
              "ticks": ""
             }
            },
            "type": "scatterpolargl"
           }
          ],
          "scatterternary": [
           {
            "marker": {
             "colorbar": {
              "outlinewidth": 0,
              "ticks": ""
             }
            },
            "type": "scatterternary"
           }
          ],
          "surface": [
           {
            "colorbar": {
             "outlinewidth": 0,
             "ticks": ""
            },
            "colorscale": [
             [
              0,
              "#0d0887"
             ],
             [
              0.1111111111111111,
              "#46039f"
             ],
             [
              0.2222222222222222,
              "#7201a8"
             ],
             [
              0.3333333333333333,
              "#9c179e"
             ],
             [
              0.4444444444444444,
              "#bd3786"
             ],
             [
              0.5555555555555556,
              "#d8576b"
             ],
             [
              0.6666666666666666,
              "#ed7953"
             ],
             [
              0.7777777777777778,
              "#fb9f3a"
             ],
             [
              0.8888888888888888,
              "#fdca26"
             ],
             [
              1,
              "#f0f921"
             ]
            ],
            "type": "surface"
           }
          ],
          "table": [
           {
            "cells": {
             "fill": {
              "color": "#EBF0F8"
             },
             "line": {
              "color": "white"
             }
            },
            "header": {
             "fill": {
              "color": "#C8D4E3"
             },
             "line": {
              "color": "white"
             }
            },
            "type": "table"
           }
          ]
         },
         "layout": {
          "annotationdefaults": {
           "arrowcolor": "#2a3f5f",
           "arrowhead": 0,
           "arrowwidth": 1
          },
          "autotypenumbers": "strict",
          "coloraxis": {
           "colorbar": {
            "outlinewidth": 0,
            "ticks": ""
           }
          },
          "colorscale": {
           "diverging": [
            [
             0,
             "#8e0152"
            ],
            [
             0.1,
             "#c51b7d"
            ],
            [
             0.2,
             "#de77ae"
            ],
            [
             0.3,
             "#f1b6da"
            ],
            [
             0.4,
             "#fde0ef"
            ],
            [
             0.5,
             "#f7f7f7"
            ],
            [
             0.6,
             "#e6f5d0"
            ],
            [
             0.7,
             "#b8e186"
            ],
            [
             0.8,
             "#7fbc41"
            ],
            [
             0.9,
             "#4d9221"
            ],
            [
             1,
             "#276419"
            ]
           ],
           "sequential": [
            [
             0,
             "#0d0887"
            ],
            [
             0.1111111111111111,
             "#46039f"
            ],
            [
             0.2222222222222222,
             "#7201a8"
            ],
            [
             0.3333333333333333,
             "#9c179e"
            ],
            [
             0.4444444444444444,
             "#bd3786"
            ],
            [
             0.5555555555555556,
             "#d8576b"
            ],
            [
             0.6666666666666666,
             "#ed7953"
            ],
            [
             0.7777777777777778,
             "#fb9f3a"
            ],
            [
             0.8888888888888888,
             "#fdca26"
            ],
            [
             1,
             "#f0f921"
            ]
           ],
           "sequentialminus": [
            [
             0,
             "#0d0887"
            ],
            [
             0.1111111111111111,
             "#46039f"
            ],
            [
             0.2222222222222222,
             "#7201a8"
            ],
            [
             0.3333333333333333,
             "#9c179e"
            ],
            [
             0.4444444444444444,
             "#bd3786"
            ],
            [
             0.5555555555555556,
             "#d8576b"
            ],
            [
             0.6666666666666666,
             "#ed7953"
            ],
            [
             0.7777777777777778,
             "#fb9f3a"
            ],
            [
             0.8888888888888888,
             "#fdca26"
            ],
            [
             1,
             "#f0f921"
            ]
           ]
          },
          "colorway": [
           "#636efa",
           "#EF553B",
           "#00cc96",
           "#ab63fa",
           "#FFA15A",
           "#19d3f3",
           "#FF6692",
           "#B6E880",
           "#FF97FF",
           "#FECB52"
          ],
          "font": {
           "color": "#2a3f5f"
          },
          "geo": {
           "bgcolor": "white",
           "lakecolor": "white",
           "landcolor": "#E5ECF6",
           "showlakes": true,
           "showland": true,
           "subunitcolor": "white"
          },
          "hoverlabel": {
           "align": "left"
          },
          "hovermode": "closest",
          "mapbox": {
           "style": "light"
          },
          "paper_bgcolor": "white",
          "plot_bgcolor": "#E5ECF6",
          "polar": {
           "angularaxis": {
            "gridcolor": "white",
            "linecolor": "white",
            "ticks": ""
           },
           "bgcolor": "#E5ECF6",
           "radialaxis": {
            "gridcolor": "white",
            "linecolor": "white",
            "ticks": ""
           }
          },
          "scene": {
           "xaxis": {
            "backgroundcolor": "#E5ECF6",
            "gridcolor": "white",
            "gridwidth": 2,
            "linecolor": "white",
            "showbackground": true,
            "ticks": "",
            "zerolinecolor": "white"
           },
           "yaxis": {
            "backgroundcolor": "#E5ECF6",
            "gridcolor": "white",
            "gridwidth": 2,
            "linecolor": "white",
            "showbackground": true,
            "ticks": "",
            "zerolinecolor": "white"
           },
           "zaxis": {
            "backgroundcolor": "#E5ECF6",
            "gridcolor": "white",
            "gridwidth": 2,
            "linecolor": "white",
            "showbackground": true,
            "ticks": "",
            "zerolinecolor": "white"
           }
          },
          "shapedefaults": {
           "line": {
            "color": "#2a3f5f"
           }
          },
          "ternary": {
           "aaxis": {
            "gridcolor": "white",
            "linecolor": "white",
            "ticks": ""
           },
           "baxis": {
            "gridcolor": "white",
            "linecolor": "white",
            "ticks": ""
           },
           "bgcolor": "#E5ECF6",
           "caxis": {
            "gridcolor": "white",
            "linecolor": "white",
            "ticks": ""
           }
          },
          "title": {
           "x": 0.05
          },
          "xaxis": {
           "automargin": true,
           "gridcolor": "white",
           "linecolor": "white",
           "ticks": "",
           "title": {
            "standoff": 15
           },
           "zerolinecolor": "white",
           "zerolinewidth": 2
          },
          "yaxis": {
           "automargin": true,
           "gridcolor": "white",
           "linecolor": "white",
           "ticks": "",
           "title": {
            "standoff": 15
           },
           "zerolinecolor": "white",
           "zerolinewidth": 2
          }
         }
        },
        "xaxis": {
         "autorange": true,
         "range": [
          -3.0336948542186724,
          4.4213660269184585
         ],
         "type": "linear"
        },
        "yaxis": {
         "autorange": true,
         "range": [
          -327.32543932115215,
          421.1118559948858
         ],
         "type": "linear"
        }
       }
      },
      "image/png": "[encoded data removed]",
      "text/html": [
       "<div>                            <div id=\"a6345629-f86e-49f2-9390-eecd1b982779\" class=\"plotly-graph-div\" style=\"height:525px; width:100%;\"></div>            <script type=\"text/javascript\">                require([\"plotly\"], function(Plotly) {                    window.PLOTLYENV=window.PLOTLYENV || {};                                    if (document.getElementById(\"a6345629-f86e-49f2-9390-eecd1b982779\")) {                    Plotly.newPlot(                        \"a6345629-f86e-49f2-9390-eecd1b982779\",                        [{\"mode\":\"markers\",\"x\":[-2.6292810193302594,-2.551283863718271,-2.2364889194513,-2.07393867819891,-2.045771638061002,-1.9991488736003926,-1.9481436880980896,-1.7763707028637878,-1.7734828880258315,-1.746092002744573,-1.7046312891880817,-1.6881890156018937,-1.655289688725452,-1.5977723761062783,-1.5883424622826972,-1.5665197381918075,-1.5506550067351406,-1.5020613799167888,-1.4655825751819727,-1.4327679717259543,-1.4290906136667496,-1.3522041289832425,-1.2270160361097127,-1.2104535267635292,-1.2101976378399437,-1.2029496950545138,-1.1760468496486034,-1.1541248440235992,-1.151046450005006,-1.1379774176133373,-1.1117044484160272,-1.070383872411453,-1.064845469508651,-1.0496850091969234,-1.0468590550284116,-1.0266193217424486,-0.9995244318980244,-0.982039247782631,-0.9619390334899593,-0.9550037733816338,-0.9345186276236577,-0.930894557034867,-0.9197122844896333,-0.9153550967285448,-0.9046437733597944,-0.899808535456308,-0.8687758691939285,-0.8652799432238636,-0.8202206724640196,-0.7882808376345513,-0.7664360679098342,-0.7646570925380807,-0.7424045706201532,-0.7409905622402573,-0.7395979754452399,-0.7342134008069846,-0.6978773758918426,-0.6961069738055079,-0.695369726088089,-0.692139356665652,-0.6747244380859588,-0.6631240458129065,-0.6594882212810853,-0.6547458514237947,-0.6415119597672052,-0.6338987358786721,-0.6311146220980464,-0.6291094922918536,-0.6176635649911306,-0.6107387283317962,-0.6077581982246473,-0.5998649711081965,-0.5889997744950056,-0.5622559902057358,-0.5481287384443194,-0.5394757244110484,-0.5393149171006217,-0.5381782599980234,-0.5281573096691444,-0.5181973789163166,-0.5162476537427871,-0.5113644548091169,-0.5082991372810524,-0.5024918326279042,-0.5002299308757383,-0.5000751105346003,-0.4978563801711863,-0.4966623132164485,-0.4830504900190361,-0.4823628091408703,-0.46916122014965334,-0.463684147997593,-0.4598347964022247,-0.4586269081431444,-0.45625815142622966,-0.4526767059862175,-0.4331470839866841,-0.3816681106113404,-0.37625668519264127,-0.37037129507072014,-0.3591878386665696,-0.3576168181292679,-0.35650260529743966,-0.3490223021204968,-0.33953414842992685,-0.2947221500711446,-0.29456509511271856,-0.27616201538407276,-0.24205164670924276,-0.20193898089455475,-0.18991351448410435,-0.1804260377680121,-0.18025391523926435,-0.17450689460137597,-0.1739159322935042,-0.17279174686941706,-0.16731222977230173,-0.1535882880027908,-0.14769752904241953,-0.14602129502234432,-0.13902961497658553,-0.13815852228714706,-0.13756070490156702,-0.1270717486342649,-0.11348400059760945,-0.006795602444085597,-0.0038005718296195037,-0.002680552069493298,-0.002190388433268159,0.00547007936059291,0.006734340233680385,0.010886136783730979,0.07468220628364246,0.07980086504195263,0.09837817176818964,0.16282167296074013,0.16651085634790969,0.16852174191684186,0.17134164800650514,0.17351299056081887,0.1750852569605256,0.21221009940988494,0.2129497934504725,0.2178645324929554,0.2229273774199409,0.2320163982336413,0.23781191750029518,0.24548353551283084,0.2514545584635542,0.2525759018265224,0.26670558714098197,0.2736398910286287,0.27401220535715387,0.2755796054432664,0.3147080668818636,0.3202947797854852,0.34652477839380397,0.3859710863938571,0.3906990429130119,0.4007789371262188,0.40132804733903504,0.4176296612233209,0.42054203699051557,0.4416431019035721,0.45464669278479425,0.46541475212301975,0.47324651726450506,0.4737574693719645,0.4810615960083026,0.4828449915551156,0.487360069822793,0.5071593870042592,0.5289574121092158,0.5325569148526252,0.5372581563801988,0.5485800991828499,0.5641805976624498,0.5709176005223706,0.5814822011223266,0.5932198694492886,0.6029613102800374,0.6034081523028453,0.6248954193872295,0.6319860265517128,0.6338031469144519,0.6355055879405196,0.6406405625448738,0.6530807721368268,0.6617009562117813,0.6636989710829612,0.6670459725970175,0.6752887321228956,0.6769649913861934,0.790483159938152,0.8048674627217633,0.8492237767614388,0.8506774045895065,0.852920765085239,0.8633427818321906,0.8934258758796112,0.9090372424460887,0.9225889067709084,0.9474031737591992,0.9668251403869244,0.989693815213301,0.9993612266499273,1.0013532295879193,1.0541123681429432,1.0578293928013032,1.058506317902185,1.0707007142758127,1.083895101179074,1.1009651775874374,1.1132447869097828,1.1646600190425582,1.179290482105375,1.1930478786647538,1.3060365615568348,1.3286164739398976,1.3524724969671875,1.4306248269378643,1.4570327509195373,1.4743668942164756,1.4781109693084087,1.4934933232075889,1.5108120630225108,1.605987135422349,1.649240464950037,1.672811735201653,1.6767849947451352,1.6982920162827857,1.7303370315936366,1.7421204222874502,1.7925077362810486,1.814502613047648,1.8490357270153255,1.8627166203265628,1.864031133758983,1.9066111460566453,1.9331536080438243,1.972451645006289,2.0018606549851055,2.081446142700205,2.1229952660489495,2.1374130435336904,2.192739308690027,2.2744020905205273,2.6837659205555036,2.7061943123134684,4.016952192030046],\"y\":[-186.99255127239945,-181.50638149446831,-159.36431110828212,-147.9308400546633,-145.9496246741038,-142.6702691727337,-139.08266261163627,-127.00048150050115,-126.79735816396474,-124.87073602189112,-121.95446924395083,-120.7979513719689,-118.48387605207263,-114.43821900569407,-113.77493702032542,-112.23996861743707,-111.1240739470527,-107.70609178143218,-105.1402428796238,-102.83212684202394,-102.57346855520893,-97.1654212322988,-88.35993177193662,-87.19495674805553,-87.1769580137675,-86.66715167083609,-84.7748573140971,-83.23290563922028,-83.01637732999083,-82.09712674999975,-80.24913667323541,-77.34272690092627,-76.9531663024025,-75.88680870860146,-75.68803653246938,-74.26441265547547,-72.35861026262506,-71.12873607166561,-69.71492569207986,-69.22711284672863,-67.78622712888267,-67.53131698015596,-66.74477745567079,-66.43830125632614,-65.68488739031777,-65.34478606422356,-63.16200805851996,-62.916111355590616,-59.74672899134098,-57.50014249496613,-55.963623444633136,-55.83849374158665,-54.27329418692342,-54.173835559507346,-54.07588368513417,-53.69714307061271,-51.14133702646302,-51.01681035180897,-50.96495376659869,-50.73773580002194,-49.51280395157952,-48.6968546903377,-48.44111779188506,-48.10754862538535,-47.17670216206077,-46.641202649518625,-46.445373445725934,-46.304336475117836,-45.49925198267807,-45.012172302663295,-44.80252755257268,-44.247333151996834,-43.483096138187,-41.60198983419315,-40.60830614085095,-39.99966979116785,-39.9883589145133,-39.90840864202942,-39.203554286648355,-38.50299193078147,-38.36585201537865,-38.02237720274831,-37.806768668689855,-37.39829403869395,-37.239196223702926,-37.22830645894297,-37.07224523633001,-36.988256865363034,-36.03082742499114,-35.98245727583567,-35.0538829198094,-34.66863620822851,-34.397880227174575,-34.31291969226674,-34.14630590475561,-33.89439392693876,-32.520717910838115,-28.899786022812673,-28.519156776083676,-28.105189764532103,-27.31856696968969,-27.20806440937672,-27.129692823692647,-26.603542698125782,-25.93616423262736,-22.784174533058593,-22.773127589620326,-21.4786903882125,-19.079432719524164,-16.25798502469352,-15.412136866912771,-14.744806018495908,-14.732699251166924,-14.328464882755114,-14.286897731646796,-14.207824693020893,-13.822406008711454,-12.857090363811135,-12.442745718498216,-12.324842644347353,-11.83306132920783,-11.771790346322916,-11.729741022244912,-10.991968030086344,-10.036231990176395,-2.5319754437263864,-2.321310755865169,-2.2425307220231967,-2.208053555436806,-1.669230997540405,-1.5803053214829663,-1.2882759445359786,3.1990167739617155,3.5590533773871282,4.865745370411201,9.39857718783579,9.658067245455587,9.799509065334696,9.997855831243385,10.15058388658776,10.26117407846396,12.872464029463458,12.92449268433614,13.270185967504322,13.626296733478338,14.26560096076539,14.673246629362652,15.212853472175983,15.632843732058696,15.711716865576584,16.705571730355146,17.193317316984594,17.21950519013226,17.329753094878104,20.08197374852948,20.47493237951212,22.31989998776699,25.094477356683132,25.427032716724657,26.136033071459885,26.174656426769044,27.32128056609503,27.526131471113246,29.010339756657185,29.924987306781137,30.68239187166326,31.23326315523693,31.26920254287126,31.782960749719262,31.908401359370398,32.22598327300261,33.61862912902581,35.151860252790215,35.40504234656695,35.735718625528136,36.532082287048915,37.629391318486036,38.10325913063805,38.84635279953696,39.67195779414859,40.35715198949875,40.388581997193306,41.89995500001296,42.398694658244686,42.52650740652638,42.646253831029156,43.007438059656614,43.88245845442613,44.488785608040295,44.629322127816145,44.8647437711957,45.444523608586024,45.562428458296566,53.547077906976234,54.55884207438556,57.678779816159896,57.781025199291264,57.93881885799746,58.67188345315597,60.78787037722594,61.88594384897251,62.83914183005461,64.58452960149984,65.95063334598862,67.55917191011183,68.23915902038912,68.37927267235776,72.0902489147499,72.35169727378961,72.39931088227625,73.25704124846959,74.18510902349338,75.38578533744018,76.2495094184078,79.86595787013556,80.89503647771527,81.86270526813301,89.81011171477913,91.39833928451952,93.076326020408,98.57341046401207,100.43089300051483,101.6501432710641,101.9134943055281,102.99545946711604,104.21362628639262,110.90805766296633,113.9504135974592,115.60837137126789,115.88784279886414,117.40060529189839,119.65458998085681,120.48341099873531,124.02755766733915,125.57463495803577,128.00362771682046,128.96591541603593,129.0583757603785,132.05337185707546,133.9203175378942,136.68446580745436,138.753038955779,144.35092895623663,147.27341430877144,148.28753302221799,152.1790760079194,157.9230788775755,186.71694263958713,188.29451254024173,280.49069853527135],\"type\":\"scatter\"},{\"mode\":\"markers\",\"x\":[-2.6292810193302594,-2.551283863718271,-2.2364889194513,-2.07393867819891,-2.045771638061002,-1.9991488736003926,-1.9481436880980896,-1.7763707028637878,-1.7734828880258315,-1.746092002744573,-1.7046312891880817,-1.6881890156018937,-1.655289688725452,-1.5977723761062783,-1.5883424622826972,-1.5665197381918075,-1.5506550067351406,-1.5020613799167888,-1.4655825751819727,-1.4327679717259543,-1.4290906136667496,-1.3522041289832425,-1.2270160361097127,-1.2104535267635292,-1.2101976378399437,-1.2029496950545138,-1.1760468496486034,-1.1541248440235992,-1.151046450005006,-1.1379774176133373,-1.1117044484160272,-1.070383872411453,-1.064845469508651,-1.0496850091969234,-1.0468590550284116,-1.0266193217424486,-0.9995244318980244,-0.982039247782631,-0.9619390334899593,-0.9550037733816338,-0.9345186276236577,-0.930894557034867,-0.9197122844896333,-0.9153550967285448,-0.9046437733597944,-0.899808535456308,-0.8687758691939285,-0.8652799432238636,-0.8202206724640196,-0.7882808376345513,-0.7664360679098342,-0.7646570925380807,-0.7424045706201532,-0.7409905622402573,-0.7395979754452399,-0.7342134008069846,-0.6978773758918426,-0.6961069738055079,-0.695369726088089,-0.692139356665652,-0.6747244380859588,-0.6631240458129065,-0.6594882212810853,-0.6547458514237947,-0.6415119597672052,-0.6338987358786721,-0.6311146220980464,-0.6291094922918536,-0.6176635649911306,-0.6107387283317962,-0.6077581982246473,-0.5998649711081965,-0.5889997744950056,-0.5622559902057358,-0.5481287384443194,-0.5394757244110484,-0.5393149171006217,-0.5381782599980234,-0.5281573096691444,-0.5181973789163166,-0.5162476537427871,-0.5113644548091169,-0.5082991372810524,-0.5024918326279042,-0.5002299308757383,-0.5000751105346003,-0.4978563801711863,-0.4966623132164485,-0.4830504900190361,-0.4823628091408703,-0.46916122014965334,-0.463684147997593,-0.4598347964022247,-0.4586269081431444,-0.45625815142622966,-0.4526767059862175,-0.4331470839866841,-0.3816681106113404,-0.37625668519264127,-0.37037129507072014,-0.3591878386665696,-0.3576168181292679,-0.35650260529743966,-0.3490223021204968,-0.33953414842992685,-0.2947221500711446,-0.29456509511271856,-0.27616201538407276,-0.24205164670924276,-0.20193898089455475,-0.18991351448410435,-0.1804260377680121,-0.18025391523926435,-0.17450689460137597,-0.1739159322935042,-0.17279174686941706,-0.16731222977230173,-0.1535882880027908,-0.14769752904241953,-0.14602129502234432,-0.13902961497658553,-0.13815852228714706,-0.13756070490156702,-0.1270717486342649,-0.11348400059760945,-0.006795602444085597,-0.0038005718296195037,-0.002680552069493298,-0.002190388433268159,0.00547007936059291,0.006734340233680385,0.010886136783730979,0.07468220628364246,0.07980086504195263,0.09837817176818964,0.16282167296074013,0.16651085634790969,0.16852174191684186,0.17134164800650514,0.17351299056081887,0.1750852569605256,0.21221009940988494,0.2129497934504725,0.2178645324929554,0.2229273774199409,0.2320163982336413,0.23781191750029518,0.24548353551283084,0.2514545584635542,0.2525759018265224,0.26670558714098197,0.2736398910286287,0.27401220535715387,0.2755796054432664,0.3147080668818636,0.3202947797854852,0.34652477839380397,0.3859710863938571,0.3906990429130119,0.4007789371262188,0.40132804733903504,0.4176296612233209,0.42054203699051557,0.4416431019035721,0.45464669278479425,0.46541475212301975,0.47324651726450506,0.4737574693719645,0.4810615960083026,0.4828449915551156,0.487360069822793,0.5071593870042592,0.5289574121092158,0.5325569148526252,0.5372581563801988,0.5485800991828499,0.5641805976624498,0.5709176005223706,0.5814822011223266,0.5932198694492886,0.6029613102800374,0.6034081523028453,0.6248954193872295,0.6319860265517128,0.6338031469144519,0.6355055879405196,0.6406405625448738,0.6530807721368268,0.6617009562117813,0.6636989710829612,0.6670459725970175,0.6752887321228956,0.6769649913861934,0.790483159938152,0.8048674627217633,0.8492237767614388,0.8506774045895065,0.852920765085239,0.8633427818321906,0.8934258758796112,0.9090372424460887,0.9225889067709084,0.9474031737591992,0.9668251403869244,0.989693815213301,0.9993612266499273,1.0013532295879193,1.0541123681429432,1.0578293928013032,1.058506317902185,1.0707007142758127,1.083895101179074,1.1009651775874374,1.1132447869097828,1.1646600190425582,1.179290482105375,1.1930478786647538,1.3060365615568348,1.3286164739398976,1.3524724969671875,1.4306248269378643,1.4570327509195373,1.4743668942164756,1.4781109693084087,1.4934933232075889,1.5108120630225108,1.605987135422349,1.649240464950037,1.672811735201653,1.6767849947451352,1.6982920162827857,1.7303370315936366,1.7421204222874502,1.7925077362810486,1.814502613047648,1.8490357270153255,1.8627166203265628,1.864031133758983,1.9066111460566453,1.9331536080438243,1.972451645006289,2.0018606549851055,2.081446142700205,2.1229952660489495,2.1374130435336904,2.192739308690027,2.2744020905205273,2.6837659205555036,2.7061943123134684,4.016952192030046],\"y\":[-194.75830512725204,-157.2933590152324,-213.60324913414092,-130.80982582748422,-194.74669029477636,-135.58229811222503,-189.91457660902648,-70.57719671970311,-207.97467127201972,-123.0486046211563,-115.06389980607901,-153.89463493572362,-67.68738422696416,-139.33574889017046,-152.38032914415052,-78.59427228163737,-29.80672535485884,-101.56969400640874,10.469106534290177,-109.24853093853929,-192.29876760839807,-122.54555631984324,-152.999528382246,-92.16553773488357,37.10070840961437,-92.44364736520946,-69.36322737617263,-48.52942835297556,-20.319468623302498,-71.53982761560312,-205.31461598458833,-94.79097584725216,-29.3736648677912,53.25370474333161,-144.7083998447965,-14.36898194579338,-95.25951780347437,-52.3139562291352,-71.50344367464149,-46.64841144090643,-84.34425654028352,-10.816599029561502,-78.55341886639718,26.37687944262791,10.077247100595486,-143.71189380505172,21.670628512206648,-73.99147359080537,-104.32904972322615,6.109922686637695,-19.907664617023066,-33.70874474823081,18.12921012440585,-26.786895934772865,-193.28048591697538,-76.00630342616493,-106.15044832105039,-55.954886898671404,-99.58964769256525,-68.5738432298139,17.23509601148192,-48.17912323661411,-5.718721660043556,-54.52701834573967,-126.63611175067354,-72.43012883505456,-77.96882178714688,-81.68972611118045,-109.45357119268294,-11.89525534683608,-18.283730326801923,-20.292767453585235,-75.80096926655928,-0.8655363314656981,-137.2807979590471,-6.852511120453897,-56.60311702452944,-25.159510089471336,-69.15006338228355,-116.0739467541134,-24.804164197006898,-36.950353205253776,-26.551706367589542,-35.13112031318465,-70.35856204241722,68.66148585916872,-44.118134966673225,-15.02393350377875,-67.96027146599782,-99.30626070872421,-75.4789249081272,-64.71643171327878,15.801152013382875,-44.25662065007572,24.778943191484316,33.690817242658895,47.901315318229216,-64.90503861228532,-76.86237828880957,-22.078953831198156,-14.137542347113566,-32.33127581889661,14.79487917658814,-97.26809676082144,-41.40948871565159,-33.25833145737376,-11.393458883019857,16.98702730254803,4.9098216158200145,-25.109103857513432,20.15345757777624,9.308647755779035,-12.458491192092982,-30.317816224231827,-8.915900633775735,61.93070108801393,35.667874140444766,-23.88677596130983,0.9113473414687494,92.95523932095684,36.61934562243925,-30.736983025832387,-46.395533999790636,48.20245517448007,34.10271256742544,-62.33574678087491,33.457885336544294,-45.40816865311449,68.96903167379934,164.29468770177016,-71.53482082415967,-46.17699538816806,78.5876695503471,161.23185791960137,-44.716165254837136,6.664262563226057,-80.7241825977151,108.48478912398315,29.959685460976054,-27.295449556703545,77.41688987764653,-3.1546692479263214,83.36410023536092,27.417663128289806,63.457249154972274,14.817633271130678,-17.574093765026863,162.419262536956,-17.311563967036726,-16.042708200892523,-75.6421374916307,-32.22508036660402,69.28128535605082,66.31302246767486,44.49729843924548,63.607708301410185,30.126749898074586,138.61819673769938,39.795623285061346,100.04933944675162,87.35360200927022,8.816228588005,48.745714665445284,56.735161651230236,37.10005230055286,-7.178566209903742,-60.65079792718595,93.79856082184551,110.4635105141019,57.19108377476435,-20.79311385433271,7.770584084256271,28.04715562549035,24.397123468141533,-70.37326519564039,74.34794488462973,51.865896120273206,24.98648569160478,16.823994697899714,177.86611103855188,36.46301784706299,10.718586581044868,-41.04886708386772,164.14743476373613,66.8642377794221,23.59366313676822,49.43284694600008,4.554024478136526,94.6512238909188,-38.85284830242171,42.94466376534992,105.07540145221549,58.43276514094345,52.26534443595171,58.25866909935177,5.0572632836635165,192.98114310786883,38.26561706053181,54.72349391487906,97.79598423537453,136.81182224171584,72.41686181198168,124.52375631769583,57.94837097259088,59.91429290616583,100.38766904814948,125.43547647582233,88.81125455579779,75.37619282472426,116.67324339204879,116.75398470302059,13.429525190632603,38.579465464749404,171.08509113144498,29.642147854735462,114.68773414330856,62.7538405262937,32.7437549547994,99.7436707010176,138.18734706583191,169.78822529774766,116.2927638418814,66.09276141907665,66.12627090959408,112.1392129950705,108.37916609748993,87.43459583472392,181.93116485998797,227.38183117701772,178.62790672138874,137.10322686402174,190.77314130070786,91.58244243686875,122.59278517181174,99.49827709135255,188.86185179554911,161.20573451068162,140.08346407811814,135.07455957638905,190.54799968501618,118.66541616955878,98.60291832684686,178.2517211336608,148.56028335964257,154.43757577272257,184.5450797443654,208.16116723259827,172.22069498158376,248.51710033252482,217.80805764945],\"type\":\"scatter\"},{\"fill\":\"toself\",\"x\":[-2.6292810193302594,-2.551283863718271,-2.2364889194513,-2.07393867819891,-2.045771638061002,-1.9991488736003926,-1.9481436880980896,-1.7763707028637878,-1.7734828880258315,-1.746092002744573,-1.7046312891880817,-1.6881890156018937,-1.655289688725452,-1.5977723761062783,-1.5883424622826972,-1.5665197381918075,-1.5506550067351406,-1.5020613799167888,-1.4655825751819727,-1.4327679717259543,-1.4290906136667496,-1.3522041289832425,-1.2270160361097127,-1.2104535267635292,-1.2101976378399437,-1.2029496950545138,-1.1760468496486034,-1.1541248440235992,-1.151046450005006,-1.1379774176133373,-1.1117044484160272,-1.070383872411453,-1.064845469508651,-1.0496850091969234,-1.0468590550284116,-1.0266193217424486,-0.9995244318980244,-0.982039247782631,-0.9619390334899593,-0.9550037733816338,-0.9345186276236577,-0.930894557034867,-0.9197122844896333,-0.9153550967285448,-0.9046437733597944,-0.899808535456308,-0.8687758691939285,-0.8652799432238636,-0.8202206724640196,-0.7882808376345513,-0.7664360679098342,-0.7646570925380807,-0.7424045706201532,-0.7409905622402573,-0.7395979754452399,-0.7342134008069846,-0.6978773758918426,-0.6961069738055079,-0.695369726088089,-0.692139356665652,-0.6747244380859588,-0.6631240458129065,-0.6594882212810853,-0.6547458514237947,-0.6415119597672052,-0.6338987358786721,-0.6311146220980464,-0.6291094922918536,-0.6176635649911306,-0.6107387283317962,-0.6077581982246473,-0.5998649711081965,-0.5889997744950056,-0.5622559902057358,-0.5481287384443194,-0.5394757244110484,-0.5393149171006217,-0.5381782599980234,-0.5281573096691444,-0.5181973789163166,-0.5162476537427871,-0.5113644548091169,-0.5082991372810524,-0.5024918326279042,-0.5002299308757383,-0.5000751105346003,-0.4978563801711863,-0.4966623132164485,-0.4830504900190361,-0.4823628091408703,-0.46916122014965334,-0.463684147997593,-0.4598347964022247,-0.4586269081431444,-0.45625815142622966,-0.4526767059862175,-0.4331470839866841,-0.3816681106113404,-0.37625668519264127,-0.37037129507072014,-0.3591878386665696,-0.3576168181292679,-0.35650260529743966,-0.3490223021204968,-0.33953414842992685,-0.2947221500711446,-0.29456509511271856,-0.27616201538407276,-0.24205164670924276,-0.20193898089455475,-0.18991351448410435,-0.1804260377680121,-0.18025391523926435,-0.17450689460137597,-0.1739159322935042,-0.17279174686941706,-0.16731222977230173,-0.1535882880027908,-0.14769752904241953,-0.14602129502234432,-0.13902961497658553,-0.13815852228714706,-0.13756070490156702,-0.1270717486342649,-0.11348400059760945,-0.006795602444085597,-0.0038005718296195037,-0.002680552069493298,-0.002190388433268159,0.00547007936059291,0.006734340233680385,0.010886136783730979,0.07468220628364246,0.07980086504195263,0.09837817176818964,0.16282167296074013,0.16651085634790969,0.16852174191684186,0.17134164800650514,0.17351299056081887,0.1750852569605256,0.21221009940988494,0.2129497934504725,0.2178645324929554,0.2229273774199409,0.2320163982336413,0.23781191750029518,0.24548353551283084,0.2514545584635542,0.2525759018265224,0.26670558714098197,0.2736398910286287,0.27401220535715387,0.2755796054432664,0.3147080668818636,0.3202947797854852,0.34652477839380397,0.3859710863938571,0.3906990429130119,0.4007789371262188,0.40132804733903504,0.4176296612233209,0.42054203699051557,0.4416431019035721,0.45464669278479425,0.46541475212301975,0.47324651726450506,0.4737574693719645,0.4810615960083026,0.4828449915551156,0.487360069822793,0.5071593870042592,0.5289574121092158,0.5325569148526252,0.5372581563801988,0.5485800991828499,0.5641805976624498,0.5709176005223706,0.5814822011223266,0.5932198694492886,0.6029613102800374,0.6034081523028453,0.6248954193872295,0.6319860265517128,0.6338031469144519,0.6355055879405196,0.6406405625448738,0.6530807721368268,0.6617009562117813,0.6636989710829612,0.6670459725970175,0.6752887321228956,0.6769649913861934,0.790483159938152,0.8048674627217633,0.8492237767614388,0.8506774045895065,0.852920765085239,0.8633427818321906,0.8934258758796112,0.9090372424460887,0.9225889067709084,0.9474031737591992,0.9668251403869244,0.989693815213301,0.9993612266499273,1.0013532295879193,1.0541123681429432,1.0578293928013032,1.058506317902185,1.0707007142758127,1.083895101179074,1.1009651775874374,1.1132447869097828,1.1646600190425582,1.179290482105375,1.1930478786647538,1.3060365615568348,1.3286164739398976,1.3524724969671875,1.4306248269378643,1.4570327509195373,1.4743668942164756,1.4781109693084087,1.4934933232075889,1.5108120630225108,1.605987135422349,1.649240464950037,1.672811735201653,1.6767849947451352,1.6982920162827857,1.7303370315936366,1.7421204222874502,1.7925077362810486,1.814502613047648,1.8490357270153255,1.8627166203265628,1.864031133758983,1.9066111460566453,1.9331536080438243,1.972451645006289,2.0018606549851055,2.081446142700205,2.1229952660489495,2.1374130435336904,2.192739308690027,2.2744020905205273,2.6837659205555036,2.7061943123134684,4.016952192030046,4.016952192030046,2.7061943123134684,2.6837659205555036,2.2744020905205273,2.192739308690027,2.1374130435336904,2.1229952660489495,2.081446142700205,2.0018606549851055,1.972451645006289,1.9331536080438243,1.9066111460566453,1.864031133758983,1.8627166203265628,1.8490357270153255,1.814502613047648,1.7925077362810486,1.7421204222874502,1.7303370315936366,1.6982920162827857,1.6767849947451352,1.672811735201653,1.649240464950037,1.605987135422349,1.5108120630225108,1.4934933232075889,1.4781109693084087,1.4743668942164756,1.4570327509195373,1.4306248269378643,1.3524724969671875,1.3286164739398976,1.3060365615568348,1.1930478786647538,1.179290482105375,1.1646600190425582,1.1132447869097828,1.1009651775874374,1.083895101179074,1.0707007142758127,1.058506317902185,1.0578293928013032,1.0541123681429432,1.0013532295879193,0.9993612266499273,0.989693815213301,0.9668251403869244,0.9474031737591992,0.9225889067709084,0.9090372424460887,0.8934258758796112,0.8633427818321906,0.852920765085239,0.8506774045895065,0.8492237767614388,0.8048674627217633,0.790483159938152,0.6769649913861934,0.6752887321228956,0.6670459725970175,0.6636989710829612,0.6617009562117813,0.6530807721368268,0.6406405625448738,0.6355055879405196,0.6338031469144519,0.6319860265517128,0.6248954193872295,0.6034081523028453,0.6029613102800374,0.5932198694492886,0.5814822011223266,0.5709176005223706,0.5641805976624498,0.5485800991828499,0.5372581563801988,0.5325569148526252,0.5289574121092158,0.5071593870042592,0.487360069822793,0.4828449915551156,0.4810615960083026,0.4737574693719645,0.47324651726450506,0.46541475212301975,0.45464669278479425,0.4416431019035721,0.42054203699051557,0.4176296612233209,0.40132804733903504,0.4007789371262188,0.3906990429130119,0.3859710863938571,0.34652477839380397,0.3202947797854852,0.3147080668818636,0.2755796054432664,0.27401220535715387,0.2736398910286287,0.26670558714098197,0.2525759018265224,0.2514545584635542,0.24548353551283084,0.23781191750029518,0.2320163982336413,0.2229273774199409,0.2178645324929554,0.2129497934504725,0.21221009940988494,0.1750852569605256,0.17351299056081887,0.17134164800650514,0.16852174191684186,0.16651085634790969,0.16282167296074013,0.09837817176818964,0.07980086504195263,0.07468220628364246,0.010886136783730979,0.006734340233680385,0.00547007936059291,-0.002190388433268159,-0.002680552069493298,-0.0038005718296195037,-0.006795602444085597,-0.11348400059760945,-0.1270717486342649,-0.13756070490156702,-0.13815852228714706,-0.13902961497658553,-0.14602129502234432,-0.14769752904241953,-0.1535882880027908,-0.16731222977230173,-0.17279174686941706,-0.1739159322935042,-0.17450689460137597,-0.18025391523926435,-0.1804260377680121,-0.18991351448410435,-0.20193898089455475,-0.24205164670924276,-0.27616201538407276,-0.29456509511271856,-0.2947221500711446,-0.33953414842992685,-0.3490223021204968,-0.35650260529743966,-0.3576168181292679,-0.3591878386665696,-0.37037129507072014,-0.37625668519264127,-0.3816681106113404,-0.4331470839866841,-0.4526767059862175,-0.45625815142622966,-0.4586269081431444,-0.4598347964022247,-0.463684147997593,-0.46916122014965334,-0.4823628091408703,-0.4830504900190361,-0.4966623132164485,-0.4978563801711863,-0.5000751105346003,-0.5002299308757383,-0.5024918326279042,-0.5082991372810524,-0.5113644548091169,-0.5162476537427871,-0.5181973789163166,-0.5281573096691444,-0.5381782599980234,-0.5393149171006217,-0.5394757244110484,-0.5481287384443194,-0.5622559902057358,-0.5889997744950056,-0.5998649711081965,-0.6077581982246473,-0.6107387283317962,-0.6176635649911306,-0.6291094922918536,-0.6311146220980464,-0.6338987358786721,-0.6415119597672052,-0.6547458514237947,-0.6594882212810853,-0.6631240458129065,-0.6747244380859588,-0.692139356665652,-0.695369726088089,-0.6961069738055079,-0.6978773758918426,-0.7342134008069846,-0.7395979754452399,-0.7409905622402573,-0.7424045706201532,-0.7646570925380807,-0.7664360679098342,-0.7882808376345513,-0.8202206724640196,-0.8652799432238636,-0.8687758691939285,-0.899808535456308,-0.9046437733597944,-0.9153550967285448,-0.9197122844896333,-0.930894557034867,-0.9345186276236577,-0.9550037733816338,-0.9619390334899593,-0.982039247782631,-0.9995244318980244,-1.0266193217424486,-1.0468590550284116,-1.0496850091969234,-1.064845469508651,-1.070383872411453,-1.1117044484160272,-1.1379774176133373,-1.151046450005006,-1.1541248440235992,-1.1760468496486034,-1.2029496950545138,-1.2101976378399437,-1.2104535267635292,-1.2270160361097127,-1.3522041289832425,-1.4290906136667496,-1.4327679717259543,-1.4655825751819727,-1.5020613799167888,-1.5506550067351406,-1.5665197381918075,-1.5883424622826972,-1.5977723761062783,-1.655289688725452,-1.6881890156018937,-1.7046312891880817,-1.746092002744573,-1.7734828880258315,-1.7763707028637878,-1.9481436880980896,-1.9991488736003926,-2.045771638061002,-2.07393867819891,-2.2364889194513,-2.551283863718271,-2.6292810193302594],\"y\":[-289.90357455535025,-284.36220361592007,-261.8468604498468,-250.22064303378278,-248.20602816709766,-244.8713890304177,-241.22330231318108,-228.93743883396593,-228.7308912281012,-226.77178993704914,-223.80636050231533,-222.6303459602599,-220.27725977496306,-216.163400721011,-215.4889370752913,-213.92809205324352,-212.79338554194223,-209.31778276170377,-206.7086785754688,-204.36165213452227,-204.0986333657796,-198.59941675188736,-189.64548365135022,-188.4608693860577,-188.44256722767858,-187.92416652895702,-185.9999717237692,-184.4320257051795,-184.21184714452818,-183.2770997653028,-181.39795612515772,-178.44254986623827,-178.04642202422693,-176.96208768947758,-176.75996459622462,-175.3123411549257,-173.37441059408164,-172.12380308640138,-170.6861585792288,-170.19012214621512,-168.72494586258108,-168.46573841833606,-167.665939348123,-167.35429654868616,-166.58818157192954,-166.2423467906877,-164.02277134012667,-163.77272929106363,-160.54991722737782,-158.26545759754558,-156.70303578711545,-156.57579663760404,-154.98421082462542,-154.88307551577478,-154.7834723609294,-154.39834690706942,-151.79945488178458,-151.6728289265661,-151.62009813892672,-151.38904971383616,-150.14346786707534,-149.31376326842928,-149.05371513704583,-148.7145226350634,-147.76798388818298,-147.22345688235822,-147.0243263743059,-146.88091179125382,-146.06225512054453,-145.56696421262677,-145.35378525470054,-144.7892313428565,-144.0121107608138,-142.09929261745225,-141.08885732554347,-140.4699605359727,-140.4584589796618,-140.37716089913908,-139.6604240530939,-138.94805156143133,-138.80859973045045,-138.45933459216872,-138.24009131233123,-137.82473058460405,-137.66295068602105,-137.6518773407425,-137.49318522565284,-137.4077809720623,-136.43421111019777,-136.3850255332289,-135.440797197012,-135.04905596579195,-134.77373555892072,-134.68734275257248,-134.51792017660807,-134.26176144667608,-132.8649278912735,-129.18295404610262,-128.79590812132344,-128.37496242103643,-127.57507867668784,-127.46271325544302,-127.38302047534748,-126.84800046920563,-126.16937128456901,-122.96424509248564,-122.95301191879814,-121.63675299231531,-119.1970484474299,-116.32803656343417,-115.46792903027838,-114.78934826545586,-114.77703740128237,-114.36598841780561,-114.32372052436492,-114.24331446617818,-113.8513983630997,-112.86980935044488,-112.4484796502166,-112.32858895668427,-111.82851715310365,-111.76621325912646,-111.72345506420588,-110.97324463639177,-110.00139672246854,-102.37063282357931,-102.15641673369062,-102.07630861978572,-102.04125023438871,-101.49334416304737,-101.40291937088533,-101.1059669395247,-96.54302708424228,-96.17692095518184,-94.84820064483308,-90.23895398887984,-89.97508942727413,-89.83126316996989,-89.62957265853962,-89.4742699015169,-89.36181537140901,-86.70650408716921,-86.6535983291034,-86.30207732113143,-85.93996321160172,-85.28988154291235,-84.87536375128087,-84.32666017348522,-83.89958968446867,-83.81938690140612,-82.80877755243932,-82.3128095120003,-82.2861801616087,-82.17407368893477,-79.37545588107272,-78.97587272230163,-77.09980250368,-74.2784510892729,-73.94028948457839,-73.21933674559284,-73.18006227469452,-72.01410825462537,-71.80580395679226,-70.29657477017567,-69.36650801906026,-68.59633506791155,-68.03617715251922,-67.9996318958358,-67.47721271236207,-67.34965741495778,-67.02672168022049,-65.61059848982839,-64.0515200340939,-63.794069776486346,-63.45781893057014,-62.64803010723964,-61.53222255306206,-61.05036623972403,-60.29474543877881,-59.455222329643455,-58.75847707616729,-58.726517218908555,-57.18966537005648,-56.68251791908355,-56.552550493347404,-56.430785374116624,-56.063512273097395,-55.173740715066415,-54.55719205017515,-54.41428635459517,-54.17489595446716,-53.58534214256358,-53.465449643539046,-45.535637604885494,-44.53607950205992,-41.45378112605881,-41.35276924554603,-41.19687923163287,-40.4726584303947,-38.38219906885909,-37.27992996826729,-36.28766387346083,-34.47073901391714,-33.04864365225309,-31.374176950638585,-30.666319645204894,-30.52046324493203,-26.657387601635108,-26.38522342654592,-26.335658309654846,-25.442772699581056,-24.476666806455697,-23.226779143229507,-22.350245631616843,-18.777426520389042,-17.760762861223697,-16.80476816258738,-8.953240340116537,-7.384173370162529,-5.726430101209019,-0.29566325403925475,1.5394103530567804,2.743951417621645,3.004125348331229,4.073037530712014,5.27650821491207,11.890177033998555,14.895829560504296,16.533785499581057,16.809885344742924,18.304397659242852,20.53118996130874,21.35001196637529,24.85140155331453,26.37981468695304,28.779503736986044,29.730182262657763,29.82152715245985,32.78039119688424,34.62481378359814,37.35561498139586,39.39923257361565,44.92958884528622,47.81681692531902,48.83559193727376,52.79273886348244,58.33800244958954,86.37586893113472,87.8718530911106,178.72863453655992,383.6899912290839,289.68742809446303,288.1288902179827,259.68239966013846,254.00769324538226,250.05994584190478,249.02873103470088,246.0569781921485,240.36471851778376,238.2612731991513,235.45052669868483,233.5521078994078,230.5066219208133,230.41260287264762,229.43409285102632,226.96736612309624,225.43895298945773,221.9375634025185,221.11874139745194,218.89194909538605,217.39743678088612,217.12133693572426,215.4833809966475,212.47772847014176,205.86405965105527,204.66058896685522,203.59167678447443,203.33150285376485,202.12696178919998,200.29188818210395,194.86112133493418,193.20337806598067,191.63431109602666,183.78278327355582,182.8267885749195,181.81012491575416,178.23730580452636,177.38400181181095,176.19781062503537,175.28093918959834,174.43355660264294,174.38651741139597,174.12822320196796,170.46201669657822,170.3235933953258,169.65180974475928,168.06267681510266,166.71305393747045,164.98872276849067,164.04702430132,162.9209669701075,160.71825344838462,159.95514320527116,159.79088215917466,159.68444611016352,156.43663348307916,155.38340078726432,147.0714896375515,146.94875229745747,146.34520939607432,146.10013867693164,145.9538420770402,145.3226637816258,144.4117794876743,144.03579163293819,143.91113723860815,143.7780859112648,143.25890473083794,141.68558605301058,141.65286784376784,140.9395900338082,140.08014649729756,139.3065961252367,138.81330619727777,137.67102246501062,136.8420187573381,136.497789262016,136.2342301562974,134.63815747275441,133.18843213506977,132.85783369542216,132.72725173203258,132.19243644737878,132.15502403513557,131.5815745439059,130.79312672435532,129.8409911022724,128.29595052454874,128.08270352699506,126.88908344017091,126.84887705419278,126.11081735707627,125.76463176398389,122.87633457364845,120.95574846245123,120.54668388832887,117.68165973359436,117.56689316875276,117.53963195006025,117.03189544819054,115.99730609209612,115.91520023608906,115.47799610504644,114.9162727429791,114.49191916306007,113.8264121838245,113.45570573449858,113.09584374265853,113.04168262270952,110.32336540686293,110.2082425257881,110.04925470368643,109.84277842621647,109.69553942126764,109.42541381124148,104.70679772606637,103.34654918718364,102.97175599462699,98.30054549019167,97.99654689264638,97.90397647699216,97.34306954482415,97.30717928474425,97.22517034422975,97.00587127804796,89.19404258604978,88.19913440662764,87.43112278646893,87.38735001373942,87.32356775641325,86.81163011621985,86.68889462445921,86.25756750116643,85.25268708363402,84.85147149113872,84.76915753664133,84.72588669939546,84.30508423643263,84.29248125680334,83.6006139256749,82.74050639251912,79.87149450852338,77.43178996363798,76.11553103715515,76.10429786346765,72.89917167138428,72.22054248674766,71.68552248060581,71.60582970051027,71.49346427926545,70.69358053491686,70.27263483462986,69.88558890985067,66.20361506467978,64.80678150927722,64.5506227793452,64.38120020338081,64.29480739703257,64.01948699016134,63.627745758941316,62.68351742272438,62.634331845755526,61.660761983890964,61.575357730300446,61.416665615210796,61.40559226993224,61.24381237134923,60.82845164362205,60.60920836378456,60.25994322550284,60.12049139452198,59.4081189028594,58.69138205681419,58.610083976291484,58.5985824199806,57.979685630409804,56.969250338501034,55.056432195139486,54.27931161309678,53.71475770125274,53.50157874332653,53.00628783540874,52.18763116469948,52.0442165816474,51.845086073595084,51.30055906777031,50.3540203208899,50.014827818907456,49.75477968752401,48.92507508887794,47.67949324211714,47.44844481702656,47.395714029387186,47.26908807416869,44.670196048883874,44.28507059502387,44.185467440178506,44.08433213132787,42.492746318349255,42.36550716883784,40.80308535840771,38.518625728575486,35.295813664889664,35.045771615826624,32.826196165265586,32.48036138402375,31.714246407267126,31.402603607830287,30.602804537617217,30.343597093372196,28.878420809738174,28.382384376724488,26.944739869551896,25.694132361871652,23.7562018010276,22.308578359728685,22.106455266475706,21.022120931726363,20.62599308971501,17.67058683079557,15.791443190650469,14.856695811425098,14.636517250773778,13.068571232184098,11.144376426996288,10.62597572827471,10.607673569895567,9.423059304603058,0.46912620406591543,-5.0300904098263,-5.293109178568983,-7.640135619515505,-10.249239805750491,-13.724842585988938,-14.859549097290213,-16.420394119338013,-17.094857765057696,-21.18735750760314,-23.473515498821286,-24.616080977258946,-27.497165504451914,-29.400544607236185,-29.60121743539912,-41.53763742185174,-45.08196259505621,-48.321755492479525,-50.279069213276415,-61.46032088270138,-82.45729005222012,-87.65973660201661],\"type\":\"scatter\"}],                        {\"template\":{\"data\":{\"histogram2dcontour\":[{\"type\":\"histogram2dcontour\",\"colorbar\":{\"outlinewidth\":0,\"ticks\":\"\"},\"colorscale\":[[0.0,\"#0d0887\"],[0.1111111111111111,\"#46039f\"],[0.2222222222222222,\"#7201a8\"],[0.3333333333333333,\"#9c179e\"],[0.4444444444444444,\"#bd3786\"],[0.5555555555555556,\"#d8576b\"],[0.6666666666666666,\"#ed7953\"],[0.7777777777777778,\"#fb9f3a\"],[0.8888888888888888,\"#fdca26\"],[1.0,\"#f0f921\"]]}],\"choropleth\":[{\"type\":\"choropleth\",\"colorbar\":{\"outlinewidth\":0,\"ticks\":\"\"}}],\"histogram2d\":[{\"type\":\"histogram2d\",\"colorbar\":{\"outlinewidth\":0,\"ticks\":\"\"},\"colorscale\":[[0.0,\"#0d0887\"],[0.1111111111111111,\"#46039f\"],[0.2222222222222222,\"#7201a8\"],[0.3333333333333333,\"#9c179e\"],[0.4444444444444444,\"#bd3786\"],[0.5555555555555556,\"#d8576b\"],[0.6666666666666666,\"#ed7953\"],[0.7777777777777778,\"#fb9f3a\"],[0.8888888888888888,\"#fdca26\"],[1.0,\"#f0f921\"]]}],\"heatmap\":[{\"type\":\"heatmap\",\"colorbar\":{\"outlinewidth\":0,\"ticks\":\"\"},\"colorscale\":[[0.0,\"#0d0887\"],[0.1111111111111111,\"#46039f\"],[0.2222222222222222,\"#7201a8\"],[0.3333333333333333,\"#9c179e\"],[0.4444444444444444,\"#bd3786\"],[0.5555555555555556,\"#d8576b\"],[0.6666666666666666,\"#ed7953\"],[0.7777777777777778,\"#fb9f3a\"],[0.8888888888888888,\"#fdca26\"],[1.0,\"#f0f921\"]]}],\"heatmapgl\":[{\"type\":\"heatmapgl\",\"colorbar\":{\"outlinewidth\":0,\"ticks\":\"\"},\"colorscale\":[[0.0,\"#0d0887\"],[0.1111111111111111,\"#46039f\"],[0.2222222222222222,\"#7201a8\"],[0.3333333333333333,\"#9c179e\"],[0.4444444444444444,\"#bd3786\"],[0.5555555555555556,\"#d8576b\"],[0.6666666666666666,\"#ed7953\"],[0.7777777777777778,\"#fb9f3a\"],[0.8888888888888888,\"#fdca26\"],[1.0,\"#f0f921\"]]}],\"contourcarpet\":[{\"type\":\"contourcarpet\",\"colorbar\":{\"outlinewidth\":0,\"ticks\":\"\"}}],\"contour\":[{\"type\":\"contour\",\"colorbar\":{\"outlinewidth\":0,\"ticks\":\"\"},\"colorscale\":[[0.0,\"#0d0887\"],[0.1111111111111111,\"#46039f\"],[0.2222222222222222,\"#7201a8\"],[0.3333333333333333,\"#9c179e\"],[0.4444444444444444,\"#bd3786\"],[0.5555555555555556,\"#d8576b\"],[0.6666666666666666,\"#ed7953\"],[0.7777777777777778,\"#fb9f3a\"],[0.8888888888888888,\"#fdca26\"],[1.0,\"#f0f921\"]]}],\"surface\":[{\"type\":\"surface\",\"colorbar\":{\"outlinewidth\":0,\"ticks\":\"\"},\"colorscale\":[[0.0,\"#0d0887\"],[0.1111111111111111,\"#46039f\"],[0.2222222222222222,\"#7201a8\"],[0.3333333333333333,\"#9c179e\"],[0.4444444444444444,\"#bd3786\"],[0.5555555555555556,\"#d8576b\"],[0.6666666666666666,\"#ed7953\"],[0.7777777777777778,\"#fb9f3a\"],[0.8888888888888888,\"#fdca26\"],[1.0,\"#f0f921\"]]}],\"mesh3d\":[{\"type\":\"mesh3d\",\"colorbar\":{\"outlinewidth\":0,\"ticks\":\"\"}}],\"scatter\":[{\"fillpattern\":{\"fillmode\":\"overlay\",\"size\":10,\"solidity\":0.2},\"type\":\"scatter\"}],\"parcoords\":[{\"type\":\"parcoords\",\"line\":{\"colorbar\":{\"outlinewidth\":0,\"ticks\":\"\"}}}],\"scatterpolargl\":[{\"type\":\"scatterpolargl\",\"marker\":{\"colorbar\":{\"outlinewidth\":0,\"ticks\":\"\"}}}],\"bar\":[{\"error_x\":{\"color\":\"#2a3f5f\"},\"error_y\":{\"color\":\"#2a3f5f\"},\"marker\":{\"line\":{\"color\":\"#E5ECF6\",\"width\":0.5},\"pattern\":{\"fillmode\":\"overlay\",\"size\":10,\"solidity\":0.2}},\"type\":\"bar\"}],\"scattergeo\":[{\"type\":\"scattergeo\",\"marker\":{\"colorbar\":{\"outlinewidth\":0,\"ticks\":\"\"}}}],\"scatterpolar\":[{\"type\":\"scatterpolar\",\"marker\":{\"colorbar\":{\"outlinewidth\":0,\"ticks\":\"\"}}}],\"histogram\":[{\"marker\":{\"pattern\":{\"fillmode\":\"overlay\",\"size\":10,\"solidity\":0.2}},\"type\":\"histogram\"}],\"scattergl\":[{\"type\":\"scattergl\",\"marker\":{\"colorbar\":{\"outlinewidth\":0,\"ticks\":\"\"}}}],\"scatter3d\":[{\"type\":\"scatter3d\",\"line\":{\"colorbar\":{\"outlinewidth\":0,\"ticks\":\"\"}},\"marker\":{\"colorbar\":{\"outlinewidth\":0,\"ticks\":\"\"}}}],\"scattermapbox\":[{\"type\":\"scattermapbox\",\"marker\":{\"colorbar\":{\"outlinewidth\":0,\"ticks\":\"\"}}}],\"scatterternary\":[{\"type\":\"scatterternary\",\"marker\":{\"colorbar\":{\"outlinewidth\":0,\"ticks\":\"\"}}}],\"scattercarpet\":[{\"type\":\"scattercarpet\",\"marker\":{\"colorbar\":{\"outlinewidth\":0,\"ticks\":\"\"}}}],\"carpet\":[{\"aaxis\":{\"endlinecolor\":\"#2a3f5f\",\"gridcolor\":\"white\",\"linecolor\":\"white\",\"minorgridcolor\":\"white\",\"startlinecolor\":\"#2a3f5f\"},\"baxis\":{\"endlinecolor\":\"#2a3f5f\",\"gridcolor\":\"white\",\"linecolor\":\"white\",\"minorgridcolor\":\"white\",\"startlinecolor\":\"#2a3f5f\"},\"type\":\"carpet\"}],\"table\":[{\"cells\":{\"fill\":{\"color\":\"#EBF0F8\"},\"line\":{\"color\":\"white\"}},\"header\":{\"fill\":{\"color\":\"#C8D4E3\"},\"line\":{\"color\":\"white\"}},\"type\":\"table\"}],\"barpolar\":[{\"marker\":{\"line\":{\"color\":\"#E5ECF6\",\"width\":0.5},\"pattern\":{\"fillmode\":\"overlay\",\"size\":10,\"solidity\":0.2}},\"type\":\"barpolar\"}],\"pie\":[{\"automargin\":true,\"type\":\"pie\"}]},\"layout\":{\"autotypenumbers\":\"strict\",\"colorway\":[\"#636efa\",\"#EF553B\",\"#00cc96\",\"#ab63fa\",\"#FFA15A\",\"#19d3f3\",\"#FF6692\",\"#B6E880\",\"#FF97FF\",\"#FECB52\"],\"font\":{\"color\":\"#2a3f5f\"},\"hovermode\":\"closest\",\"hoverlabel\":{\"align\":\"left\"},\"paper_bgcolor\":\"white\",\"plot_bgcolor\":\"#E5ECF6\",\"polar\":{\"bgcolor\":\"#E5ECF6\",\"angularaxis\":{\"gridcolor\":\"white\",\"linecolor\":\"white\",\"ticks\":\"\"},\"radialaxis\":{\"gridcolor\":\"white\",\"linecolor\":\"white\",\"ticks\":\"\"}},\"ternary\":{\"bgcolor\":\"#E5ECF6\",\"aaxis\":{\"gridcolor\":\"white\",\"linecolor\":\"white\",\"ticks\":\"\"},\"baxis\":{\"gridcolor\":\"white\",\"linecolor\":\"white\",\"ticks\":\"\"},\"caxis\":{\"gridcolor\":\"white\",\"linecolor\":\"white\",\"ticks\":\"\"}},\"coloraxis\":{\"colorbar\":{\"outlinewidth\":0,\"ticks\":\"\"}},\"colorscale\":{\"sequential\":[[0.0,\"#0d0887\"],[0.1111111111111111,\"#46039f\"],[0.2222222222222222,\"#7201a8\"],[0.3333333333333333,\"#9c179e\"],[0.4444444444444444,\"#bd3786\"],[0.5555555555555556,\"#d8576b\"],[0.6666666666666666,\"#ed7953\"],[0.7777777777777778,\"#fb9f3a\"],[0.8888888888888888,\"#fdca26\"],[1.0,\"#f0f921\"]],\"sequentialminus\":[[0.0,\"#0d0887\"],[0.1111111111111111,\"#46039f\"],[0.2222222222222222,\"#7201a8\"],[0.3333333333333333,\"#9c179e\"],[0.4444444444444444,\"#bd3786\"],[0.5555555555555556,\"#d8576b\"],[0.6666666666666666,\"#ed7953\"],[0.7777777777777778,\"#fb9f3a\"],[0.8888888888888888,\"#fdca26\"],[1.0,\"#f0f921\"]],\"diverging\":[[0,\"#8e0152\"],[0.1,\"#c51b7d\"],[0.2,\"#de77ae\"],[0.3,\"#f1b6da\"],[0.4,\"#fde0ef\"],[0.5,\"#f7f7f7\"],[0.6,\"#e6f5d0\"],[0.7,\"#b8e186\"],[0.8,\"#7fbc41\"],[0.9,\"#4d9221\"],[1,\"#276419\"]]},\"xaxis\":{\"gridcolor\":\"white\",\"linecolor\":\"white\",\"ticks\":\"\",\"title\":{\"standoff\":15},\"zerolinecolor\":\"white\",\"automargin\":true,\"zerolinewidth\":2},\"yaxis\":{\"gridcolor\":\"white\",\"linecolor\":\"white\",\"ticks\":\"\",\"title\":{\"standoff\":15},\"zerolinecolor\":\"white\",\"automargin\":true,\"zerolinewidth\":2},\"scene\":{\"xaxis\":{\"backgroundcolor\":\"#E5ECF6\",\"gridcolor\":\"white\",\"linecolor\":\"white\",\"showbackground\":true,\"ticks\":\"\",\"zerolinecolor\":\"white\",\"gridwidth\":2},\"yaxis\":{\"backgroundcolor\":\"#E5ECF6\",\"gridcolor\":\"white\",\"linecolor\":\"white\",\"showbackground\":true,\"ticks\":\"\",\"zerolinecolor\":\"white\",\"gridwidth\":2},\"zaxis\":{\"backgroundcolor\":\"#E5ECF6\",\"gridcolor\":\"white\",\"linecolor\":\"white\",\"showbackground\":true,\"ticks\":\"\",\"zerolinecolor\":\"white\",\"gridwidth\":2}},\"shapedefaults\":{\"line\":{\"color\":\"#2a3f5f\"}},\"annotationdefaults\":{\"arrowcolor\":\"#2a3f5f\",\"arrowhead\":0,\"arrowwidth\":1},\"geo\":{\"bgcolor\":\"white\",\"landcolor\":\"#E5ECF6\",\"subunitcolor\":\"white\",\"showland\":true,\"showlakes\":true,\"lakecolor\":\"white\"},\"title\":{\"x\":0.05},\"mapbox\":{\"style\":\"light\"}}}},                        {\"responsive\": true}                    ).then(function(){\n",
       "                            \n",
       "var gd = document.getElementById('a6345629-f86e-49f2-9390-eecd1b982779');\n",
       "var x = new MutationObserver(function (mutations, observer) {{\n",
       "        var display = window.getComputedStyle(gd).display;\n",
       "        if (!display || display === 'none') {{\n",
       "            console.log([gd, 'removed!']);\n",
       "            Plotly.purge(gd);\n",
       "            observer.disconnect();\n",
       "        }}\n",
       "}});\n",
       "\n",
       "// Listen for the removal of the full notebook cells\n",
       "var notebookContainer = gd.closest('#notebook-container');\n",
       "if (notebookContainer) {{\n",
       "    x.observe(notebookContainer, {childList: true});\n",
       "}}\n",
       "\n",
       "// Listen for the clearing of the current output cell\n",
       "var outputEl = gd.closest('.output');\n",
       "if (outputEl) {{\n",
       "    x.observe(outputEl, {childList: true});\n",
       "}}\n",
       "\n",
       "                        })                };                });            </script>        </div>"
      ]
     },
     "metadata": {},
     "output_type": "display_data"
    }
   ],
   "source": [
    "import plotly.express as px\n",
    "import plotly.graph_objects as go\n",
    "\n",
    "fig = go.Figure()\n",
    "\n",
    "fig.add_trace(go.Scatter(x=tmp[\"X\"],\n",
    "                         y=tmp[\"y_pred\"],\n",
    "                         mode = \"markers\" ))\n",
    "\n",
    "fig.add_trace(go.Scatter(x=tmp[\"X\"],\n",
    "                         y=tmp[\"real\"],\n",
    "                         mode = \"markers\" ))\n",
    "\n",
    "fig.add_trace(go.Scatter(x=list(tmp[\"X\"])+list(tmp[\"X\"][::-1]), \n",
    "                         y=list(tmp.low) + list(tmp.high[::-1]),\n",
    "                    fill='toself'))\n",
    "fig.show()"
   ]
  },
  {
   "cell_type": "code",
   "execution_count": 44,
   "id": "8c17a55b-b062-4d3b-abf7-1a514d0bf681",
   "metadata": {},
   "outputs": [
    {
     "data": {
      "text/plain": [
       "0.064"
      ]
     },
     "execution_count": 44,
     "metadata": {},
     "output_type": "execute_result"
    }
   ],
   "source": [
    "np.mean((tmp.real < tmp.low) | (tmp.real > tmp.high))"
   ]
  },
  {
   "cell_type": "markdown",
   "id": "cb483226-ccc9-4d01-93b6-2d7d8431b1a9",
   "metadata": {},
   "source": [
    "---------"
   ]
  },
  {
   "cell_type": "code",
   "execution_count": 45,
   "id": "2f72ca74-5d3c-4c50-a8e0-d2c4743328cc",
   "metadata": {},
   "outputs": [],
   "source": [
    "import numpy as np\n",
    "from sklearn.linear_model import LogisticRegression\n",
    "from sklearn.datasets import make_blobs\n",
    "from sklearn.model_selection import train_test_split\n",
    "\n",
    "from mapie.classification import MapieClassifier"
   ]
  },
  {
   "cell_type": "code",
   "execution_count": 47,
   "id": "e95318ae-186f-4b1c-bba1-d740d6c3a1ea",
   "metadata": {},
   "outputs": [],
   "source": [
    "X, y = make_blobs(n_samples=500, n_features=2, centers=3)\n",
    "X_train, X_test, y_train, y_test = train_test_split(X, y, test_size=0.5)"
   ]
  },
  {
   "cell_type": "code",
   "execution_count": 52,
   "id": "ca263141-4cb9-40c0-97c3-166851ca9bcf",
   "metadata": {},
   "outputs": [],
   "source": [
    "tmp = pd.DataFrame(X_train).assign(y = y_train)"
   ]
  },
  {
   "cell_type": "code",
   "execution_count": 61,
   "id": "95a9a0f2-e629-4464-b9ce-179ae8f8736a",
   "metadata": {},
   "outputs": [
    {
     "data": {
      "text/plain": [
       "y\n",
       "1    89\n",
       "0    83\n",
       "2    78\n",
       "Name: count, dtype: int64"
      ]
     },
     "execution_count": 61,
     "metadata": {},
     "output_type": "execute_result"
    }
   ],
   "source": [
    "tmp.y.value_counts()"
   ]
  },
  {
   "cell_type": "code",
   "execution_count": 67,
   "id": "0fb2e8b2-712b-4611-9590-363f11551be6",
   "metadata": {},
   "outputs": [
    {
     "data": {
      "application/vnd.plotly.v1+json": {
       "config": {
        "plotlyServerURL": "https://plot.ly"
       },
       "data": [
        {
         "mode": "markers",
         "name": "1",
         "type": "scatter",
         "x": [
          8.417069370645697,
          7.649678677280279,
          8.229732557088811,
          7.579399493313717,
          8.294039729948373,
          7.74224446066486,
          7.606788778447246,
          7.712330858155617,
          8.610657431449155,
          9.074040918507517,
          7.060767324888683,
          7.734868901852674,
          7.500441933168615,
          8.281671531674485,
          8.353523948007307,
          6.656239639816963,
          9.690759230675068,
          8.06255915631886,
          9.66633887714066,
          8.592227698219657,
          9.941297016312182,
          10.072185639041859,
          7.342883098638278,
          9.860606218032316,
          6.565164499507731,
          8.891390896790721,
          6.387018341310972,
          8.669972869249474,
          8.75809831283951,
          8.055699962760793,
          9.145220906788335,
          8.880458978439481,
          7.72021620521825,
          10.011721624267942,
          7.7584432909763725,
          8.438636725697247,
          9.058637263011569,
          9.982307748852802,
          8.90473286521372,
          7.951698174109247,
          7.539754778674013,
          6.624982478632425,
          7.790678320586745,
          8.020798915848836,
          9.820633175675496,
          7.686794688557729,
          8.297209273906175,
          7.623991450055588,
          7.683763997003991,
          8.302337983311594,
          8.443449430810752,
          7.780712082539564,
          8.482485848829205,
          7.438315281112446,
          7.342559195894179,
          9.121942524081298,
          8.601072778666103,
          9.525526863259445,
          7.507357089825521,
          8.956278029547175,
          9.736984506879926,
          8.398958706733271,
          7.939758955911082,
          6.8053364557507665,
          8.50462700733698,
          8.234999772635632,
          8.611782292753153,
          10.119664153265154,
          8.29808048669587,
          6.744656966196754,
          8.266335758913028,
          9.770268437649358,
          7.6353738544718786,
          6.650441594383731,
          6.886920892319813,
          8.898389237510768,
          8.942961144570049,
          8.710070908760118,
          6.710945225074747,
          7.89549414798661,
          7.936818675177536,
          7.087448963099348,
          7.052795279931672,
          8.172404773128575,
          8.8529669766522,
          6.1307540387433,
          8.246013433269098,
          9.340854672425955,
          8.08771573950746
         ],
         "y": [
          -0.44812826390343297,
          1.4202370062817775,
          -1.4776764159597373,
          1.766997282067159,
          -0.08732483260652496,
          1.3829857973703708,
          0.7917129063406088,
          1.3245780562206773,
          0.34499679703731834,
          -0.4323051674698092,
          1.0737617705828333,
          -0.728304298848367,
          0.5752104130494482,
          -0.6455734035216102,
          -0.30158315655273366,
          -1.1255450251892412,
          -0.7806131609600623,
          0.7837972801529847,
          -1.0008017945864114,
          0.27725682417035186,
          -0.6041213817678737,
          0.4233366833920194,
          0.4137351118783622,
          -0.6078345313219314,
          0.05037267490929852,
          -0.2793527822983767,
          1.71214581492548,
          -0.2603301506610274,
          0.3027193820405307,
          0.7010010533537947,
          -0.12111335520157132,
          0.6397114313553338,
          -1.1986346529464122,
          -0.5985309534577293,
          -0.18659290896709851,
          -1.3377095427696997,
          -0.525541201012353,
          -1.7043962204956349,
          -0.309913653241476,
          -0.6674428594926474,
          -0.00998161909273361,
          -0.3116152713979792,
          2.057765868496386,
          -0.8507498733458846,
          -0.44690607334190086,
          0.6560105950541368,
          0.7817753643507387,
          1.1248189409382905,
          -0.7462559498904683,
          -0.5408070665675891,
          1.4700765178192918,
          1.1350883299663868,
          0.6064416851360473,
          0.6984224940307809,
          -0.7585102916311038,
          -0.26016580373339726,
          1.0458202752431673,
          1.6409716000005092,
          1.4559923964578474,
          1.2309020579499177,
          -1.9043698098495332,
          0.1592309937612454,
          -0.1954822258894895,
          1.393523506104708,
          -0.4582532441022388,
          0.39503540316288965,
          -0.5944628087161129,
          -1.3930449181519355,
          1.0662229732163593,
          0.4841651452192396,
          -0.6966549791205078,
          -3.1362929587817954,
          -0.5124961831202778,
          -0.01797610436266548,
          -0.2517576037744057,
          0.972684027750006,
          -0.16100600988220365,
          -0.3737668657469983,
          0.7865299508385668,
          -0.30791712045205777,
          0.8622944998511661,
          -1.1860848865193507,
          0.32329767492231726,
          0.58783973693492,
          1.1593654365315802,
          -0.6173880758979787,
          -0.45685157089128053,
          -1.494536866835916,
          0.5760797756701269
         ]
        },
        {
         "mode": "markers",
         "name": "0",
         "type": "scatter",
         "x": [
          5.547830307550736,
          5.817207766418729,
          5.443855405224126,
          1.6269811219536714,
          5.293314028382506,
          6.0213346521059865,
          6.433166947340403,
          2.553975012614126,
          4.720694626283955,
          5.4872779508464,
          2.9254002284784195,
          5.252744753973062,
          3.4436307632022314,
          4.3750549933228555,
          4.659044511559351,
          3.9761391098967636,
          5.654772732309842,
          3.678915958723622,
          6.25739389760948,
          5.614888819650649,
          5.212703532152805,
          4.551147232862254,
          4.482195974603232,
          2.6046854992876836,
          5.8808779938551865,
          3.3435856269463486,
          4.568037278318209,
          5.113598263174871,
          6.66094207749903,
          3.9581895944219103,
          6.780687748282717,
          4.925597543955809,
          5.406080111357582,
          4.907434433074343,
          4.004453407309804,
          4.936027517765862,
          5.688975577648525,
          4.501776768485086,
          5.733324914392821,
          6.928876569443583,
          6.727233677913404,
          5.379578909893832,
          4.639013377727355,
          5.1109735162449,
          3.099905272104712,
          4.750533296991374,
          4.195428791143566,
          5.202162074226079,
          6.673193220775071,
          3.7750554717341394,
          4.271163859454193,
          5.911138599611336,
          4.8979845520787135,
          4.738892220434727,
          5.2473519419080485,
          3.5637497697834077,
          4.327622772971627,
          4.89370361211384,
          4.6730704721722285,
          4.198804126383992,
          5.962517548298429,
          6.678109784973397,
          6.257645062341615,
          4.678334200241987,
          3.975185980257622,
          5.38190618222255,
          3.2604091947506273,
          4.679170619580155,
          5.030127711340968,
          6.075773478365759,
          3.6497815564587435,
          2.706030648565702,
          3.931319699425384,
          4.7920898803261816,
          5.147407121195814,
          6.341705959379027,
          6.147139408911652,
          3.305009197458934,
          4.840570524472457,
          6.041292088203502,
          6.718040053990819,
          6.304548489225777,
          6.130747691322963
         ],
         "y": [
          -7.92029703633296,
          -12.022277476145035,
          -8.803745438115634,
          -10.24775652851905,
          -8.443810845768489,
          -7.9741007120678145,
          -7.857001967043498,
          -7.621343588133291,
          -7.466908316710807,
          -7.879874047869445,
          -8.62786787976107,
          -10.553893442372312,
          -9.12219158357367,
          -7.629691363645845,
          -7.7792884993049585,
          -10.21474595761474,
          -9.782891612187525,
          -9.506714675607109,
          -9.239419195844082,
          -7.608218210080596,
          -8.152677590664942,
          -8.2894154108066,
          -7.709979815308299,
          -8.654978549978516,
          -7.634470494328795,
          -8.266248119189775,
          -9.830338170197281,
          -9.718930157684005,
          -9.39154154192077,
          -8.498176955666619,
          -7.81131467706969,
          -7.124713050908024,
          -8.945848727258404,
          -8.35151997072165,
          -10.333454730564608,
          -8.925532089246225,
          -7.738133966181476,
          -8.60884543522348,
          -8.154705383608034,
          -10.671157649072274,
          -6.890431460801195,
          -7.904721284278781,
          -7.68599711039952,
          -7.120657840820629,
          -8.66307819299582,
          -6.835400520309842,
          -8.267530241050281,
          -8.130815502293414,
          -8.638903912465766,
          -7.8583336691724925,
          -8.805560493602533,
          -8.740939516448883,
          -8.028918388231638,
          -9.946198662911087,
          -10.742925047502785,
          -7.21057702460633,
          -7.690891874026241,
          -8.792342041534738,
          -11.085731357483336,
          -8.055912767835128,
          -7.607391644999638,
          -9.803620194883734,
          -7.281413358390587,
          -8.904033255721648,
          -9.177392781781265,
          -7.62643189420208,
          -9.365289169240278,
          -8.730132406994212,
          -8.72134755762862,
          -9.16254566320311,
          -7.691400056780688,
          -8.04297986622788,
          -8.156918442858395,
          -7.001339703931385,
          -8.088575230417527,
          -7.286021702902719,
          -7.586092651468183,
          -10.350847949936625,
          -9.869097604348347,
          -9.689373709115154,
          -9.44450500688202,
          -8.074909187359795,
          -10.760169579930908
         ]
        },
        {
         "mode": "markers",
         "name": "2",
         "type": "scatter",
         "x": [
          3.6462937726944533,
          2.0331224076232566,
          2.657394084353398,
          2.542706695862463,
          2.190500024446971,
          3.881367369438324,
          2.9534980773260946,
          4.110250065405485,
          3.21561959064259,
          4.167719515314997,
          1.311631530346751,
          2.4375660412117157,
          1.7417617616321168,
          3.65788396113313,
          2.645780718648902,
          3.0957896163617793,
          2.932050405665474,
          3.533589860728522,
          1.6367172836874477,
          2.5098147826751154,
          2.313900064599997,
          2.967915080392826,
          1.9860316895582921,
          2.541861261102375,
          2.9760813703492177,
          3.8958225955411283,
          2.4641374197866313,
          2.650816662789214,
          3.9483626970469867,
          3.5568673462711624,
          4.906570156197141,
          3.1842706772213907,
          3.4112374749283925,
          4.48219972848349,
          3.625223476025651,
          2.319614119667314,
          2.953012784484962,
          2.6527012206409304,
          2.9143038376379953,
          0.5670670021388751,
          2.2348186014123224,
          3.711937708937682,
          2.051276894564789,
          3.165473926668336,
          4.548259281037887,
          3.724072243152587,
          2.6170640946452544,
          2.5379416240589796,
          5.124206717430788,
          3.277182692313467,
          2.9093701410526482,
          1.341593038436024,
          4.278402723383031,
          3.012476141324575,
          4.0301898960636695,
          4.808740641688211,
          2.401375107250838,
          1.6527357035228536,
          2.7641940981433946,
          1.4022371813289287,
          2.7729826461515246,
          2.847333459131353,
          2.949584107471927,
          3.349578665432058,
          2.569607097822809,
          3.7595736446984,
          3.809815410498214,
          2.2424070296296565,
          0.7899498065355064,
          2.519434786278932,
          2.0915531111605548,
          3.3758449393924717,
          2.8902499043449397,
          2.593764213716743,
          2.334424128854374,
          1.5414816841504204,
          3.207012578795096,
          2.060655100663797
         ],
         "y": [
          -8.078278777485519,
          -9.915557375355712,
          -7.713781086951122,
          -9.01562758382881,
          -8.686183167860337,
          -9.16348955848138,
          -6.871026492881587,
          -6.917944079659918,
          -8.69724596612716,
          -7.354880159926254,
          -7.337061580168379,
          -7.231366792689301,
          -5.867684528056899,
          -8.174540854399716,
          -7.879553514445886,
          -7.039738496147836,
          -8.635289406194405,
          -7.7115906509621315,
          -9.131832290188754,
          -7.259506268123475,
          -9.193036905546736,
          -8.19343744844151,
          -7.473172832470122,
          -9.643701037722193,
          -9.097636089866127,
          -9.297839530611975,
          -7.843665454467763,
          -8.64319221780651,
          -5.765069339549138,
          -8.02759202587638,
          -6.848200113711668,
          -6.283401181517049,
          -7.320242342697113,
          -7.1596640101718805,
          -7.738031580768482,
          -6.747713185012884,
          -7.742562600948488,
          -8.729713156169032,
          -8.55294263932226,
          -8.07886706467994,
          -9.115831890878852,
          -6.979637840411714,
          -6.563718034041976,
          -8.354625154280955,
          -8.965662680211974,
          -7.684996607362318,
          -6.281520958901876,
          -8.86274832208127,
          -8.432204776834087,
          -8.883481439983143,
          -6.619940012400726,
          -7.478379000587088,
          -6.555542361315392,
          -7.511543962970417,
          -8.341004707087267,
          -7.498061577678644,
          -8.216147314815112,
          -7.516347786787636,
          -8.946923722195184,
          -7.532602788880655,
          -7.422702483586997,
          -8.528772473908596,
          -7.43946556193941,
          -7.640903289288456,
          -9.683333439861643,
          -5.930092196508386,
          -8.20940767491053,
          -8.524284399072908,
          -7.761021403391464,
          -7.656227790644563,
          -8.502727080077443,
          -7.161442148677698,
          -9.349723484118675,
          -8.70999380365162,
          -7.178644260228159,
          -6.612577094185253,
          -7.956979272524248,
          -8.143423983239297
         ]
        }
       ],
       "layout": {
        "autosize": true,
        "template": {
         "data": {
          "bar": [
           {
            "error_x": {
             "color": "#2a3f5f"
            },
            "error_y": {
             "color": "#2a3f5f"
            },
            "marker": {
             "line": {
              "color": "#E5ECF6",
              "width": 0.5
             },
             "pattern": {
              "fillmode": "overlay",
              "size": 10,
              "solidity": 0.2
             }
            },
            "type": "bar"
           }
          ],
          "barpolar": [
           {
            "marker": {
             "line": {
              "color": "#E5ECF6",
              "width": 0.5
             },
             "pattern": {
              "fillmode": "overlay",
              "size": 10,
              "solidity": 0.2
             }
            },
            "type": "barpolar"
           }
          ],
          "carpet": [
           {
            "aaxis": {
             "endlinecolor": "#2a3f5f",
             "gridcolor": "white",
             "linecolor": "white",
             "minorgridcolor": "white",
             "startlinecolor": "#2a3f5f"
            },
            "baxis": {
             "endlinecolor": "#2a3f5f",
             "gridcolor": "white",
             "linecolor": "white",
             "minorgridcolor": "white",
             "startlinecolor": "#2a3f5f"
            },
            "type": "carpet"
           }
          ],
          "choropleth": [
           {
            "colorbar": {
             "outlinewidth": 0,
             "ticks": ""
            },
            "type": "choropleth"
           }
          ],
          "contour": [
           {
            "colorbar": {
             "outlinewidth": 0,
             "ticks": ""
            },
            "colorscale": [
             [
              0,
              "#0d0887"
             ],
             [
              0.1111111111111111,
              "#46039f"
             ],
             [
              0.2222222222222222,
              "#7201a8"
             ],
             [
              0.3333333333333333,
              "#9c179e"
             ],
             [
              0.4444444444444444,
              "#bd3786"
             ],
             [
              0.5555555555555556,
              "#d8576b"
             ],
             [
              0.6666666666666666,
              "#ed7953"
             ],
             [
              0.7777777777777778,
              "#fb9f3a"
             ],
             [
              0.8888888888888888,
              "#fdca26"
             ],
             [
              1,
              "#f0f921"
             ]
            ],
            "type": "contour"
           }
          ],
          "contourcarpet": [
           {
            "colorbar": {
             "outlinewidth": 0,
             "ticks": ""
            },
            "type": "contourcarpet"
           }
          ],
          "heatmap": [
           {
            "colorbar": {
             "outlinewidth": 0,
             "ticks": ""
            },
            "colorscale": [
             [
              0,
              "#0d0887"
             ],
             [
              0.1111111111111111,
              "#46039f"
             ],
             [
              0.2222222222222222,
              "#7201a8"
             ],
             [
              0.3333333333333333,
              "#9c179e"
             ],
             [
              0.4444444444444444,
              "#bd3786"
             ],
             [
              0.5555555555555556,
              "#d8576b"
             ],
             [
              0.6666666666666666,
              "#ed7953"
             ],
             [
              0.7777777777777778,
              "#fb9f3a"
             ],
             [
              0.8888888888888888,
              "#fdca26"
             ],
             [
              1,
              "#f0f921"
             ]
            ],
            "type": "heatmap"
           }
          ],
          "heatmapgl": [
           {
            "colorbar": {
             "outlinewidth": 0,
             "ticks": ""
            },
            "colorscale": [
             [
              0,
              "#0d0887"
             ],
             [
              0.1111111111111111,
              "#46039f"
             ],
             [
              0.2222222222222222,
              "#7201a8"
             ],
             [
              0.3333333333333333,
              "#9c179e"
             ],
             [
              0.4444444444444444,
              "#bd3786"
             ],
             [
              0.5555555555555556,
              "#d8576b"
             ],
             [
              0.6666666666666666,
              "#ed7953"
             ],
             [
              0.7777777777777778,
              "#fb9f3a"
             ],
             [
              0.8888888888888888,
              "#fdca26"
             ],
             [
              1,
              "#f0f921"
             ]
            ],
            "type": "heatmapgl"
           }
          ],
          "histogram": [
           {
            "marker": {
             "pattern": {
              "fillmode": "overlay",
              "size": 10,
              "solidity": 0.2
             }
            },
            "type": "histogram"
           }
          ],
          "histogram2d": [
           {
            "colorbar": {
             "outlinewidth": 0,
             "ticks": ""
            },
            "colorscale": [
             [
              0,
              "#0d0887"
             ],
             [
              0.1111111111111111,
              "#46039f"
             ],
             [
              0.2222222222222222,
              "#7201a8"
             ],
             [
              0.3333333333333333,
              "#9c179e"
             ],
             [
              0.4444444444444444,
              "#bd3786"
             ],
             [
              0.5555555555555556,
              "#d8576b"
             ],
             [
              0.6666666666666666,
              "#ed7953"
             ],
             [
              0.7777777777777778,
              "#fb9f3a"
             ],
             [
              0.8888888888888888,
              "#fdca26"
             ],
             [
              1,
              "#f0f921"
             ]
            ],
            "type": "histogram2d"
           }
          ],
          "histogram2dcontour": [
           {
            "colorbar": {
             "outlinewidth": 0,
             "ticks": ""
            },
            "colorscale": [
             [
              0,
              "#0d0887"
             ],
             [
              0.1111111111111111,
              "#46039f"
             ],
             [
              0.2222222222222222,
              "#7201a8"
             ],
             [
              0.3333333333333333,
              "#9c179e"
             ],
             [
              0.4444444444444444,
              "#bd3786"
             ],
             [
              0.5555555555555556,
              "#d8576b"
             ],
             [
              0.6666666666666666,
              "#ed7953"
             ],
             [
              0.7777777777777778,
              "#fb9f3a"
             ],
             [
              0.8888888888888888,
              "#fdca26"
             ],
             [
              1,
              "#f0f921"
             ]
            ],
            "type": "histogram2dcontour"
           }
          ],
          "mesh3d": [
           {
            "colorbar": {
             "outlinewidth": 0,
             "ticks": ""
            },
            "type": "mesh3d"
           }
          ],
          "parcoords": [
           {
            "line": {
             "colorbar": {
              "outlinewidth": 0,
              "ticks": ""
             }
            },
            "type": "parcoords"
           }
          ],
          "pie": [
           {
            "automargin": true,
            "type": "pie"
           }
          ],
          "scatter": [
           {
            "fillpattern": {
             "fillmode": "overlay",
             "size": 10,
             "solidity": 0.2
            },
            "type": "scatter"
           }
          ],
          "scatter3d": [
           {
            "line": {
             "colorbar": {
              "outlinewidth": 0,
              "ticks": ""
             }
            },
            "marker": {
             "colorbar": {
              "outlinewidth": 0,
              "ticks": ""
             }
            },
            "type": "scatter3d"
           }
          ],
          "scattercarpet": [
           {
            "marker": {
             "colorbar": {
              "outlinewidth": 0,
              "ticks": ""
             }
            },
            "type": "scattercarpet"
           }
          ],
          "scattergeo": [
           {
            "marker": {
             "colorbar": {
              "outlinewidth": 0,
              "ticks": ""
             }
            },
            "type": "scattergeo"
           }
          ],
          "scattergl": [
           {
            "marker": {
             "colorbar": {
              "outlinewidth": 0,
              "ticks": ""
             }
            },
            "type": "scattergl"
           }
          ],
          "scattermapbox": [
           {
            "marker": {
             "colorbar": {
              "outlinewidth": 0,
              "ticks": ""
             }
            },
            "type": "scattermapbox"
           }
          ],
          "scatterpolar": [
           {
            "marker": {
             "colorbar": {
              "outlinewidth": 0,
              "ticks": ""
             }
            },
            "type": "scatterpolar"
           }
          ],
          "scatterpolargl": [
           {
            "marker": {
             "colorbar": {
              "outlinewidth": 0,
              "ticks": ""
             }
            },
            "type": "scatterpolargl"
           }
          ],
          "scatterternary": [
           {
            "marker": {
             "colorbar": {
              "outlinewidth": 0,
              "ticks": ""
             }
            },
            "type": "scatterternary"
           }
          ],
          "surface": [
           {
            "colorbar": {
             "outlinewidth": 0,
             "ticks": ""
            },
            "colorscale": [
             [
              0,
              "#0d0887"
             ],
             [
              0.1111111111111111,
              "#46039f"
             ],
             [
              0.2222222222222222,
              "#7201a8"
             ],
             [
              0.3333333333333333,
              "#9c179e"
             ],
             [
              0.4444444444444444,
              "#bd3786"
             ],
             [
              0.5555555555555556,
              "#d8576b"
             ],
             [
              0.6666666666666666,
              "#ed7953"
             ],
             [
              0.7777777777777778,
              "#fb9f3a"
             ],
             [
              0.8888888888888888,
              "#fdca26"
             ],
             [
              1,
              "#f0f921"
             ]
            ],
            "type": "surface"
           }
          ],
          "table": [
           {
            "cells": {
             "fill": {
              "color": "#EBF0F8"
             },
             "line": {
              "color": "white"
             }
            },
            "header": {
             "fill": {
              "color": "#C8D4E3"
             },
             "line": {
              "color": "white"
             }
            },
            "type": "table"
           }
          ]
         },
         "layout": {
          "annotationdefaults": {
           "arrowcolor": "#2a3f5f",
           "arrowhead": 0,
           "arrowwidth": 1
          },
          "autotypenumbers": "strict",
          "coloraxis": {
           "colorbar": {
            "outlinewidth": 0,
            "ticks": ""
           }
          },
          "colorscale": {
           "diverging": [
            [
             0,
             "#8e0152"
            ],
            [
             0.1,
             "#c51b7d"
            ],
            [
             0.2,
             "#de77ae"
            ],
            [
             0.3,
             "#f1b6da"
            ],
            [
             0.4,
             "#fde0ef"
            ],
            [
             0.5,
             "#f7f7f7"
            ],
            [
             0.6,
             "#e6f5d0"
            ],
            [
             0.7,
             "#b8e186"
            ],
            [
             0.8,
             "#7fbc41"
            ],
            [
             0.9,
             "#4d9221"
            ],
            [
             1,
             "#276419"
            ]
           ],
           "sequential": [
            [
             0,
             "#0d0887"
            ],
            [
             0.1111111111111111,
             "#46039f"
            ],
            [
             0.2222222222222222,
             "#7201a8"
            ],
            [
             0.3333333333333333,
             "#9c179e"
            ],
            [
             0.4444444444444444,
             "#bd3786"
            ],
            [
             0.5555555555555556,
             "#d8576b"
            ],
            [
             0.6666666666666666,
             "#ed7953"
            ],
            [
             0.7777777777777778,
             "#fb9f3a"
            ],
            [
             0.8888888888888888,
             "#fdca26"
            ],
            [
             1,
             "#f0f921"
            ]
           ],
           "sequentialminus": [
            [
             0,
             "#0d0887"
            ],
            [
             0.1111111111111111,
             "#46039f"
            ],
            [
             0.2222222222222222,
             "#7201a8"
            ],
            [
             0.3333333333333333,
             "#9c179e"
            ],
            [
             0.4444444444444444,
             "#bd3786"
            ],
            [
             0.5555555555555556,
             "#d8576b"
            ],
            [
             0.6666666666666666,
             "#ed7953"
            ],
            [
             0.7777777777777778,
             "#fb9f3a"
            ],
            [
             0.8888888888888888,
             "#fdca26"
            ],
            [
             1,
             "#f0f921"
            ]
           ]
          },
          "colorway": [
           "#636efa",
           "#EF553B",
           "#00cc96",
           "#ab63fa",
           "#FFA15A",
           "#19d3f3",
           "#FF6692",
           "#B6E880",
           "#FF97FF",
           "#FECB52"
          ],
          "font": {
           "color": "#2a3f5f"
          },
          "geo": {
           "bgcolor": "white",
           "lakecolor": "white",
           "landcolor": "#E5ECF6",
           "showlakes": true,
           "showland": true,
           "subunitcolor": "white"
          },
          "hoverlabel": {
           "align": "left"
          },
          "hovermode": "closest",
          "mapbox": {
           "style": "light"
          },
          "paper_bgcolor": "white",
          "plot_bgcolor": "#E5ECF6",
          "polar": {
           "angularaxis": {
            "gridcolor": "white",
            "linecolor": "white",
            "ticks": ""
           },
           "bgcolor": "#E5ECF6",
           "radialaxis": {
            "gridcolor": "white",
            "linecolor": "white",
            "ticks": ""
           }
          },
          "scene": {
           "xaxis": {
            "backgroundcolor": "#E5ECF6",
            "gridcolor": "white",
            "gridwidth": 2,
            "linecolor": "white",
            "showbackground": true,
            "ticks": "",
            "zerolinecolor": "white"
           },
           "yaxis": {
            "backgroundcolor": "#E5ECF6",
            "gridcolor": "white",
            "gridwidth": 2,
            "linecolor": "white",
            "showbackground": true,
            "ticks": "",
            "zerolinecolor": "white"
           },
           "zaxis": {
            "backgroundcolor": "#E5ECF6",
            "gridcolor": "white",
            "gridwidth": 2,
            "linecolor": "white",
            "showbackground": true,
            "ticks": "",
            "zerolinecolor": "white"
           }
          },
          "shapedefaults": {
           "line": {
            "color": "#2a3f5f"
           }
          },
          "ternary": {
           "aaxis": {
            "gridcolor": "white",
            "linecolor": "white",
            "ticks": ""
           },
           "baxis": {
            "gridcolor": "white",
            "linecolor": "white",
            "ticks": ""
           },
           "bgcolor": "#E5ECF6",
           "caxis": {
            "gridcolor": "white",
            "linecolor": "white",
            "ticks": ""
           }
          },
          "title": {
           "x": 0.05
          },
          "xaxis": {
           "automargin": true,
           "gridcolor": "white",
           "linecolor": "white",
           "ticks": "",
           "title": {
            "standoff": 15
           },
           "zerolinecolor": "white",
           "zerolinewidth": 2
          },
          "yaxis": {
           "automargin": true,
           "gridcolor": "white",
           "linecolor": "white",
           "ticks": "",
           "title": {
            "standoff": 15
           },
           "zerolinecolor": "white",
           "zerolinewidth": 2
          }
         }
        },
        "xaxis": {
         "autorange": true,
         "range": [
          -0.012249534508761095,
          10.69898068991279
         ],
         "type": "linear"
        },
        "yaxis": {
         "autorange": true,
         "range": [
          -13.184222800702823,
          3.2197111930541733
         ],
         "type": "linear"
        }
       }
      },
      "image/png": "[encoded data removed]",
      "text/html": [
       "<div>                            <div id=\"d3fcc4cc-50ab-4f77-b7bf-c020f9c1acd4\" class=\"plotly-graph-div\" style=\"height:525px; width:100%;\"></div>            <script type=\"text/javascript\">                require([\"plotly\"], function(Plotly) {                    window.PLOTLYENV=window.PLOTLYENV || {};                                    if (document.getElementById(\"d3fcc4cc-50ab-4f77-b7bf-c020f9c1acd4\")) {                    Plotly.newPlot(                        \"d3fcc4cc-50ab-4f77-b7bf-c020f9c1acd4\",                        [{\"mode\":\"markers\",\"name\":\"1\",\"x\":[8.417069370645697,7.649678677280279,8.229732557088811,7.579399493313717,8.294039729948373,7.74224446066486,7.606788778447246,7.712330858155617,8.610657431449155,9.074040918507517,7.060767324888683,7.734868901852674,7.500441933168615,8.281671531674485,8.353523948007307,6.656239639816963,9.690759230675068,8.06255915631886,9.66633887714066,8.592227698219657,9.941297016312182,10.072185639041859,7.342883098638278,9.860606218032316,6.565164499507731,8.891390896790721,6.387018341310972,8.669972869249474,8.75809831283951,8.055699962760793,9.145220906788335,8.880458978439481,7.72021620521825,10.011721624267942,7.7584432909763725,8.438636725697247,9.058637263011569,9.982307748852802,8.90473286521372,7.951698174109247,7.539754778674013,6.624982478632425,7.790678320586745,8.020798915848836,9.820633175675496,7.686794688557729,8.297209273906175,7.623991450055588,7.683763997003991,8.302337983311594,8.443449430810752,7.780712082539564,8.482485848829205,7.438315281112446,7.342559195894179,9.121942524081298,8.601072778666103,9.525526863259445,7.507357089825521,8.956278029547175,9.736984506879926,8.398958706733271,7.939758955911082,6.8053364557507665,8.50462700733698,8.234999772635632,8.611782292753153,10.119664153265154,8.29808048669587,6.744656966196754,8.266335758913028,9.770268437649358,7.6353738544718786,6.650441594383731,6.886920892319813,8.898389237510768,8.942961144570049,8.710070908760118,6.710945225074747,7.89549414798661,7.936818675177536,7.087448963099348,7.052795279931672,8.172404773128575,8.8529669766522,6.1307540387433,8.246013433269098,9.340854672425955,8.08771573950746],\"y\":[-0.44812826390343297,1.4202370062817775,-1.4776764159597373,1.766997282067159,-0.08732483260652496,1.3829857973703708,0.7917129063406088,1.3245780562206773,0.34499679703731834,-0.4323051674698092,1.0737617705828333,-0.728304298848367,0.5752104130494482,-0.6455734035216102,-0.30158315655273366,-1.1255450251892412,-0.7806131609600623,0.7837972801529847,-1.0008017945864114,0.27725682417035186,-0.6041213817678737,0.4233366833920194,0.4137351118783622,-0.6078345313219314,0.05037267490929852,-0.2793527822983767,1.71214581492548,-0.2603301506610274,0.3027193820405307,0.7010010533537947,-0.12111335520157132,0.6397114313553338,-1.1986346529464122,-0.5985309534577293,-0.18659290896709851,-1.3377095427696997,-0.525541201012353,-1.7043962204956349,-0.309913653241476,-0.6674428594926474,-0.00998161909273361,-0.3116152713979792,2.057765868496386,-0.8507498733458846,-0.44690607334190086,0.6560105950541368,0.7817753643507387,1.1248189409382905,-0.7462559498904683,-0.5408070665675891,1.4700765178192918,1.1350883299663868,0.6064416851360473,0.6984224940307809,-0.7585102916311038,-0.26016580373339726,1.0458202752431673,1.6409716000005092,1.4559923964578474,1.2309020579499177,-1.9043698098495332,0.1592309937612454,-0.1954822258894895,1.393523506104708,-0.4582532441022388,0.39503540316288965,-0.5944628087161129,-1.3930449181519355,1.0662229732163593,0.4841651452192396,-0.6966549791205078,-3.1362929587817954,-0.5124961831202778,-0.01797610436266548,-0.2517576037744057,0.972684027750006,-0.16100600988220365,-0.3737668657469983,0.7865299508385668,-0.30791712045205777,0.8622944998511661,-1.1860848865193507,0.32329767492231726,0.58783973693492,1.1593654365315802,-0.6173880758979787,-0.45685157089128053,-1.494536866835916,0.5760797756701269],\"type\":\"scatter\"},{\"mode\":\"markers\",\"name\":\"0\",\"x\":[5.547830307550736,5.817207766418729,5.443855405224126,1.6269811219536714,5.293314028382506,6.0213346521059865,6.433166947340403,2.553975012614126,4.720694626283955,5.4872779508464,2.9254002284784195,5.252744753973062,3.4436307632022314,4.3750549933228555,4.659044511559351,3.9761391098967636,5.654772732309842,3.678915958723622,6.25739389760948,5.614888819650649,5.212703532152805,4.551147232862254,4.482195974603232,2.6046854992876836,5.8808779938551865,3.3435856269463486,4.568037278318209,5.113598263174871,6.66094207749903,3.9581895944219103,6.780687748282717,4.925597543955809,5.406080111357582,4.907434433074343,4.004453407309804,4.936027517765862,5.688975577648525,4.501776768485086,5.733324914392821,6.928876569443583,6.727233677913404,5.379578909893832,4.639013377727355,5.1109735162449,3.099905272104712,4.750533296991374,4.195428791143566,5.202162074226079,6.673193220775071,3.7750554717341394,4.271163859454193,5.911138599611336,4.8979845520787135,4.738892220434727,5.2473519419080485,3.5637497697834077,4.327622772971627,4.89370361211384,4.6730704721722285,4.198804126383992,5.962517548298429,6.678109784973397,6.257645062341615,4.678334200241987,3.975185980257622,5.38190618222255,3.2604091947506273,4.679170619580155,5.030127711340968,6.075773478365759,3.6497815564587435,2.706030648565702,3.931319699425384,4.7920898803261816,5.147407121195814,6.341705959379027,6.147139408911652,3.305009197458934,4.840570524472457,6.041292088203502,6.718040053990819,6.304548489225777,6.130747691322963],\"y\":[-7.92029703633296,-12.022277476145035,-8.803745438115634,-10.24775652851905,-8.443810845768489,-7.9741007120678145,-7.857001967043498,-7.621343588133291,-7.466908316710807,-7.879874047869445,-8.62786787976107,-10.553893442372312,-9.12219158357367,-7.629691363645845,-7.7792884993049585,-10.21474595761474,-9.782891612187525,-9.506714675607109,-9.239419195844082,-7.608218210080596,-8.152677590664942,-8.2894154108066,-7.709979815308299,-8.654978549978516,-7.634470494328795,-8.266248119189775,-9.830338170197281,-9.718930157684005,-9.39154154192077,-8.498176955666619,-7.81131467706969,-7.124713050908024,-8.945848727258404,-8.35151997072165,-10.333454730564608,-8.925532089246225,-7.738133966181476,-8.60884543522348,-8.154705383608034,-10.671157649072274,-6.890431460801195,-7.904721284278781,-7.68599711039952,-7.120657840820629,-8.66307819299582,-6.835400520309842,-8.267530241050281,-8.130815502293414,-8.638903912465766,-7.8583336691724925,-8.805560493602533,-8.740939516448883,-8.028918388231638,-9.946198662911087,-10.742925047502785,-7.21057702460633,-7.690891874026241,-8.792342041534738,-11.085731357483336,-8.055912767835128,-7.607391644999638,-9.803620194883734,-7.281413358390587,-8.904033255721648,-9.177392781781265,-7.62643189420208,-9.365289169240278,-8.730132406994212,-8.72134755762862,-9.16254566320311,-7.691400056780688,-8.04297986622788,-8.156918442858395,-7.001339703931385,-8.088575230417527,-7.286021702902719,-7.586092651468183,-10.350847949936625,-9.869097604348347,-9.689373709115154,-9.44450500688202,-8.074909187359795,-10.760169579930908],\"type\":\"scatter\"},{\"mode\":\"markers\",\"name\":\"2\",\"x\":[3.6462937726944533,2.0331224076232566,2.657394084353398,2.542706695862463,2.190500024446971,3.881367369438324,2.9534980773260946,4.110250065405485,3.21561959064259,4.167719515314997,1.311631530346751,2.4375660412117157,1.7417617616321168,3.65788396113313,2.645780718648902,3.0957896163617793,2.932050405665474,3.533589860728522,1.6367172836874477,2.5098147826751154,2.313900064599997,2.967915080392826,1.9860316895582921,2.541861261102375,2.9760813703492177,3.8958225955411283,2.4641374197866313,2.650816662789214,3.9483626970469867,3.5568673462711624,4.906570156197141,3.1842706772213907,3.4112374749283925,4.48219972848349,3.625223476025651,2.319614119667314,2.953012784484962,2.6527012206409304,2.9143038376379953,0.5670670021388751,2.2348186014123224,3.711937708937682,2.051276894564789,3.165473926668336,4.548259281037887,3.724072243152587,2.6170640946452544,2.5379416240589796,5.124206717430788,3.277182692313467,2.9093701410526482,1.341593038436024,4.278402723383031,3.012476141324575,4.0301898960636695,4.808740641688211,2.401375107250838,1.6527357035228536,2.7641940981433946,1.4022371813289287,2.7729826461515246,2.847333459131353,2.949584107471927,3.349578665432058,2.569607097822809,3.7595736446984,3.809815410498214,2.2424070296296565,0.7899498065355064,2.519434786278932,2.0915531111605548,3.3758449393924717,2.8902499043449397,2.593764213716743,2.334424128854374,1.5414816841504204,3.207012578795096,2.060655100663797],\"y\":[-8.078278777485519,-9.915557375355712,-7.713781086951122,-9.01562758382881,-8.686183167860337,-9.16348955848138,-6.871026492881587,-6.917944079659918,-8.69724596612716,-7.354880159926254,-7.337061580168379,-7.231366792689301,-5.867684528056899,-8.174540854399716,-7.879553514445886,-7.039738496147836,-8.635289406194405,-7.7115906509621315,-9.131832290188754,-7.259506268123475,-9.193036905546736,-8.19343744844151,-7.473172832470122,-9.643701037722193,-9.097636089866127,-9.297839530611975,-7.843665454467763,-8.64319221780651,-5.765069339549138,-8.02759202587638,-6.848200113711668,-6.283401181517049,-7.320242342697113,-7.1596640101718805,-7.738031580768482,-6.747713185012884,-7.742562600948488,-8.729713156169032,-8.55294263932226,-8.07886706467994,-9.115831890878852,-6.979637840411714,-6.563718034041976,-8.354625154280955,-8.965662680211974,-7.684996607362318,-6.281520958901876,-8.86274832208127,-8.432204776834087,-8.883481439983143,-6.619940012400726,-7.478379000587088,-6.555542361315392,-7.511543962970417,-8.341004707087267,-7.498061577678644,-8.216147314815112,-7.516347786787636,-8.946923722195184,-7.532602788880655,-7.422702483586997,-8.528772473908596,-7.43946556193941,-7.640903289288456,-9.683333439861643,-5.930092196508386,-8.20940767491053,-8.524284399072908,-7.761021403391464,-7.656227790644563,-8.502727080077443,-7.161442148677698,-9.349723484118675,-8.70999380365162,-7.178644260228159,-6.612577094185253,-7.956979272524248,-8.143423983239297],\"type\":\"scatter\"}],                        {\"template\":{\"data\":{\"histogram2dcontour\":[{\"type\":\"histogram2dcontour\",\"colorbar\":{\"outlinewidth\":0,\"ticks\":\"\"},\"colorscale\":[[0.0,\"#0d0887\"],[0.1111111111111111,\"#46039f\"],[0.2222222222222222,\"#7201a8\"],[0.3333333333333333,\"#9c179e\"],[0.4444444444444444,\"#bd3786\"],[0.5555555555555556,\"#d8576b\"],[0.6666666666666666,\"#ed7953\"],[0.7777777777777778,\"#fb9f3a\"],[0.8888888888888888,\"#fdca26\"],[1.0,\"#f0f921\"]]}],\"choropleth\":[{\"type\":\"choropleth\",\"colorbar\":{\"outlinewidth\":0,\"ticks\":\"\"}}],\"histogram2d\":[{\"type\":\"histogram2d\",\"colorbar\":{\"outlinewidth\":0,\"ticks\":\"\"},\"colorscale\":[[0.0,\"#0d0887\"],[0.1111111111111111,\"#46039f\"],[0.2222222222222222,\"#7201a8\"],[0.3333333333333333,\"#9c179e\"],[0.4444444444444444,\"#bd3786\"],[0.5555555555555556,\"#d8576b\"],[0.6666666666666666,\"#ed7953\"],[0.7777777777777778,\"#fb9f3a\"],[0.8888888888888888,\"#fdca26\"],[1.0,\"#f0f921\"]]}],\"heatmap\":[{\"type\":\"heatmap\",\"colorbar\":{\"outlinewidth\":0,\"ticks\":\"\"},\"colorscale\":[[0.0,\"#0d0887\"],[0.1111111111111111,\"#46039f\"],[0.2222222222222222,\"#7201a8\"],[0.3333333333333333,\"#9c179e\"],[0.4444444444444444,\"#bd3786\"],[0.5555555555555556,\"#d8576b\"],[0.6666666666666666,\"#ed7953\"],[0.7777777777777778,\"#fb9f3a\"],[0.8888888888888888,\"#fdca26\"],[1.0,\"#f0f921\"]]}],\"heatmapgl\":[{\"type\":\"heatmapgl\",\"colorbar\":{\"outlinewidth\":0,\"ticks\":\"\"},\"colorscale\":[[0.0,\"#0d0887\"],[0.1111111111111111,\"#46039f\"],[0.2222222222222222,\"#7201a8\"],[0.3333333333333333,\"#9c179e\"],[0.4444444444444444,\"#bd3786\"],[0.5555555555555556,\"#d8576b\"],[0.6666666666666666,\"#ed7953\"],[0.7777777777777778,\"#fb9f3a\"],[0.8888888888888888,\"#fdca26\"],[1.0,\"#f0f921\"]]}],\"contourcarpet\":[{\"type\":\"contourcarpet\",\"colorbar\":{\"outlinewidth\":0,\"ticks\":\"\"}}],\"contour\":[{\"type\":\"contour\",\"colorbar\":{\"outlinewidth\":0,\"ticks\":\"\"},\"colorscale\":[[0.0,\"#0d0887\"],[0.1111111111111111,\"#46039f\"],[0.2222222222222222,\"#7201a8\"],[0.3333333333333333,\"#9c179e\"],[0.4444444444444444,\"#bd3786\"],[0.5555555555555556,\"#d8576b\"],[0.6666666666666666,\"#ed7953\"],[0.7777777777777778,\"#fb9f3a\"],[0.8888888888888888,\"#fdca26\"],[1.0,\"#f0f921\"]]}],\"surface\":[{\"type\":\"surface\",\"colorbar\":{\"outlinewidth\":0,\"ticks\":\"\"},\"colorscale\":[[0.0,\"#0d0887\"],[0.1111111111111111,\"#46039f\"],[0.2222222222222222,\"#7201a8\"],[0.3333333333333333,\"#9c179e\"],[0.4444444444444444,\"#bd3786\"],[0.5555555555555556,\"#d8576b\"],[0.6666666666666666,\"#ed7953\"],[0.7777777777777778,\"#fb9f3a\"],[0.8888888888888888,\"#fdca26\"],[1.0,\"#f0f921\"]]}],\"mesh3d\":[{\"type\":\"mesh3d\",\"colorbar\":{\"outlinewidth\":0,\"ticks\":\"\"}}],\"scatter\":[{\"fillpattern\":{\"fillmode\":\"overlay\",\"size\":10,\"solidity\":0.2},\"type\":\"scatter\"}],\"parcoords\":[{\"type\":\"parcoords\",\"line\":{\"colorbar\":{\"outlinewidth\":0,\"ticks\":\"\"}}}],\"scatterpolargl\":[{\"type\":\"scatterpolargl\",\"marker\":{\"colorbar\":{\"outlinewidth\":0,\"ticks\":\"\"}}}],\"bar\":[{\"error_x\":{\"color\":\"#2a3f5f\"},\"error_y\":{\"color\":\"#2a3f5f\"},\"marker\":{\"line\":{\"color\":\"#E5ECF6\",\"width\":0.5},\"pattern\":{\"fillmode\":\"overlay\",\"size\":10,\"solidity\":0.2}},\"type\":\"bar\"}],\"scattergeo\":[{\"type\":\"scattergeo\",\"marker\":{\"colorbar\":{\"outlinewidth\":0,\"ticks\":\"\"}}}],\"scatterpolar\":[{\"type\":\"scatterpolar\",\"marker\":{\"colorbar\":{\"outlinewidth\":0,\"ticks\":\"\"}}}],\"histogram\":[{\"marker\":{\"pattern\":{\"fillmode\":\"overlay\",\"size\":10,\"solidity\":0.2}},\"type\":\"histogram\"}],\"scattergl\":[{\"type\":\"scattergl\",\"marker\":{\"colorbar\":{\"outlinewidth\":0,\"ticks\":\"\"}}}],\"scatter3d\":[{\"type\":\"scatter3d\",\"line\":{\"colorbar\":{\"outlinewidth\":0,\"ticks\":\"\"}},\"marker\":{\"colorbar\":{\"outlinewidth\":0,\"ticks\":\"\"}}}],\"scattermapbox\":[{\"type\":\"scattermapbox\",\"marker\":{\"colorbar\":{\"outlinewidth\":0,\"ticks\":\"\"}}}],\"scatterternary\":[{\"type\":\"scatterternary\",\"marker\":{\"colorbar\":{\"outlinewidth\":0,\"ticks\":\"\"}}}],\"scattercarpet\":[{\"type\":\"scattercarpet\",\"marker\":{\"colorbar\":{\"outlinewidth\":0,\"ticks\":\"\"}}}],\"carpet\":[{\"aaxis\":{\"endlinecolor\":\"#2a3f5f\",\"gridcolor\":\"white\",\"linecolor\":\"white\",\"minorgridcolor\":\"white\",\"startlinecolor\":\"#2a3f5f\"},\"baxis\":{\"endlinecolor\":\"#2a3f5f\",\"gridcolor\":\"white\",\"linecolor\":\"white\",\"minorgridcolor\":\"white\",\"startlinecolor\":\"#2a3f5f\"},\"type\":\"carpet\"}],\"table\":[{\"cells\":{\"fill\":{\"color\":\"#EBF0F8\"},\"line\":{\"color\":\"white\"}},\"header\":{\"fill\":{\"color\":\"#C8D4E3\"},\"line\":{\"color\":\"white\"}},\"type\":\"table\"}],\"barpolar\":[{\"marker\":{\"line\":{\"color\":\"#E5ECF6\",\"width\":0.5},\"pattern\":{\"fillmode\":\"overlay\",\"size\":10,\"solidity\":0.2}},\"type\":\"barpolar\"}],\"pie\":[{\"automargin\":true,\"type\":\"pie\"}]},\"layout\":{\"autotypenumbers\":\"strict\",\"colorway\":[\"#636efa\",\"#EF553B\",\"#00cc96\",\"#ab63fa\",\"#FFA15A\",\"#19d3f3\",\"#FF6692\",\"#B6E880\",\"#FF97FF\",\"#FECB52\"],\"font\":{\"color\":\"#2a3f5f\"},\"hovermode\":\"closest\",\"hoverlabel\":{\"align\":\"left\"},\"paper_bgcolor\":\"white\",\"plot_bgcolor\":\"#E5ECF6\",\"polar\":{\"bgcolor\":\"#E5ECF6\",\"angularaxis\":{\"gridcolor\":\"white\",\"linecolor\":\"white\",\"ticks\":\"\"},\"radialaxis\":{\"gridcolor\":\"white\",\"linecolor\":\"white\",\"ticks\":\"\"}},\"ternary\":{\"bgcolor\":\"#E5ECF6\",\"aaxis\":{\"gridcolor\":\"white\",\"linecolor\":\"white\",\"ticks\":\"\"},\"baxis\":{\"gridcolor\":\"white\",\"linecolor\":\"white\",\"ticks\":\"\"},\"caxis\":{\"gridcolor\":\"white\",\"linecolor\":\"white\",\"ticks\":\"\"}},\"coloraxis\":{\"colorbar\":{\"outlinewidth\":0,\"ticks\":\"\"}},\"colorscale\":{\"sequential\":[[0.0,\"#0d0887\"],[0.1111111111111111,\"#46039f\"],[0.2222222222222222,\"#7201a8\"],[0.3333333333333333,\"#9c179e\"],[0.4444444444444444,\"#bd3786\"],[0.5555555555555556,\"#d8576b\"],[0.6666666666666666,\"#ed7953\"],[0.7777777777777778,\"#fb9f3a\"],[0.8888888888888888,\"#fdca26\"],[1.0,\"#f0f921\"]],\"sequentialminus\":[[0.0,\"#0d0887\"],[0.1111111111111111,\"#46039f\"],[0.2222222222222222,\"#7201a8\"],[0.3333333333333333,\"#9c179e\"],[0.4444444444444444,\"#bd3786\"],[0.5555555555555556,\"#d8576b\"],[0.6666666666666666,\"#ed7953\"],[0.7777777777777778,\"#fb9f3a\"],[0.8888888888888888,\"#fdca26\"],[1.0,\"#f0f921\"]],\"diverging\":[[0,\"#8e0152\"],[0.1,\"#c51b7d\"],[0.2,\"#de77ae\"],[0.3,\"#f1b6da\"],[0.4,\"#fde0ef\"],[0.5,\"#f7f7f7\"],[0.6,\"#e6f5d0\"],[0.7,\"#b8e186\"],[0.8,\"#7fbc41\"],[0.9,\"#4d9221\"],[1,\"#276419\"]]},\"xaxis\":{\"gridcolor\":\"white\",\"linecolor\":\"white\",\"ticks\":\"\",\"title\":{\"standoff\":15},\"zerolinecolor\":\"white\",\"automargin\":true,\"zerolinewidth\":2},\"yaxis\":{\"gridcolor\":\"white\",\"linecolor\":\"white\",\"ticks\":\"\",\"title\":{\"standoff\":15},\"zerolinecolor\":\"white\",\"automargin\":true,\"zerolinewidth\":2},\"scene\":{\"xaxis\":{\"backgroundcolor\":\"#E5ECF6\",\"gridcolor\":\"white\",\"linecolor\":\"white\",\"showbackground\":true,\"ticks\":\"\",\"zerolinecolor\":\"white\",\"gridwidth\":2},\"yaxis\":{\"backgroundcolor\":\"#E5ECF6\",\"gridcolor\":\"white\",\"linecolor\":\"white\",\"showbackground\":true,\"ticks\":\"\",\"zerolinecolor\":\"white\",\"gridwidth\":2},\"zaxis\":{\"backgroundcolor\":\"#E5ECF6\",\"gridcolor\":\"white\",\"linecolor\":\"white\",\"showbackground\":true,\"ticks\":\"\",\"zerolinecolor\":\"white\",\"gridwidth\":2}},\"shapedefaults\":{\"line\":{\"color\":\"#2a3f5f\"}},\"annotationdefaults\":{\"arrowcolor\":\"#2a3f5f\",\"arrowhead\":0,\"arrowwidth\":1},\"geo\":{\"bgcolor\":\"white\",\"landcolor\":\"#E5ECF6\",\"subunitcolor\":\"white\",\"showland\":true,\"showlakes\":true,\"lakecolor\":\"white\"},\"title\":{\"x\":0.05},\"mapbox\":{\"style\":\"light\"}}}},                        {\"responsive\": true}                    ).then(function(){\n",
       "                            \n",
       "var gd = document.getElementById('d3fcc4cc-50ab-4f77-b7bf-c020f9c1acd4');\n",
       "var x = new MutationObserver(function (mutations, observer) {{\n",
       "        var display = window.getComputedStyle(gd).display;\n",
       "        if (!display || display === 'none') {{\n",
       "            console.log([gd, 'removed!']);\n",
       "            Plotly.purge(gd);\n",
       "            observer.disconnect();\n",
       "        }}\n",
       "}});\n",
       "\n",
       "// Listen for the removal of the full notebook cells\n",
       "var notebookContainer = gd.closest('#notebook-container');\n",
       "if (notebookContainer) {{\n",
       "    x.observe(notebookContainer, {childList: true});\n",
       "}}\n",
       "\n",
       "// Listen for the clearing of the current output cell\n",
       "var outputEl = gd.closest('.output');\n",
       "if (outputEl) {{\n",
       "    x.observe(outputEl, {childList: true});\n",
       "}}\n",
       "\n",
       "                        })                };                });            </script>        </div>"
      ]
     },
     "metadata": {},
     "output_type": "display_data"
    }
   ],
   "source": [
    "fig = go.Figure()\n",
    "\n",
    "for i,s in tmp.y.value_counts().items():\n",
    "    \n",
    "    fig.add_trace(go.Scatter(x=tmp.loc[:,1][tmp.y == i],\n",
    "                         y=tmp.loc[:,0][tmp.y == i],\n",
    "                         name = str(i),    \n",
    "                         mode = \"markers\" ))\n",
    "fig.show()"
   ]
  },
  {
   "cell_type": "code",
   "execution_count": 72,
   "id": "11de4d36-016e-40a3-9f6e-465c01bb4e5f",
   "metadata": {},
   "outputs": [],
   "source": [
    "classifier = LogisticRegression()\n",
    "\n",
    "mapie_classifier = MapieClassifier(estimator=classifier, method='score', cv=5)\n",
    "\n",
    "mapie_classifier = mapie_classifier.fit(X_train, y_train)\n",
    "y_pred, y_pis = mapie_classifier.predict(X_test, alpha=[0.05])"
   ]
  },
  {
   "cell_type": "code",
   "execution_count": 79,
   "id": "b6a5ee18-1feb-4c5d-bc54-00178891f47d",
   "metadata": {},
   "outputs": [],
   "source": [
    "tmp = pd.DataFrame(X_test).assign(y = y_test)"
   ]
  },
  {
   "cell_type": "code",
   "execution_count": 88,
   "id": "c958351b-0f08-4a20-87c6-a5189f3875dd",
   "metadata": {},
   "outputs": [],
   "source": [
    "tmp[\"color\"] = [str(x)+str(y)+str(z) for x,y,z in zip(y_test, y_pred, y_pis)]"
   ]
  },
  {
   "cell_type": "code",
   "execution_count": 90,
   "id": "398a11df-43ce-4972-919a-c69754520b6b",
   "metadata": {},
   "outputs": [
    {
     "data": {
      "application/vnd.plotly.v1+json": {
       "config": {
        "plotlyServerURL": "https://plot.ly"
       },
       "data": [
        {
         "mode": "markers",
         "name": "11[[False]\n [ True]\n [False]]",
         "type": "scatter",
         "visible": true,
         "x": [
          7.055264894544747,
          6.999822532788892,
          7.462809795400473,
          8.281131947757727,
          7.640979959489123,
          10.329960959885646,
          9.813383437718384,
          7.409164505984071,
          9.293542267379529,
          8.563346342374581,
          8.187314492815796,
          8.3054801898684,
          8.875415124224581,
          7.665807843442865,
          9.176635912882407,
          8.853431622527882,
          9.28838470034897,
          8.835054145674485,
          7.805585962901441,
          9.209921173085046,
          8.807971303721533,
          9.787269390255897,
          8.533898354018078,
          6.72832758893883,
          9.51257256133256,
          10.293709577365838,
          7.160113273391671,
          9.226393685802629,
          7.9611519432237365,
          8.32238593510556,
          8.998747337455155,
          9.469176248692543,
          9.608568355455867,
          9.040480463860284,
          7.340872057136712,
          8.055064912827088,
          9.687547840884728,
          6.784182850974481,
          9.12846584591008,
          8.047257549991057,
          10.011845954944746,
          6.535990329989607,
          8.020248130950872,
          7.742814374353712,
          9.434964547181796,
          6.635785155759196,
          8.26981982329156,
          10.253873170897139,
          10.273106036136937,
          8.898624583305526,
          9.057422672828782,
          7.755920184463655,
          6.2866205966192705,
          6.792309876243921,
          8.58374562392162,
          8.495425262135784,
          9.957069896310715,
          7.2169007675213255,
          8.704803766637262,
          8.06326237013548,
          7.774079331971868,
          7.883217916647037,
          8.081161105252264,
          7.538174113777697,
          7.3736463354547634,
          9.647300412610637,
          8.361146843831717,
          8.99110616126703,
          8.329206346952686,
          8.330398146348946,
          8.424542547015008,
          8.674322635306572,
          7.738762049454885,
          8.027364656217488,
          8.8098776823666,
          6.37113169764804,
          7.425358894945243,
          8.547617011247771
         ],
         "y": [
          0.022935211370723213,
          0.21652998604168078,
          -0.7468927765867013,
          -1.1137963545233698,
          -0.2800225974947762,
          -0.7642688535596063,
          0.10098049933185402,
          0.06918639512542366,
          0.896819453817765,
          1.044819148413197,
          -0.7422555318996195,
          -1.0457328437397055,
          -1.0917152289216892,
          -0.39579923326894595,
          -1.0327335047013824,
          -0.08096874610577992,
          0.7777994619661305,
          0.33047502933434375,
          -0.7192820086552558,
          0.9546270731062518,
          -0.6949399549906098,
          -0.12031353303218043,
          0.16390572103810414,
          -1.256270819823688,
          -1.0961201273074241,
          1.3481705080250062,
          1.5081805736141585,
          0.09406506276712079,
          -0.4858555481113788,
          -0.3217195001106177,
          0.6105719889107012,
          0.7119429034901423,
          0.30318751295983215,
          1.0923747998258762,
          1.1892066351602766,
          0.8194392479747933,
          1.6953264452990098,
          0.3524530471901109,
          -0.9383663134853087,
          -0.8152826011832609,
          -0.044804212600536006,
          -0.9068432311048673,
          1.4677897077085047,
          -0.5792464156647967,
          0.1902806196259546,
          -1.0483448628739032,
          -0.3579954842624498,
          1.0477115785955764,
          0.2959272293087541,
          -1.4617482592871454,
          -0.8353273934488508,
          0.7820819157583205,
          0.7169404834885881,
          -0.6407863785477129,
          -2.408064426795049,
          -0.06462053010546638,
          -0.4611647807541319,
          1.4418990667546945,
          0.004276548538192926,
          0.5657269398443041,
          1.3937483344504649,
          0.8617489184366386,
          -0.401912678879371,
          -0.40323289383345096,
          -0.2147208230872449,
          -0.29705972662430624,
          1.105519975480918,
          -0.6381067517008028,
          0.355592962230368,
          -2.112399796567614,
          -0.8502763408383723,
          0.9848774567184349,
          -0.20240932513465876,
          2.0482456016410793,
          -0.18876647252178322,
          -1.5045042173596996,
          -0.5472567993763391,
          -1.7659526163324775
         ]
        },
        {
         "mode": "markers",
         "name": "00[[ True]\n [False]\n [False]]",
         "type": "scatter",
         "visible": true,
         "x": [
          5.140578246094668,
          5.088930436596553,
          5.858851894070714,
          4.486451277374932,
          4.824268069474858,
          4.847208678356342,
          6.3222043552193,
          4.683341246420127,
          5.937679542849231,
          6.296901000679215,
          3.781904633746972,
          5.335511993930901,
          5.0805870066767485,
          5.143302968071901,
          6.867273945361729,
          6.788423775875879,
          5.319233926243831,
          6.624612905512427,
          4.383296606980264,
          7.0691959866565846,
          4.50261756350037,
          5.507912222547551,
          5.366932730353058,
          4.720884140044935,
          3.9474196196816127,
          4.584398328779894,
          4.681547764554801,
          4.447935488899828,
          4.512272807782362,
          5.383654500151361,
          4.625691305418397,
          4.120316343314607,
          5.897032745193563,
          5.3907874503525015,
          4.765379120638172,
          5.098837415676507,
          4.38815669475641,
          4.694429936343576,
          5.762173542851288,
          4.763299101758341,
          4.886612251023374,
          4.435898038769998,
          4.830789844596273,
          6.0583777026696275,
          5.290213007187099,
          4.452344865039012,
          7.84555094347261,
          5.9961341989274475,
          6.674776806730233,
          3.7647664056414354,
          5.655908640263823,
          5.036215388549435,
          5.051261784832094,
          6.281464225675762,
          4.286083326733645,
          4.327875642643048,
          5.822025142945507,
          5.941896804118523,
          5.840112810227351,
          7.759855113330277,
          5.504905430963708,
          3.7596350704409494,
          5.922722237320366,
          5.827986818217276,
          5.3294928901279395,
          5.057276403711587,
          5.706681290834553,
          4.687616182762596,
          4.714538725811604,
          4.023852925197122,
          6.592606250469828
         ],
         "y": [
          -9.022661771516429,
          -8.778909132023031,
          -9.120307932274338,
          -9.537790445167552,
          -10.131194181905569,
          -8.441029726162434,
          -8.361954962771796,
          -8.608568439541417,
          -8.63861564047627,
          -8.365088879674241,
          -9.504603364326313,
          -9.109272697622954,
          -8.695276420340221,
          -7.62136301856045,
          -8.516147381097287,
          -9.022789780091863,
          -7.447844752974483,
          -7.999712017121086,
          -9.436772783985079,
          -9.124811892774348,
          -8.552332480787253,
          -8.759972440494742,
          -8.215827168293096,
          -8.544131419977395,
          -9.215844356060435,
          -9.509732593152568,
          -9.260715020886943,
          -8.797013783809607,
          -8.10483743823815,
          -8.744213861410682,
          -9.312431777973153,
          -10.120104737678034,
          -8.584432396270252,
          -10.597115964735538,
          -8.94323147210867,
          -8.924831434945036,
          -8.780766026621974,
          -7.738876188918004,
          -9.390973315522144,
          -9.627653872039998,
          -9.094240897153899,
          -8.663632918967343,
          -9.123725426418007,
          -9.692582136865063,
          -8.209366239442243,
          -8.579086429806914,
          -7.266177553573809,
          -9.140755698898932,
          -9.698487448604798,
          -10.83950842335,
          -8.735289089393108,
          -9.029528695856396,
          -7.832624449665454,
          -7.328071082399873,
          -9.605923269429974,
          -10.747278446615432,
          -8.753418824056594,
          -10.507010027686256,
          -9.955007162391215,
          -7.670420648623989,
          -10.23809826698785,
          -9.313907013318383,
          -9.031633962809192,
          -8.498436205023753,
          -8.254356566278528,
          -7.986059536659989,
          -9.278171316500584,
          -8.225813955945362,
          -9.008119638674554,
          -9.85389456078578,
          -7.4101483220342415
         ]
        },
        {
         "mode": "markers",
         "name": "22[[False]\n [False]\n [ True]]",
         "type": "scatter",
         "visible": true,
         "x": [
          2.9367866908073266,
          0.7688076385238971,
          2.4266595083404265,
          3.102614641671934,
          2.9004660534826856,
          2.2545967026874862,
          2.6165919580745736,
          3.2741243856137037,
          2.1747225873495584,
          3.165010346706949,
          2.718825391620266,
          1.241407439317739,
          3.5220517505707147,
          2.837291884698568,
          3.0791792725724196,
          3.0036474948817085,
          2.22399516237586,
          2.664134001785728,
          2.180686084022836,
          2.45459917636471,
          2.998235397200629,
          2.7225467568450568,
          2.901506848591621,
          2.155871031189173,
          2.515274771007876,
          1.6186328029284183,
          3.3799619816715616,
          2.5613331309697798,
          3.1983065445218424,
          2.7711631001729375,
          2.5718286347668196,
          3.283068378669256,
          0.9885469879190321,
          3.617085727706247,
          3.5662433865300827,
          1.9626616531714296,
          2.7856413897165258,
          2.722782645831389,
          1.3075109507082774,
          3.5213408762341927,
          2.9025023251847926,
          2.094318903576375,
          2.5762914858262005,
          2.1540006627336403,
          3.0598147779524867,
          1.5129788444783339,
          2.5472872636285726,
          2.5547839077912675,
          0.9070878769418502,
          2.4795522964913945,
          3.0493546637114237,
          2.8085716479718537,
          3.6156715250422504,
          2.5875261535288683,
          3.6136196657252357,
          0.8252241345741542,
          3.1943062279295207
         ],
         "y": [
          -7.800482261924343,
          -8.736896516253308,
          -7.70722984283353,
          -6.761433295113533,
          -8.460126171829895,
          -7.716788903487477,
          -7.566229399089396,
          -7.674795249719362,
          -7.065518924210838,
          -7.494773295866701,
          -7.577431261721549,
          -8.390119335302,
          -7.25657653797962,
          -8.999773791842538,
          -7.939183559986695,
          -8.390497093713043,
          -7.4994721226594585,
          -7.01751625741873,
          -9.11452935316906,
          -9.08668147835955,
          -8.765232487810428,
          -7.732157207188195,
          -8.921189930217821,
          -7.146820419512385,
          -8.050853096619225,
          -7.2986922682061355,
          -7.904356174830576,
          -6.8497497586374685,
          -8.23998149260091,
          -7.051523227361745,
          -8.154058059046028,
          -8.31662720203312,
          -8.583936747184937,
          -6.866090547329524,
          -7.203780535760959,
          -7.0455252630039595,
          -7.199135713065188,
          -8.99635179262606,
          -7.678304659235107,
          -7.384365741809911,
          -8.17797142192385,
          -6.8083518065444135,
          -7.656595753506575,
          -7.723675146019041,
          -7.590379040573295,
          -7.590441061726374,
          -7.738794965109756,
          -8.486182726343912,
          -7.807591755934534,
          -7.838352277891745,
          -7.426473958488543,
          -8.22750312862149,
          -7.031441707834584,
          -7.8826317359588804,
          -6.6787906058649344,
          -9.109570989763428,
          -7.505926708971918
         ]
        },
        {
         "mode": "markers",
         "name": "22[[ True]\n [False]\n [ True]]",
         "type": "scatter",
         "visible": true,
         "x": [
          2.4485059236731654,
          3.5903116372385115,
          2.9328884158595114,
          3.632173389316385,
          3.106028752579255,
          3.9678035757570136,
          2.4168638856479285,
          3.7042960626645547,
          3.4343611732560353,
          2.9064047934151582,
          3.996393559070872,
          3.4762782848623672,
          3.9634158110460147,
          2.6924596751585725,
          3.4225433648026238
         ],
         "y": [
          -10.428354171915785,
          -8.13030967609523,
          -9.104107032873971,
          -8.361998186358381,
          -8.83642550506371,
          -7.637985457069585,
          -10.039190566946427,
          -7.713187312597413,
          -8.200679703883047,
          -9.005448863140199,
          -7.85885457282817,
          -8.353451856087291,
          -7.10436984420663,
          -9.858514762506694,
          -8.575711073252396
         ]
        },
        {
         "mode": "markers",
         "name": "20[[ True]\n [False]\n [False]]",
         "type": "scatter",
         "visible": true,
         "x": [
          4.7087707769070075,
          4.073414450246215,
          4.331005341002378,
          5.717918243947825,
          4.823241874130915,
          3.73197256677327,
          4.543083167032843,
          3.8993182954580514,
          3.3301460899883644,
          4.331249322521684
         ],
         "y": [
          -7.96348015443755,
          -8.678000004734532,
          -8.375458676082168,
          -8.995277626410369,
          -8.143038147549703,
          -10.000405491401121,
          -7.793333138098525,
          -9.685640808360766,
          -10.333822769772356,
          -8.29121614976545
         ]
        },
        {
         "mode": "markers",
         "name": "00[[ True]\n [False]\n [ True]]",
         "type": "scatter",
         "visible": true,
         "x": [
          4.023224239788187,
          3.6407477585171333,
          4.428667029853226,
          4.721134605159546,
          4.31464901331134,
          3.782242120868294,
          4.590942894213054,
          4.02345286272992
         ],
         "y": [
          -8.369738165160827,
          -9.004442137987066,
          -7.792480210013162,
          -6.5929815479439275,
          -7.81188969108752,
          -8.958436750940923,
          -7.484589344896559,
          -8.254120790530006
         ]
        },
        {
         "mode": "markers",
         "name": "20[[ True]\n [False]\n [ True]]",
         "type": "scatter",
         "visible": true,
         "x": [
          4.309795766769133,
          3.6705792784593325,
          3.6335158985988087,
          4.131377087461816,
          3.954360222687943,
          3.3585264689051137
         ],
         "y": [
          -7.6332995727186255,
          -8.517679769559871,
          -8.875265254090314,
          -8.236095578591378,
          -8.565455824152437,
          -9.115149181292185
         ]
        },
        {
         "mode": "markers",
         "name": "02[[ True]\n [False]\n [ True]]",
         "type": "scatter",
         "visible": true,
         "x": [
          4.374194416469225,
          3.81734335148052,
          4.353130871427176,
          3.506418535497871
         ],
         "y": [
          -6.937284230643073,
          -7.6059615398887175,
          -7.1571618939515105,
          -8.057573535974653
         ]
        },
        {
         "mode": "markers",
         "name": "02[[False]\n [False]\n [ True]]",
         "type": "scatter",
         "visible": "legendonly",
         "x": [
          3.212341531268424
         ],
         "y": [
          -8.32275585930685
         ]
        }
       ],
       "layout": {
        "autosize": true,
        "template": {
         "data": {
          "bar": [
           {
            "error_x": {
             "color": "#2a3f5f"
            },
            "error_y": {
             "color": "#2a3f5f"
            },
            "marker": {
             "line": {
              "color": "#E5ECF6",
              "width": 0.5
             },
             "pattern": {
              "fillmode": "overlay",
              "size": 10,
              "solidity": 0.2
             }
            },
            "type": "bar"
           }
          ],
          "barpolar": [
           {
            "marker": {
             "line": {
              "color": "#E5ECF6",
              "width": 0.5
             },
             "pattern": {
              "fillmode": "overlay",
              "size": 10,
              "solidity": 0.2
             }
            },
            "type": "barpolar"
           }
          ],
          "carpet": [
           {
            "aaxis": {
             "endlinecolor": "#2a3f5f",
             "gridcolor": "white",
             "linecolor": "white",
             "minorgridcolor": "white",
             "startlinecolor": "#2a3f5f"
            },
            "baxis": {
             "endlinecolor": "#2a3f5f",
             "gridcolor": "white",
             "linecolor": "white",
             "minorgridcolor": "white",
             "startlinecolor": "#2a3f5f"
            },
            "type": "carpet"
           }
          ],
          "choropleth": [
           {
            "colorbar": {
             "outlinewidth": 0,
             "ticks": ""
            },
            "type": "choropleth"
           }
          ],
          "contour": [
           {
            "colorbar": {
             "outlinewidth": 0,
             "ticks": ""
            },
            "colorscale": [
             [
              0,
              "#0d0887"
             ],
             [
              0.1111111111111111,
              "#46039f"
             ],
             [
              0.2222222222222222,
              "#7201a8"
             ],
             [
              0.3333333333333333,
              "#9c179e"
             ],
             [
              0.4444444444444444,
              "#bd3786"
             ],
             [
              0.5555555555555556,
              "#d8576b"
             ],
             [
              0.6666666666666666,
              "#ed7953"
             ],
             [
              0.7777777777777778,
              "#fb9f3a"
             ],
             [
              0.8888888888888888,
              "#fdca26"
             ],
             [
              1,
              "#f0f921"
             ]
            ],
            "type": "contour"
           }
          ],
          "contourcarpet": [
           {
            "colorbar": {
             "outlinewidth": 0,
             "ticks": ""
            },
            "type": "contourcarpet"
           }
          ],
          "heatmap": [
           {
            "colorbar": {
             "outlinewidth": 0,
             "ticks": ""
            },
            "colorscale": [
             [
              0,
              "#0d0887"
             ],
             [
              0.1111111111111111,
              "#46039f"
             ],
             [
              0.2222222222222222,
              "#7201a8"
             ],
             [
              0.3333333333333333,
              "#9c179e"
             ],
             [
              0.4444444444444444,
              "#bd3786"
             ],
             [
              0.5555555555555556,
              "#d8576b"
             ],
             [
              0.6666666666666666,
              "#ed7953"
             ],
             [
              0.7777777777777778,
              "#fb9f3a"
             ],
             [
              0.8888888888888888,
              "#fdca26"
             ],
             [
              1,
              "#f0f921"
             ]
            ],
            "type": "heatmap"
           }
          ],
          "heatmapgl": [
           {
            "colorbar": {
             "outlinewidth": 0,
             "ticks": ""
            },
            "colorscale": [
             [
              0,
              "#0d0887"
             ],
             [
              0.1111111111111111,
              "#46039f"
             ],
             [
              0.2222222222222222,
              "#7201a8"
             ],
             [
              0.3333333333333333,
              "#9c179e"
             ],
             [
              0.4444444444444444,
              "#bd3786"
             ],
             [
              0.5555555555555556,
              "#d8576b"
             ],
             [
              0.6666666666666666,
              "#ed7953"
             ],
             [
              0.7777777777777778,
              "#fb9f3a"
             ],
             [
              0.8888888888888888,
              "#fdca26"
             ],
             [
              1,
              "#f0f921"
             ]
            ],
            "type": "heatmapgl"
           }
          ],
          "histogram": [
           {
            "marker": {
             "pattern": {
              "fillmode": "overlay",
              "size": 10,
              "solidity": 0.2
             }
            },
            "type": "histogram"
           }
          ],
          "histogram2d": [
           {
            "colorbar": {
             "outlinewidth": 0,
             "ticks": ""
            },
            "colorscale": [
             [
              0,
              "#0d0887"
             ],
             [
              0.1111111111111111,
              "#46039f"
             ],
             [
              0.2222222222222222,
              "#7201a8"
             ],
             [
              0.3333333333333333,
              "#9c179e"
             ],
             [
              0.4444444444444444,
              "#bd3786"
             ],
             [
              0.5555555555555556,
              "#d8576b"
             ],
             [
              0.6666666666666666,
              "#ed7953"
             ],
             [
              0.7777777777777778,
              "#fb9f3a"
             ],
             [
              0.8888888888888888,
              "#fdca26"
             ],
             [
              1,
              "#f0f921"
             ]
            ],
            "type": "histogram2d"
           }
          ],
          "histogram2dcontour": [
           {
            "colorbar": {
             "outlinewidth": 0,
             "ticks": ""
            },
            "colorscale": [
             [
              0,
              "#0d0887"
             ],
             [
              0.1111111111111111,
              "#46039f"
             ],
             [
              0.2222222222222222,
              "#7201a8"
             ],
             [
              0.3333333333333333,
              "#9c179e"
             ],
             [
              0.4444444444444444,
              "#bd3786"
             ],
             [
              0.5555555555555556,
              "#d8576b"
             ],
             [
              0.6666666666666666,
              "#ed7953"
             ],
             [
              0.7777777777777778,
              "#fb9f3a"
             ],
             [
              0.8888888888888888,
              "#fdca26"
             ],
             [
              1,
              "#f0f921"
             ]
            ],
            "type": "histogram2dcontour"
           }
          ],
          "mesh3d": [
           {
            "colorbar": {
             "outlinewidth": 0,
             "ticks": ""
            },
            "type": "mesh3d"
           }
          ],
          "parcoords": [
           {
            "line": {
             "colorbar": {
              "outlinewidth": 0,
              "ticks": ""
             }
            },
            "type": "parcoords"
           }
          ],
          "pie": [
           {
            "automargin": true,
            "type": "pie"
           }
          ],
          "scatter": [
           {
            "fillpattern": {
             "fillmode": "overlay",
             "size": 10,
             "solidity": 0.2
            },
            "type": "scatter"
           }
          ],
          "scatter3d": [
           {
            "line": {
             "colorbar": {
              "outlinewidth": 0,
              "ticks": ""
             }
            },
            "marker": {
             "colorbar": {
              "outlinewidth": 0,
              "ticks": ""
             }
            },
            "type": "scatter3d"
           }
          ],
          "scattercarpet": [
           {
            "marker": {
             "colorbar": {
              "outlinewidth": 0,
              "ticks": ""
             }
            },
            "type": "scattercarpet"
           }
          ],
          "scattergeo": [
           {
            "marker": {
             "colorbar": {
              "outlinewidth": 0,
              "ticks": ""
             }
            },
            "type": "scattergeo"
           }
          ],
          "scattergl": [
           {
            "marker": {
             "colorbar": {
              "outlinewidth": 0,
              "ticks": ""
             }
            },
            "type": "scattergl"
           }
          ],
          "scattermapbox": [
           {
            "marker": {
             "colorbar": {
              "outlinewidth": 0,
              "ticks": ""
             }
            },
            "type": "scattermapbox"
           }
          ],
          "scatterpolar": [
           {
            "marker": {
             "colorbar": {
              "outlinewidth": 0,
              "ticks": ""
             }
            },
            "type": "scatterpolar"
           }
          ],
          "scatterpolargl": [
           {
            "marker": {
             "colorbar": {
              "outlinewidth": 0,
              "ticks": ""
             }
            },
            "type": "scatterpolargl"
           }
          ],
          "scatterternary": [
           {
            "marker": {
             "colorbar": {
              "outlinewidth": 0,
              "ticks": ""
             }
            },
            "type": "scatterternary"
           }
          ],
          "surface": [
           {
            "colorbar": {
             "outlinewidth": 0,
             "ticks": ""
            },
            "colorscale": [
             [
              0,
              "#0d0887"
             ],
             [
              0.1111111111111111,
              "#46039f"
             ],
             [
              0.2222222222222222,
              "#7201a8"
             ],
             [
              0.3333333333333333,
              "#9c179e"
             ],
             [
              0.4444444444444444,
              "#bd3786"
             ],
             [
              0.5555555555555556,
              "#d8576b"
             ],
             [
              0.6666666666666666,
              "#ed7953"
             ],
             [
              0.7777777777777778,
              "#fb9f3a"
             ],
             [
              0.8888888888888888,
              "#fdca26"
             ],
             [
              1,
              "#f0f921"
             ]
            ],
            "type": "surface"
           }
          ],
          "table": [
           {
            "cells": {
             "fill": {
              "color": "#EBF0F8"
             },
             "line": {
              "color": "white"
             }
            },
            "header": {
             "fill": {
              "color": "#C8D4E3"
             },
             "line": {
              "color": "white"
             }
            },
            "type": "table"
           }
          ]
         },
         "layout": {
          "annotationdefaults": {
           "arrowcolor": "#2a3f5f",
           "arrowhead": 0,
           "arrowwidth": 1
          },
          "autotypenumbers": "strict",
          "coloraxis": {
           "colorbar": {
            "outlinewidth": 0,
            "ticks": ""
           }
          },
          "colorscale": {
           "diverging": [
            [
             0,
             "#8e0152"
            ],
            [
             0.1,
             "#c51b7d"
            ],
            [
             0.2,
             "#de77ae"
            ],
            [
             0.3,
             "#f1b6da"
            ],
            [
             0.4,
             "#fde0ef"
            ],
            [
             0.5,
             "#f7f7f7"
            ],
            [
             0.6,
             "#e6f5d0"
            ],
            [
             0.7,
             "#b8e186"
            ],
            [
             0.8,
             "#7fbc41"
            ],
            [
             0.9,
             "#4d9221"
            ],
            [
             1,
             "#276419"
            ]
           ],
           "sequential": [
            [
             0,
             "#0d0887"
            ],
            [
             0.1111111111111111,
             "#46039f"
            ],
            [
             0.2222222222222222,
             "#7201a8"
            ],
            [
             0.3333333333333333,
             "#9c179e"
            ],
            [
             0.4444444444444444,
             "#bd3786"
            ],
            [
             0.5555555555555556,
             "#d8576b"
            ],
            [
             0.6666666666666666,
             "#ed7953"
            ],
            [
             0.7777777777777778,
             "#fb9f3a"
            ],
            [
             0.8888888888888888,
             "#fdca26"
            ],
            [
             1,
             "#f0f921"
            ]
           ],
           "sequentialminus": [
            [
             0,
             "#0d0887"
            ],
            [
             0.1111111111111111,
             "#46039f"
            ],
            [
             0.2222222222222222,
             "#7201a8"
            ],
            [
             0.3333333333333333,
             "#9c179e"
            ],
            [
             0.4444444444444444,
             "#bd3786"
            ],
            [
             0.5555555555555556,
             "#d8576b"
            ],
            [
             0.6666666666666666,
             "#ed7953"
            ],
            [
             0.7777777777777778,
             "#fb9f3a"
            ],
            [
             0.8888888888888888,
             "#fdca26"
            ],
            [
             1,
             "#f0f921"
            ]
           ]
          },
          "colorway": [
           "#636efa",
           "#EF553B",
           "#00cc96",
           "#ab63fa",
           "#FFA15A",
           "#19d3f3",
           "#FF6692",
           "#B6E880",
           "#FF97FF",
           "#FECB52"
          ],
          "font": {
           "color": "#2a3f5f"
          },
          "geo": {
           "bgcolor": "white",
           "lakecolor": "white",
           "landcolor": "#E5ECF6",
           "showlakes": true,
           "showland": true,
           "subunitcolor": "white"
          },
          "hoverlabel": {
           "align": "left"
          },
          "hovermode": "closest",
          "mapbox": {
           "style": "light"
          },
          "paper_bgcolor": "white",
          "plot_bgcolor": "#E5ECF6",
          "polar": {
           "angularaxis": {
            "gridcolor": "white",
            "linecolor": "white",
            "ticks": ""
           },
           "bgcolor": "#E5ECF6",
           "radialaxis": {
            "gridcolor": "white",
            "linecolor": "white",
            "ticks": ""
           }
          },
          "scene": {
           "xaxis": {
            "backgroundcolor": "#E5ECF6",
            "gridcolor": "white",
            "gridwidth": 2,
            "linecolor": "white",
            "showbackground": true,
            "ticks": "",
            "zerolinecolor": "white"
           },
           "yaxis": {
            "backgroundcolor": "#E5ECF6",
            "gridcolor": "white",
            "gridwidth": 2,
            "linecolor": "white",
            "showbackground": true,
            "ticks": "",
            "zerolinecolor": "white"
           },
           "zaxis": {
            "backgroundcolor": "#E5ECF6",
            "gridcolor": "white",
            "gridwidth": 2,
            "linecolor": "white",
            "showbackground": true,
            "ticks": "",
            "zerolinecolor": "white"
           }
          },
          "shapedefaults": {
           "line": {
            "color": "#2a3f5f"
           }
          },
          "ternary": {
           "aaxis": {
            "gridcolor": "white",
            "linecolor": "white",
            "ticks": ""
           },
           "baxis": {
            "gridcolor": "white",
            "linecolor": "white",
            "ticks": ""
           },
           "bgcolor": "#E5ECF6",
           "caxis": {
            "gridcolor": "white",
            "linecolor": "white",
            "ticks": ""
           }
          },
          "title": {
           "x": 0.05
          },
          "xaxis": {
           "automargin": true,
           "gridcolor": "white",
           "linecolor": "white",
           "ticks": "",
           "title": {
            "standoff": 15
           },
           "zerolinecolor": "white",
           "zerolinewidth": 2
          },
          "yaxis": {
           "automargin": true,
           "gridcolor": "white",
           "linecolor": "white",
           "ticks": "",
           "title": {
            "standoff": 15
           },
           "zerolinecolor": "white",
           "zerolinewidth": 2
          }
         }
        },
        "xaxis": {
         "autorange": true,
         "range": [
          0.1789001248883535,
          10.91986847352119
         ],
         "type": "linear"
        },
        "yaxis": {
         "autorange": true,
         "range": [
          -11.903060939975479,
          3.111798118266557
         ],
         "type": "linear"
        }
       }
      },
      "image/png": "[encoded data removed]",
      "text/html": [
       "<div>                            <div id=\"476474a5-37ac-4086-bb10-b6a48b67c104\" class=\"plotly-graph-div\" style=\"height:525px; width:100%;\"></div>            <script type=\"text/javascript\">                require([\"plotly\"], function(Plotly) {                    window.PLOTLYENV=window.PLOTLYENV || {};                                    if (document.getElementById(\"476474a5-37ac-4086-bb10-b6a48b67c104\")) {                    Plotly.newPlot(                        \"476474a5-37ac-4086-bb10-b6a48b67c104\",                        [{\"mode\":\"markers\",\"name\":\"11[[False]\\n [ True]\\n [False]]\",\"x\":[7.055264894544747,6.999822532788892,7.462809795400473,8.281131947757727,7.640979959489123,10.329960959885646,9.813383437718384,7.409164505984071,9.293542267379529,8.563346342374581,8.187314492815796,8.3054801898684,8.875415124224581,7.665807843442865,9.176635912882407,8.853431622527882,9.28838470034897,8.835054145674485,7.805585962901441,9.209921173085046,8.807971303721533,9.787269390255897,8.533898354018078,6.72832758893883,9.51257256133256,10.293709577365838,7.160113273391671,9.226393685802629,7.9611519432237365,8.32238593510556,8.998747337455155,9.469176248692543,9.608568355455867,9.040480463860284,7.340872057136712,8.055064912827088,9.687547840884728,6.784182850974481,9.12846584591008,8.047257549991057,10.011845954944746,6.535990329989607,8.020248130950872,7.742814374353712,9.434964547181796,6.635785155759196,8.26981982329156,10.253873170897139,10.273106036136937,8.898624583305526,9.057422672828782,7.755920184463655,6.2866205966192705,6.792309876243921,8.58374562392162,8.495425262135784,9.957069896310715,7.2169007675213255,8.704803766637262,8.06326237013548,7.774079331971868,7.883217916647037,8.081161105252264,7.538174113777697,7.3736463354547634,9.647300412610637,8.361146843831717,8.99110616126703,8.329206346952686,8.330398146348946,8.424542547015008,8.674322635306572,7.738762049454885,8.027364656217488,8.8098776823666,6.37113169764804,7.425358894945243,8.547617011247771],\"y\":[0.022935211370723213,0.21652998604168078,-0.7468927765867013,-1.1137963545233698,-0.2800225974947762,-0.7642688535596063,0.10098049933185402,0.06918639512542366,0.896819453817765,1.044819148413197,-0.7422555318996195,-1.0457328437397055,-1.0917152289216892,-0.39579923326894595,-1.0327335047013824,-0.08096874610577992,0.7777994619661305,0.33047502933434375,-0.7192820086552558,0.9546270731062518,-0.6949399549906098,-0.12031353303218043,0.16390572103810414,-1.256270819823688,-1.0961201273074241,1.3481705080250062,1.5081805736141585,0.09406506276712079,-0.4858555481113788,-0.3217195001106177,0.6105719889107012,0.7119429034901423,0.30318751295983215,1.0923747998258762,1.1892066351602766,0.8194392479747933,1.6953264452990098,0.3524530471901109,-0.9383663134853087,-0.8152826011832609,-0.044804212600536006,-0.9068432311048673,1.4677897077085047,-0.5792464156647967,0.1902806196259546,-1.0483448628739032,-0.3579954842624498,1.0477115785955764,0.2959272293087541,-1.4617482592871454,-0.8353273934488508,0.7820819157583205,0.7169404834885881,-0.6407863785477129,-2.408064426795049,-0.06462053010546638,-0.4611647807541319,1.4418990667546945,0.004276548538192926,0.5657269398443041,1.3937483344504649,0.8617489184366386,-0.401912678879371,-0.40323289383345096,-0.2147208230872449,-0.29705972662430624,1.105519975480918,-0.6381067517008028,0.355592962230368,-2.112399796567614,-0.8502763408383723,0.9848774567184349,-0.20240932513465876,2.0482456016410793,-0.18876647252178322,-1.5045042173596996,-0.5472567993763391,-1.7659526163324775],\"type\":\"scatter\"},{\"mode\":\"markers\",\"name\":\"00[[ True]\\n [False]\\n [False]]\",\"x\":[5.140578246094668,5.088930436596553,5.858851894070714,4.486451277374932,4.824268069474858,4.847208678356342,6.3222043552193,4.683341246420127,5.937679542849231,6.296901000679215,3.781904633746972,5.335511993930901,5.0805870066767485,5.143302968071901,6.867273945361729,6.788423775875879,5.319233926243831,6.624612905512427,4.383296606980264,7.0691959866565846,4.50261756350037,5.507912222547551,5.366932730353058,4.720884140044935,3.9474196196816127,4.584398328779894,4.681547764554801,4.447935488899828,4.512272807782362,5.383654500151361,4.625691305418397,4.120316343314607,5.897032745193563,5.3907874503525015,4.765379120638172,5.098837415676507,4.38815669475641,4.694429936343576,5.762173542851288,4.763299101758341,4.886612251023374,4.435898038769998,4.830789844596273,6.0583777026696275,5.290213007187099,4.452344865039012,7.84555094347261,5.9961341989274475,6.674776806730233,3.7647664056414354,5.655908640263823,5.036215388549435,5.051261784832094,6.281464225675762,4.286083326733645,4.327875642643048,5.822025142945507,5.941896804118523,5.840112810227351,7.759855113330277,5.504905430963708,3.7596350704409494,5.922722237320366,5.827986818217276,5.3294928901279395,5.057276403711587,5.706681290834553,4.687616182762596,4.714538725811604,4.023852925197122,6.592606250469828],\"y\":[-9.022661771516429,-8.778909132023031,-9.120307932274338,-9.537790445167552,-10.131194181905569,-8.441029726162434,-8.361954962771796,-8.608568439541417,-8.63861564047627,-8.365088879674241,-9.504603364326313,-9.109272697622954,-8.695276420340221,-7.62136301856045,-8.516147381097287,-9.022789780091863,-7.447844752974483,-7.999712017121086,-9.436772783985079,-9.124811892774348,-8.552332480787253,-8.759972440494742,-8.215827168293096,-8.544131419977395,-9.215844356060435,-9.509732593152568,-9.260715020886943,-8.797013783809607,-8.10483743823815,-8.744213861410682,-9.312431777973153,-10.120104737678034,-8.584432396270252,-10.597115964735538,-8.94323147210867,-8.924831434945036,-8.780766026621974,-7.738876188918004,-9.390973315522144,-9.627653872039998,-9.094240897153899,-8.663632918967343,-9.123725426418007,-9.692582136865063,-8.209366239442243,-8.579086429806914,-7.266177553573809,-9.140755698898932,-9.698487448604798,-10.83950842335,-8.735289089393108,-9.029528695856396,-7.832624449665454,-7.328071082399873,-9.605923269429974,-10.747278446615432,-8.753418824056594,-10.507010027686256,-9.955007162391215,-7.670420648623989,-10.23809826698785,-9.313907013318383,-9.031633962809192,-8.498436205023753,-8.254356566278528,-7.986059536659989,-9.278171316500584,-8.225813955945362,-9.008119638674554,-9.85389456078578,-7.4101483220342415],\"type\":\"scatter\"},{\"mode\":\"markers\",\"name\":\"22[[False]\\n [False]\\n [ True]]\",\"x\":[2.9367866908073266,0.7688076385238971,2.4266595083404265,3.102614641671934,2.9004660534826856,2.2545967026874862,2.6165919580745736,3.2741243856137037,2.1747225873495584,3.165010346706949,2.718825391620266,1.241407439317739,3.5220517505707147,2.837291884698568,3.0791792725724196,3.0036474948817085,2.22399516237586,2.664134001785728,2.180686084022836,2.45459917636471,2.998235397200629,2.7225467568450568,2.901506848591621,2.155871031189173,2.515274771007876,1.6186328029284183,3.3799619816715616,2.5613331309697798,3.1983065445218424,2.7711631001729375,2.5718286347668196,3.283068378669256,0.9885469879190321,3.617085727706247,3.5662433865300827,1.9626616531714296,2.7856413897165258,2.722782645831389,1.3075109507082774,3.5213408762341927,2.9025023251847926,2.094318903576375,2.5762914858262005,2.1540006627336403,3.0598147779524867,1.5129788444783339,2.5472872636285726,2.5547839077912675,0.9070878769418502,2.4795522964913945,3.0493546637114237,2.8085716479718537,3.6156715250422504,2.5875261535288683,3.6136196657252357,0.8252241345741542,3.1943062279295207],\"y\":[-7.800482261924343,-8.736896516253308,-7.70722984283353,-6.761433295113533,-8.460126171829895,-7.716788903487477,-7.566229399089396,-7.674795249719362,-7.065518924210838,-7.494773295866701,-7.577431261721549,-8.390119335302,-7.25657653797962,-8.999773791842538,-7.939183559986695,-8.390497093713043,-7.4994721226594585,-7.01751625741873,-9.11452935316906,-9.08668147835955,-8.765232487810428,-7.732157207188195,-8.921189930217821,-7.146820419512385,-8.050853096619225,-7.2986922682061355,-7.904356174830576,-6.8497497586374685,-8.23998149260091,-7.051523227361745,-8.154058059046028,-8.31662720203312,-8.583936747184937,-6.866090547329524,-7.203780535760959,-7.0455252630039595,-7.199135713065188,-8.99635179262606,-7.678304659235107,-7.384365741809911,-8.17797142192385,-6.8083518065444135,-7.656595753506575,-7.723675146019041,-7.590379040573295,-7.590441061726374,-7.738794965109756,-8.486182726343912,-7.807591755934534,-7.838352277891745,-7.426473958488543,-8.22750312862149,-7.031441707834584,-7.8826317359588804,-6.6787906058649344,-9.109570989763428,-7.505926708971918],\"type\":\"scatter\"},{\"mode\":\"markers\",\"name\":\"22[[ True]\\n [False]\\n [ True]]\",\"x\":[2.4485059236731654,3.5903116372385115,2.9328884158595114,3.632173389316385,3.106028752579255,3.9678035757570136,2.4168638856479285,3.7042960626645547,3.4343611732560353,2.9064047934151582,3.996393559070872,3.4762782848623672,3.9634158110460147,2.6924596751585725,3.4225433648026238],\"y\":[-10.428354171915785,-8.13030967609523,-9.104107032873971,-8.361998186358381,-8.83642550506371,-7.637985457069585,-10.039190566946427,-7.713187312597413,-8.200679703883047,-9.005448863140199,-7.85885457282817,-8.353451856087291,-7.10436984420663,-9.858514762506694,-8.575711073252396],\"type\":\"scatter\"},{\"mode\":\"markers\",\"name\":\"20[[ True]\\n [False]\\n [False]]\",\"x\":[4.7087707769070075,4.073414450246215,4.331005341002378,5.717918243947825,4.823241874130915,3.73197256677327,4.543083167032843,3.8993182954580514,3.3301460899883644,4.331249322521684],\"y\":[-7.96348015443755,-8.678000004734532,-8.375458676082168,-8.995277626410369,-8.143038147549703,-10.000405491401121,-7.793333138098525,-9.685640808360766,-10.333822769772356,-8.29121614976545],\"type\":\"scatter\"},{\"mode\":\"markers\",\"name\":\"00[[ True]\\n [False]\\n [ True]]\",\"x\":[4.023224239788187,3.6407477585171333,4.428667029853226,4.721134605159546,4.31464901331134,3.782242120868294,4.590942894213054,4.02345286272992],\"y\":[-8.369738165160827,-9.004442137987066,-7.792480210013162,-6.5929815479439275,-7.81188969108752,-8.958436750940923,-7.484589344896559,-8.254120790530006],\"type\":\"scatter\"},{\"mode\":\"markers\",\"name\":\"20[[ True]\\n [False]\\n [ True]]\",\"x\":[4.309795766769133,3.6705792784593325,3.6335158985988087,4.131377087461816,3.954360222687943,3.3585264689051137],\"y\":[-7.6332995727186255,-8.517679769559871,-8.875265254090314,-8.236095578591378,-8.565455824152437,-9.115149181292185],\"type\":\"scatter\"},{\"mode\":\"markers\",\"name\":\"02[[ True]\\n [False]\\n [ True]]\",\"x\":[4.374194416469225,3.81734335148052,4.353130871427176,3.506418535497871],\"y\":[-6.937284230643073,-7.6059615398887175,-7.1571618939515105,-8.057573535974653],\"type\":\"scatter\"},{\"mode\":\"markers\",\"name\":\"02[[False]\\n [False]\\n [ True]]\",\"x\":[3.212341531268424],\"y\":[-8.32275585930685],\"type\":\"scatter\"}],                        {\"template\":{\"data\":{\"histogram2dcontour\":[{\"type\":\"histogram2dcontour\",\"colorbar\":{\"outlinewidth\":0,\"ticks\":\"\"},\"colorscale\":[[0.0,\"#0d0887\"],[0.1111111111111111,\"#46039f\"],[0.2222222222222222,\"#7201a8\"],[0.3333333333333333,\"#9c179e\"],[0.4444444444444444,\"#bd3786\"],[0.5555555555555556,\"#d8576b\"],[0.6666666666666666,\"#ed7953\"],[0.7777777777777778,\"#fb9f3a\"],[0.8888888888888888,\"#fdca26\"],[1.0,\"#f0f921\"]]}],\"choropleth\":[{\"type\":\"choropleth\",\"colorbar\":{\"outlinewidth\":0,\"ticks\":\"\"}}],\"histogram2d\":[{\"type\":\"histogram2d\",\"colorbar\":{\"outlinewidth\":0,\"ticks\":\"\"},\"colorscale\":[[0.0,\"#0d0887\"],[0.1111111111111111,\"#46039f\"],[0.2222222222222222,\"#7201a8\"],[0.3333333333333333,\"#9c179e\"],[0.4444444444444444,\"#bd3786\"],[0.5555555555555556,\"#d8576b\"],[0.6666666666666666,\"#ed7953\"],[0.7777777777777778,\"#fb9f3a\"],[0.8888888888888888,\"#fdca26\"],[1.0,\"#f0f921\"]]}],\"heatmap\":[{\"type\":\"heatmap\",\"colorbar\":{\"outlinewidth\":0,\"ticks\":\"\"},\"colorscale\":[[0.0,\"#0d0887\"],[0.1111111111111111,\"#46039f\"],[0.2222222222222222,\"#7201a8\"],[0.3333333333333333,\"#9c179e\"],[0.4444444444444444,\"#bd3786\"],[0.5555555555555556,\"#d8576b\"],[0.6666666666666666,\"#ed7953\"],[0.7777777777777778,\"#fb9f3a\"],[0.8888888888888888,\"#fdca26\"],[1.0,\"#f0f921\"]]}],\"heatmapgl\":[{\"type\":\"heatmapgl\",\"colorbar\":{\"outlinewidth\":0,\"ticks\":\"\"},\"colorscale\":[[0.0,\"#0d0887\"],[0.1111111111111111,\"#46039f\"],[0.2222222222222222,\"#7201a8\"],[0.3333333333333333,\"#9c179e\"],[0.4444444444444444,\"#bd3786\"],[0.5555555555555556,\"#d8576b\"],[0.6666666666666666,\"#ed7953\"],[0.7777777777777778,\"#fb9f3a\"],[0.8888888888888888,\"#fdca26\"],[1.0,\"#f0f921\"]]}],\"contourcarpet\":[{\"type\":\"contourcarpet\",\"colorbar\":{\"outlinewidth\":0,\"ticks\":\"\"}}],\"contour\":[{\"type\":\"contour\",\"colorbar\":{\"outlinewidth\":0,\"ticks\":\"\"},\"colorscale\":[[0.0,\"#0d0887\"],[0.1111111111111111,\"#46039f\"],[0.2222222222222222,\"#7201a8\"],[0.3333333333333333,\"#9c179e\"],[0.4444444444444444,\"#bd3786\"],[0.5555555555555556,\"#d8576b\"],[0.6666666666666666,\"#ed7953\"],[0.7777777777777778,\"#fb9f3a\"],[0.8888888888888888,\"#fdca26\"],[1.0,\"#f0f921\"]]}],\"surface\":[{\"type\":\"surface\",\"colorbar\":{\"outlinewidth\":0,\"ticks\":\"\"},\"colorscale\":[[0.0,\"#0d0887\"],[0.1111111111111111,\"#46039f\"],[0.2222222222222222,\"#7201a8\"],[0.3333333333333333,\"#9c179e\"],[0.4444444444444444,\"#bd3786\"],[0.5555555555555556,\"#d8576b\"],[0.6666666666666666,\"#ed7953\"],[0.7777777777777778,\"#fb9f3a\"],[0.8888888888888888,\"#fdca26\"],[1.0,\"#f0f921\"]]}],\"mesh3d\":[{\"type\":\"mesh3d\",\"colorbar\":{\"outlinewidth\":0,\"ticks\":\"\"}}],\"scatter\":[{\"fillpattern\":{\"fillmode\":\"overlay\",\"size\":10,\"solidity\":0.2},\"type\":\"scatter\"}],\"parcoords\":[{\"type\":\"parcoords\",\"line\":{\"colorbar\":{\"outlinewidth\":0,\"ticks\":\"\"}}}],\"scatterpolargl\":[{\"type\":\"scatterpolargl\",\"marker\":{\"colorbar\":{\"outlinewidth\":0,\"ticks\":\"\"}}}],\"bar\":[{\"error_x\":{\"color\":\"#2a3f5f\"},\"error_y\":{\"color\":\"#2a3f5f\"},\"marker\":{\"line\":{\"color\":\"#E5ECF6\",\"width\":0.5},\"pattern\":{\"fillmode\":\"overlay\",\"size\":10,\"solidity\":0.2}},\"type\":\"bar\"}],\"scattergeo\":[{\"type\":\"scattergeo\",\"marker\":{\"colorbar\":{\"outlinewidth\":0,\"ticks\":\"\"}}}],\"scatterpolar\":[{\"type\":\"scatterpolar\",\"marker\":{\"colorbar\":{\"outlinewidth\":0,\"ticks\":\"\"}}}],\"histogram\":[{\"marker\":{\"pattern\":{\"fillmode\":\"overlay\",\"size\":10,\"solidity\":0.2}},\"type\":\"histogram\"}],\"scattergl\":[{\"type\":\"scattergl\",\"marker\":{\"colorbar\":{\"outlinewidth\":0,\"ticks\":\"\"}}}],\"scatter3d\":[{\"type\":\"scatter3d\",\"line\":{\"colorbar\":{\"outlinewidth\":0,\"ticks\":\"\"}},\"marker\":{\"colorbar\":{\"outlinewidth\":0,\"ticks\":\"\"}}}],\"scattermapbox\":[{\"type\":\"scattermapbox\",\"marker\":{\"colorbar\":{\"outlinewidth\":0,\"ticks\":\"\"}}}],\"scatterternary\":[{\"type\":\"scatterternary\",\"marker\":{\"colorbar\":{\"outlinewidth\":0,\"ticks\":\"\"}}}],\"scattercarpet\":[{\"type\":\"scattercarpet\",\"marker\":{\"colorbar\":{\"outlinewidth\":0,\"ticks\":\"\"}}}],\"carpet\":[{\"aaxis\":{\"endlinecolor\":\"#2a3f5f\",\"gridcolor\":\"white\",\"linecolor\":\"white\",\"minorgridcolor\":\"white\",\"startlinecolor\":\"#2a3f5f\"},\"baxis\":{\"endlinecolor\":\"#2a3f5f\",\"gridcolor\":\"white\",\"linecolor\":\"white\",\"minorgridcolor\":\"white\",\"startlinecolor\":\"#2a3f5f\"},\"type\":\"carpet\"}],\"table\":[{\"cells\":{\"fill\":{\"color\":\"#EBF0F8\"},\"line\":{\"color\":\"white\"}},\"header\":{\"fill\":{\"color\":\"#C8D4E3\"},\"line\":{\"color\":\"white\"}},\"type\":\"table\"}],\"barpolar\":[{\"marker\":{\"line\":{\"color\":\"#E5ECF6\",\"width\":0.5},\"pattern\":{\"fillmode\":\"overlay\",\"size\":10,\"solidity\":0.2}},\"type\":\"barpolar\"}],\"pie\":[{\"automargin\":true,\"type\":\"pie\"}]},\"layout\":{\"autotypenumbers\":\"strict\",\"colorway\":[\"#636efa\",\"#EF553B\",\"#00cc96\",\"#ab63fa\",\"#FFA15A\",\"#19d3f3\",\"#FF6692\",\"#B6E880\",\"#FF97FF\",\"#FECB52\"],\"font\":{\"color\":\"#2a3f5f\"},\"hovermode\":\"closest\",\"hoverlabel\":{\"align\":\"left\"},\"paper_bgcolor\":\"white\",\"plot_bgcolor\":\"#E5ECF6\",\"polar\":{\"bgcolor\":\"#E5ECF6\",\"angularaxis\":{\"gridcolor\":\"white\",\"linecolor\":\"white\",\"ticks\":\"\"},\"radialaxis\":{\"gridcolor\":\"white\",\"linecolor\":\"white\",\"ticks\":\"\"}},\"ternary\":{\"bgcolor\":\"#E5ECF6\",\"aaxis\":{\"gridcolor\":\"white\",\"linecolor\":\"white\",\"ticks\":\"\"},\"baxis\":{\"gridcolor\":\"white\",\"linecolor\":\"white\",\"ticks\":\"\"},\"caxis\":{\"gridcolor\":\"white\",\"linecolor\":\"white\",\"ticks\":\"\"}},\"coloraxis\":{\"colorbar\":{\"outlinewidth\":0,\"ticks\":\"\"}},\"colorscale\":{\"sequential\":[[0.0,\"#0d0887\"],[0.1111111111111111,\"#46039f\"],[0.2222222222222222,\"#7201a8\"],[0.3333333333333333,\"#9c179e\"],[0.4444444444444444,\"#bd3786\"],[0.5555555555555556,\"#d8576b\"],[0.6666666666666666,\"#ed7953\"],[0.7777777777777778,\"#fb9f3a\"],[0.8888888888888888,\"#fdca26\"],[1.0,\"#f0f921\"]],\"sequentialminus\":[[0.0,\"#0d0887\"],[0.1111111111111111,\"#46039f\"],[0.2222222222222222,\"#7201a8\"],[0.3333333333333333,\"#9c179e\"],[0.4444444444444444,\"#bd3786\"],[0.5555555555555556,\"#d8576b\"],[0.6666666666666666,\"#ed7953\"],[0.7777777777777778,\"#fb9f3a\"],[0.8888888888888888,\"#fdca26\"],[1.0,\"#f0f921\"]],\"diverging\":[[0,\"#8e0152\"],[0.1,\"#c51b7d\"],[0.2,\"#de77ae\"],[0.3,\"#f1b6da\"],[0.4,\"#fde0ef\"],[0.5,\"#f7f7f7\"],[0.6,\"#e6f5d0\"],[0.7,\"#b8e186\"],[0.8,\"#7fbc41\"],[0.9,\"#4d9221\"],[1,\"#276419\"]]},\"xaxis\":{\"gridcolor\":\"white\",\"linecolor\":\"white\",\"ticks\":\"\",\"title\":{\"standoff\":15},\"zerolinecolor\":\"white\",\"automargin\":true,\"zerolinewidth\":2},\"yaxis\":{\"gridcolor\":\"white\",\"linecolor\":\"white\",\"ticks\":\"\",\"title\":{\"standoff\":15},\"zerolinecolor\":\"white\",\"automargin\":true,\"zerolinewidth\":2},\"scene\":{\"xaxis\":{\"backgroundcolor\":\"#E5ECF6\",\"gridcolor\":\"white\",\"linecolor\":\"white\",\"showbackground\":true,\"ticks\":\"\",\"zerolinecolor\":\"white\",\"gridwidth\":2},\"yaxis\":{\"backgroundcolor\":\"#E5ECF6\",\"gridcolor\":\"white\",\"linecolor\":\"white\",\"showbackground\":true,\"ticks\":\"\",\"zerolinecolor\":\"white\",\"gridwidth\":2},\"zaxis\":{\"backgroundcolor\":\"#E5ECF6\",\"gridcolor\":\"white\",\"linecolor\":\"white\",\"showbackground\":true,\"ticks\":\"\",\"zerolinecolor\":\"white\",\"gridwidth\":2}},\"shapedefaults\":{\"line\":{\"color\":\"#2a3f5f\"}},\"annotationdefaults\":{\"arrowcolor\":\"#2a3f5f\",\"arrowhead\":0,\"arrowwidth\":1},\"geo\":{\"bgcolor\":\"white\",\"landcolor\":\"#E5ECF6\",\"subunitcolor\":\"white\",\"showland\":true,\"showlakes\":true,\"lakecolor\":\"white\"},\"title\":{\"x\":0.05},\"mapbox\":{\"style\":\"light\"}}}},                        {\"responsive\": true}                    ).then(function(){\n",
       "                            \n",
       "var gd = document.getElementById('476474a5-37ac-4086-bb10-b6a48b67c104');\n",
       "var x = new MutationObserver(function (mutations, observer) {{\n",
       "        var display = window.getComputedStyle(gd).display;\n",
       "        if (!display || display === 'none') {{\n",
       "            console.log([gd, 'removed!']);\n",
       "            Plotly.purge(gd);\n",
       "            observer.disconnect();\n",
       "        }}\n",
       "}});\n",
       "\n",
       "// Listen for the removal of the full notebook cells\n",
       "var notebookContainer = gd.closest('#notebook-container');\n",
       "if (notebookContainer) {{\n",
       "    x.observe(notebookContainer, {childList: true});\n",
       "}}\n",
       "\n",
       "// Listen for the clearing of the current output cell\n",
       "var outputEl = gd.closest('.output');\n",
       "if (outputEl) {{\n",
       "    x.observe(outputEl, {childList: true});\n",
       "}}\n",
       "\n",
       "                        })                };                });            </script>        </div>"
      ]
     },
     "metadata": {},
     "output_type": "display_data"
    }
   ],
   "source": [
    "fig = go.Figure()\n",
    "\n",
    "for i,s in tmp.color.value_counts().items():\n",
    "    \n",
    "    fig.add_trace(go.Scatter(x=tmp.loc[:,1][tmp.color == i],\n",
    "                         y=tmp.loc[:,0][tmp.color == i],\n",
    "                         name = str(i),    \n",
    "                         mode = \"markers\" ))\n",
    "fig.show()"
   ]
  }
 ],
 "metadata": {
  "kernelspec": {
   "display_name": "Python 3 (ipykernel)",
   "language": "python",
   "name": "python3"
  },
  "language_info": {
   "codemirror_mode": {
    "name": "ipython",
    "version": 3
   },
   "file_extension": ".py",
   "mimetype": "text/x-python",
   "name": "python",
   "nbconvert_exporter": "python",
   "pygments_lexer": "ipython3",
   "version": "3.12.0"
  }
 },
 "nbformat": 4,
 "nbformat_minor": 5
}
